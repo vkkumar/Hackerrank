{
 "cells": [
  {
   "cell_type": "markdown",
   "metadata": {},
   "source": [
    "# Sample Input\n",
    "```\n",
    "1\n",
    "3\n",
    "1 1 2\n",
    "```\n",
    "\n",
    "```\n",
    "1\n",
    "3\n",
    "1 2 3\n",
    "```"
   ]
  },
  {
   "cell_type": "code",
   "execution_count": 40,
   "metadata": {
    "collapsed": false
   },
   "outputs": [
    {
     "name": "stdout",
     "output_type": "stream",
     "text": [
      "1\n",
      "3\n",
      "1 1 2\n",
      "2\n"
     ]
    }
   ],
   "source": [
    "from itertools import permutations\n",
    "\n",
    "def countNumbers(arr):\n",
    "    countDic = {}\n",
    "    for num in arr:\n",
    "        countDic[num] = countDic.get(num, 0) + 1\n",
    "    return countDic\n",
    "\n",
    "t = int(raw_input())\n",
    "\n",
    "for num in xrange(t):\n",
    "    n = int(raw_input())\n",
    "    s = map(int, raw_input().split())\n",
    "    c = countNumbers(s)\n",
    "    count = 0\n",
    "    for n in c.values():\n",
    "        p = permutations(range(n), 2)\n",
    "        count += sum([1 if i else 0 for i in p])\n",
    "    print count"
   ]
  },
  {
   "cell_type": "code",
   "execution_count": 41,
   "metadata": {
    "collapsed": false
   },
   "outputs": [
    {
     "name": "stdout",
     "output_type": "stream",
     "text": [
      "1\n",
      "3\n",
      "1 1 2\n",
      "2\n"
     ]
    }
   ],
   "source": [
    "def countNumbers(arr):\n",
    "    countDic = {}\n",
    "    for num in arr:\n",
    "        countDic[num] = countDic.get(num, 0) + 1\n",
    "    return countDic\n",
    "\n",
    "def permute(n, r=2):\n",
    "    # This problem is a special case and the permutations can be simplified by a simple calculation!\n",
    "    # More efficient for Hackerrank\n",
    "    return n*(n-1)\n",
    "\n",
    "t = int(raw_input())\n",
    "\n",
    "for num in xrange(t):\n",
    "    n = int(raw_input())\n",
    "    s = map(int, raw_input().split())\n",
    "    c = countNumbers(s)\n",
    "    count = 0\n",
    "    for n in c.values():\n",
    "        count += permute(n)\n",
    "    print count"
   ]
  },
  {
   "cell_type": "code",
   "execution_count": null,
   "metadata": {
    "collapsed": true
   },
   "outputs": [],
   "source": []
  }
 ],
 "metadata": {
  "kernelspec": {
   "display_name": "Python 2",
   "language": "python",
   "name": "python2"
  },
  "language_info": {
   "codemirror_mode": {
    "name": "ipython",
    "version": 2
   },
   "file_extension": ".py",
   "mimetype": "text/x-python",
   "name": "python",
   "nbconvert_exporter": "python",
   "pygments_lexer": "ipython2",
   "version": "2.7.11"
  }
 },
 "nbformat": 4,
 "nbformat_minor": 0
}
