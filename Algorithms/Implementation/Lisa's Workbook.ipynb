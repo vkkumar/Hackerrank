{
 "cells": [
  {
   "cell_type": "markdown",
   "metadata": {},
   "source": [
    "[Lisa's Workbook](https://www.hackerrank.com/challenges/bear-and-workbook)"
   ]
  },
  {
   "cell_type": "markdown",
   "metadata": {},
   "source": [
    "Sample Input\n",
    "```\n",
    "5 3  \n",
    "4 2 6 1 10\n",
    "```"
   ]
  },
  {
   "cell_type": "markdown",
   "metadata": {},
   "source": [
    "<img src = 'https://s3.amazonaws.com/hr-challenge-images/17892/1456473832-d122786d1e-bear_workbook.png'>"
   ]
  },
  {
   "cell_type": "code",
   "execution_count": 1,
   "metadata": {
    "collapsed": false
   },
   "outputs": [
    {
     "name": "stdout",
     "output_type": "stream",
     "text": [
      "5 3 \n",
      "4 2 6 1 10\n",
      "4\n"
     ]
    }
   ],
   "source": [
    "n, k = map(int, raw_input().split())\n",
    "\n",
    "p = map(int, raw_input().split())\n",
    "\n",
    "pages = [[]]\n",
    "count = 0\n",
    "\n",
    "for num in p:\n",
    "    probList = range(1, num+1)\n",
    "    leafs = [probList[x:x+k] for x in range(0, num, k)]\n",
    "    pages += leafs\n",
    "\n",
    "for i, leaf in enumerate(pages):\n",
    "    if i in leaf:\n",
    "        count += 1\n",
    "\n",
    "print count"
   ]
  },
  {
   "cell_type": "code",
   "execution_count": null,
   "metadata": {
    "collapsed": true
   },
   "outputs": [],
   "source": []
  }
 ],
 "metadata": {
  "kernelspec": {
   "display_name": "Python 2",
   "language": "python",
   "name": "python2"
  },
  "language_info": {
   "codemirror_mode": {
    "name": "ipython",
    "version": 2
   },
   "file_extension": ".py",
   "mimetype": "text/x-python",
   "name": "python",
   "nbconvert_exporter": "python",
   "pygments_lexer": "ipython2",
   "version": "2.7.11"
  }
 },
 "nbformat": 4,
 "nbformat_minor": 0
}
