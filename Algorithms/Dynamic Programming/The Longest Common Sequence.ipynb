{
 "cells": [
  {
   "cell_type": "code",
   "execution_count": 9,
   "metadata": {
    "collapsed": false
   },
   "outputs": [],
   "source": [
    "x = '1 2 3 4 1'.replace(' ', '')\n",
    "y = '3 4 1 2 1 3'.replace(' ', '')\n",
    "\n",
    "def lcs(str1, str2):\n",
    "    if len(str1) == 0 or len(str2) == 0:\n",
    "        return \"\"\n",
    "    if str1[-1] == str2[-1]:\n",
    "        return lcs(str1[:-1], str2[:-1]) + str1[-1]\n",
    "\n",
    "    t1 = lcs(str1[:-1], str2)\n",
    "    t2 = lcs(str1, str2[:-1])\n",
    "    if len(t1) > len(t2):\n",
    "        return t1\n",
    "    else:\n",
    "        return t2\n",
    "\n",
    "for s in lcs(x, y):\n",
    "    print s,"
   ]
  },
  {
   "cell_type": "code",
   "execution_count": null,
   "metadata": {
    "collapsed": true
   },
   "outputs": [],
   "source": []
  }
 ],
 "metadata": {
  "kernelspec": {
   "display_name": "Python 2",
   "language": "python",
   "name": "python2"
  },
  "language_info": {
   "codemirror_mode": {
    "name": "ipython",
    "version": 2
   },
   "file_extension": ".py",
   "mimetype": "text/x-python",
   "name": "python",
   "nbconvert_exporter": "python",
   "pygments_lexer": "ipython2",
   "version": "2.7.11"
  }
 },
 "nbformat": 4,
 "nbformat_minor": 0
}
