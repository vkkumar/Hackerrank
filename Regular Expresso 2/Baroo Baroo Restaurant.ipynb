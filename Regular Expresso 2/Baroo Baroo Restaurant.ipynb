{
 "cells": [
  {
   "cell_type": "code",
   "execution_count": null,
   "metadata": {
    "collapsed": true
   },
   "outputs": [],
   "source": [
    "import re\n",
    "\n",
    "Regex_Pattern = r'_________'\t# Do not delete 'r'.\n",
    "\n",
    "print(str(bool(re.search(Regex_Pattern, raw_input()))).lower())\n",
    "if len(Regex_Pattern) > 15:\n",
    "\tprint \"Warning : Length of regular expression greater than 15 characters.\""
   ]
  }
 ],
 "metadata": {
  "kernelspec": {
   "display_name": "Python 2",
   "language": "python",
   "name": "python2"
  },
  "language_info": {
   "codemirror_mode": {
    "name": "ipython",
    "version": 2
   },
   "file_extension": ".py",
   "mimetype": "text/x-python",
   "name": "python",
   "nbconvert_exporter": "python",
   "pygments_lexer": "ipython2",
   "version": "2.7.11"
  }
 },
 "nbformat": 4,
 "nbformat_minor": 0
}
