{
 "cells": [
  {
   "cell_type": "code",
   "execution_count": null,
   "metadata": {
    "collapsed": true
   },
   "outputs": [],
   "source": [
    "# Enter your code here. Read input from STDIN. Print output to STDOUT\n",
    "#!/usr/bin/python\n",
    "\n",
    "import itertools\n",
    "import operator\n",
    "\n",
    "def memo(f):\n",
    "    save = {}\n",
    "    def func(*args):\n",
    "        if args in save:\n",
    "            return save[args]\n",
    "        ret = f(*args)\n",
    "        save[args] = ret\n",
    "        return ret\n",
    "    return func\n",
    "\n",
    "\n",
    "getnums = lambda: map(int, raw_input().strip().split())\n",
    "n, m = getnums()\n",
    "le = [ [ x == y for x in xrange(n) ] for y in xrange(n) ]\n",
    "#print le\n",
    "for x in xrange(m):\n",
    "    a, b = getnums()\n",
    "    le[a][b] = 1\n",
    "\n",
    "for k in xrange(n):\n",
    "    for i in xrange(n):\n",
    "        for j in xrange(n):\n",
    "            le[i][j] |= le[i][k] & le[k][j]\n",
    "\n",
    "#print le\n",
    "\n",
    "@memo\n",
    "def subsets(nums):\n",
    "    if len(nums) == 0: return []\n",
    "    a = 1<<nums[0]\n",
    "    ret = [a]\n",
    "    for x in subsets(nums[1:]):\n",
    "        ret.append(x)\n",
    "        ret.append(a|x)\n",
    "    return ret\n",
    "\n",
    "#print subsets((0,1,2))\n",
    "\n",
    "@memo\n",
    "def ok(mask, now):\n",
    "    if mask & (1<<now): return False\n",
    "    for x in xrange(n):\n",
    "        if mask & (1 << x) and le[now][x]:\n",
    "            return False\n",
    "    return True\n",
    "\n",
    "dst = (1 << n) - 1\n",
    "#print bin(dst)\n",
    "@memo\n",
    "def f(mask, lastval):\n",
    "    ret = 0\n",
    "    if mask == dst: return 1\n",
    "    candidates = tuple(x for x in xrange(n) if ok(mask, x))\n",
    "    for x in subsets(candidates):\n",
    "        #print 'chosen', bin(x)\n",
    "        for val in xrange(lastval+1, 10):\n",
    "            ret = (ret + f(mask | x, val)) % 1007\n",
    "    #print bin(mask), lastval, ret\n",
    "    return ret\n",
    "\n",
    "print f(0, -1)\n"
   ]
  },
  {
   "cell_type": "code",
   "execution_count": null,
   "metadata": {
    "collapsed": true
   },
   "outputs": [],
   "source": []
  },
  {
   "cell_type": "code",
   "execution_count": null,
   "metadata": {
    "collapsed": true
   },
   "outputs": [],
   "source": [
    "from sys import *\n",
    "setrecursionlimit(1000000)\n",
    "N, M = [int(x) for x in raw_input().split()]\n",
    "L = range(2**N)\n",
    "for m in range(M):\n",
    "    x,y = [int(x) for x in raw_input().split()]\n",
    "    K = [z for z in L if (z>>x)%2<=(z>>y)%2]\n",
    "    L = K\n",
    "Dic={}\n",
    "def mem(Dic, subset, height):\n",
    "    if Dic.has_key((subset,height)):\n",
    "        return Dic[(subset,height)]%1007\n",
    "    if height==0:\n",
    "        Dic[(subset,height)] = 1\n",
    "        return 1\n",
    "    else:\n",
    "        Dic[(subset,height)] = sum([mem(Dic,x,height-1) for x in L if x|subset ==subset])\n",
    "        return Dic[(subset,height)]%1007\n",
    "print mem(Dic,2**N-1,9)\n",
    "        \n"
   ]
  }
 ],
 "metadata": {
  "kernelspec": {
   "display_name": "Python 2",
   "language": "python",
   "name": "python2"
  },
  "language_info": {
   "codemirror_mode": {
    "name": "ipython",
    "version": 2
   },
   "file_extension": ".py",
   "mimetype": "text/x-python",
   "name": "python",
   "nbconvert_exporter": "python",
   "pygments_lexer": "ipython2",
   "version": "2.7.11"
  }
 },
 "nbformat": 4,
 "nbformat_minor": 0
}
