{
 "cells": [
  {
   "cell_type": "markdown",
   "metadata": {},
   "source": [
    "### Input\n",
    "```\n",
    "5 3\n",
    "89 90 78 93 80\n",
    "90 91 85 88 86\n",
    "91 92 83 89 90.5\n",
    "```"
   ]
  },
  {
   "cell_type": "code",
   "execution_count": 2,
   "metadata": {
    "collapsed": false
   },
   "outputs": [
    {
     "name": "stdout",
     "output_type": "stream",
     "text": [
      "5 3\n",
      "89 90 78 93 80\n",
      "90 91 85 88 86\n",
      "91 92 83 89 90.5\n"
     ]
    }
   ],
   "source": [
    "from __future__ import division\n",
    "\n",
    "n, x = map(int, raw_input().split())\n",
    "\n",
    "markList = []\n",
    "for i in xrange(x):\n",
    "    markList.append(map(float, raw_input().split()))"
   ]
  },
  {
   "cell_type": "code",
   "execution_count": 10,
   "metadata": {
    "collapsed": false
   },
   "outputs": [
    {
     "name": "stdout",
     "output_type": "stream",
     "text": [
      "90.0\n",
      "91.0\n",
      "82.0\n",
      "90.0\n",
      "85.5\n"
     ]
    }
   ],
   "source": [
    "for tup in zip(*markList):\n",
    "    print sum(tup)/float(x)"
   ]
  },
  {
   "cell_type": "code",
   "execution_count": null,
   "metadata": {
    "collapsed": true
   },
   "outputs": [],
   "source": []
  }
 ],
 "metadata": {
  "kernelspec": {
   "display_name": "Python 2",
   "language": "python",
   "name": "python2"
  },
  "language_info": {
   "codemirror_mode": {
    "name": "ipython",
    "version": 2
   },
   "file_extension": ".py",
   "mimetype": "text/x-python",
   "name": "python",
   "nbconvert_exporter": "python",
   "pygments_lexer": "ipython2",
   "version": "2.7.11"
  }
 },
 "nbformat": 4,
 "nbformat_minor": 0
}
