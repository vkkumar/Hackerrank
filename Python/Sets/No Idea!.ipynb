{
 "cells": [
  {
   "cell_type": "code",
   "execution_count": 1,
   "metadata": {
    "collapsed": true
   },
   "outputs": [],
   "source": [
    "with open('./data/input06.txt') as fh:\n",
    "    data = fh.read()\n",
    "fh.close()\n",
    "\n",
    "data = data.split('\\n')"
   ]
  },
  {
   "cell_type": "code",
   "execution_count": 2,
   "metadata": {
    "collapsed": true
   },
   "outputs": [],
   "source": [
    "from collections import Counter"
   ]
  },
  {
   "cell_type": "code",
   "execution_count": 3,
   "metadata": {
    "collapsed": true
   },
   "outputs": [],
   "source": [
    "# n, m = map(int, raw_input().split())\n",
    "# S = Counter(map(int, raw_input().split()))\n",
    "# A = Counter(map(int, raw_input().split()))\n",
    "# B = Counter(map(int, raw_input().split()))"
   ]
  },
  {
   "cell_type": "code",
   "execution_count": 4,
   "metadata": {
    "collapsed": false
   },
   "outputs": [],
   "source": [
    "n, m = map(int, data[0].split(' '))\n",
    "S = Counter(map(int, data[1].split()))\n",
    "A = Counter(map(int, data[2].split()))\n",
    "B = Counter(map(int, data[3].split()))"
   ]
  },
  {
   "cell_type": "code",
   "execution_count": 5,
   "metadata": {
    "collapsed": false
   },
   "outputs": [
    {
     "data": {
      "text/plain": [
       "[(99886010, 4),\n",
       " (99834861, 4),\n",
       " (99626963, 4),\n",
       " (99633656, 4),\n",
       " (99909982, 4),\n",
       " (99710709, 4),\n",
       " (99929915, 4),\n",
       " (99948091, 4),\n",
       " (99691014, 4)]"
      ]
     },
     "execution_count": 5,
     "metadata": {},
     "output_type": "execute_result"
    }
   ],
   "source": [
    "import operator\n",
    "sortedS = sorted(S.items(), key=operator.itemgetter(1), reverse=True)\n",
    "sortedS[0:9]"
   ]
  },
  {
   "cell_type": "code",
   "execution_count": 6,
   "metadata": {
    "collapsed": false
   },
   "outputs": [
    {
     "data": {
      "text/plain": [
       "(8683, 8740)"
      ]
     },
     "execution_count": 6,
     "metadata": {},
     "output_type": "execute_result"
    }
   ],
   "source": [
    "len(S & A), len(S & B)"
   ]
  },
  {
   "cell_type": "code",
   "execution_count": 7,
   "metadata": {
    "collapsed": false
   },
   "outputs": [
    {
     "name": "stdout",
     "output_type": "stream",
     "text": [
      "-100\n"
     ]
    }
   ],
   "source": [
    "positives = [S[x] for x in S & A]\n",
    "negatives = [S[x] for x in S & B]\n",
    "print sum(positives) - sum(negatives)"
   ]
  },
  {
   "cell_type": "markdown",
   "metadata": {},
   "source": [
    "### Solution with Counters/Dictionaries - Times out!"
   ]
  },
  {
   "cell_type": "code",
   "execution_count": 8,
   "metadata": {
    "collapsed": false
   },
   "outputs": [
    {
     "name": "stdout",
     "output_type": "stream",
     "text": [
      "-100\n"
     ]
    }
   ],
   "source": [
    "count = 0\n",
    "for key, value in S.iteritems():\n",
    "    if key in A.keys():\n",
    "        count += S[key]\n",
    "    if key in B.keys():\n",
    "        count -= S[key]\n",
    "print count"
   ]
  },
  {
   "cell_type": "markdown",
   "metadata": {},
   "source": [
    "### Solution with lists - Times out!"
   ]
  },
  {
   "cell_type": "code",
   "execution_count": 9,
   "metadata": {
    "collapsed": true
   },
   "outputs": [],
   "source": [
    "S = map(int, data[1].split())\n",
    "A = map(int, data[2].split())\n",
    "B = map(int, data[3].split())\n",
    "\n",
    "count = [+1 if x in A else -1 if x in B else 0 for x in S]"
   ]
  },
  {
   "cell_type": "code",
   "execution_count": null,
   "metadata": {
    "collapsed": false
   },
   "outputs": [
    {
     "data": {
      "text/plain": [
       "-100"
      ]
     },
     "execution_count": 10,
     "metadata": {},
     "output_type": "execute_result"
    }
   ],
   "source": [
    "sum(count)"
   ]
  },
  {
   "cell_type": "markdown",
   "metadata": {},
   "source": [
    "### Solution with lists - Times out!"
   ]
  },
  {
   "cell_type": "code",
   "execution_count": null,
   "metadata": {
    "collapsed": false
   },
   "outputs": [],
   "source": [
    "n, m = map(int, raw_input().split())\n",
    "S = map(int, raw_input().split())\n",
    "A = map(int, raw_input().split())\n",
    "B = map(int, raw_input().split())\n",
    "\n",
    "print sum([+1 if x in A else -1 if x in B else 0 for x in S])"
   ]
  }
 ],
 "metadata": {
  "kernelspec": {
   "display_name": "Python 2",
   "language": "python",
   "name": "python2"
  },
  "language_info": {
   "codemirror_mode": {
    "name": "ipython",
    "version": 2
   },
   "file_extension": ".py",
   "mimetype": "text/x-python",
   "name": "python",
   "nbconvert_exporter": "python",
   "pygments_lexer": "ipython2",
   "version": "2.7.11"
  }
 },
 "nbformat": 4,
 "nbformat_minor": 0
}
