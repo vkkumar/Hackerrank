{
 "cells": [
  {
   "cell_type": "markdown",
   "metadata": {},
   "source": [
    "[Array Mathematics](https://www.hackerrank.com/challenges/np-array-mathematics)"
   ]
  },
  {
   "cell_type": "code",
   "execution_count": 20,
   "metadata": {
    "collapsed": false
   },
   "outputs": [
    {
     "name": "stdout",
     "output_type": "stream",
     "text": [
      "2 4\n",
      "1 2 3 4\n",
      "1 2 3 4\n",
      "5 6 7 7\n",
      "5 6 7 7\n",
      "[[ 6  8 10 11]\n",
      " [ 6  8 10 11]]\n",
      "[[-4 -4 -4 -3]\n",
      " [-4 -4 -4 -3]]\n",
      "[[ 5 12 21 28]\n",
      " [ 5 12 21 28]]\n",
      "[[0 0 0 0]\n",
      " [0 0 0 0]]\n",
      "[[1 2 3 4]\n",
      " [1 2 3 4]]\n",
      "[[    1    64  2187 16384]\n",
      " [    1    64  2187 16384]]\n"
     ]
    }
   ],
   "source": [
    "import numpy as np\n",
    "\n",
    "n, m = map(int, raw_input().split())\n",
    "A, B = [], []\n",
    "for i in xrange(n):\n",
    "    A.append(np.array(map(int, raw_input().split())))\n",
    "for i in xrange(n):\n",
    "    B.append(np.array(map(int, raw_input().split())))\n",
    "\n",
    "print np.add(A, B)\n",
    "print np.subtract(A, B)\n",
    "print np.multiply(A, B)\n",
    "print np.divide(A, B)\n",
    "print np.mod(A, B)\n",
    "print np.power(A, B)"
   ]
  },
  {
   "cell_type": "code",
   "execution_count": null,
   "metadata": {
    "collapsed": true
   },
   "outputs": [],
   "source": []
  }
 ],
 "metadata": {
  "kernelspec": {
   "display_name": "Python 2",
   "language": "python",
   "name": "python2"
  },
  "language_info": {
   "codemirror_mode": {
    "name": "ipython",
    "version": 2
   },
   "file_extension": ".py",
   "mimetype": "text/x-python",
   "name": "python",
   "nbconvert_exporter": "python",
   "pygments_lexer": "ipython2",
   "version": "2.7.11"
  }
 },
 "nbformat": 4,
 "nbformat_minor": 0
}
