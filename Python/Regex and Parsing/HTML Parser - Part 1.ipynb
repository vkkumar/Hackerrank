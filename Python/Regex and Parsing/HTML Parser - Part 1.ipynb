{
 "cells": [
  {
   "cell_type": "code",
   "execution_count": 1,
   "metadata": {
    "collapsed": true
   },
   "outputs": [],
   "source": [
    "from HTMLParser import HTMLParser\n",
    "\n",
    "# create a subclass and override the handler methods\n",
    "class MyHTMLParser(HTMLParser):\n",
    "    def handle_starttag(self, tag, attrs):\n",
    "        print \"Found a start tag  :\", tag\n",
    "    def handle_endtag(self, tag):\n",
    "        print \"Found an end tag   :\", tag\n",
    "    def handle_startendtag(self, tag, attrs):\n",
    "        print \"Found an empty tag :\", tag"
   ]
  },
  {
   "cell_type": "code",
   "execution_count": 2,
   "metadata": {
    "collapsed": false
   },
   "outputs": [
    {
     "name": "stdout",
     "output_type": "stream",
     "text": [
      "Found a start tag  : html\n",
      "Found a start tag  : head\n",
      "Found a start tag  : title\n",
      "Found an end tag   : title\n",
      "Found an end tag   : head\n",
      "Found a start tag  : body\n",
      "Found a start tag  : h1\n",
      "Found an end tag   : h1\n",
      "Found an empty tag : br\n",
      "Found an end tag   : body\n",
      "Found an end tag   : html\n"
     ]
    }
   ],
   "source": [
    "# instantiate the parser and fed it some HTML\n",
    "parser = MyHTMLParser()\n",
    "parser.feed(\"<html><head><title>HTML Parser - I</title></head>\"\n",
    "            +\"<body><h1>HackerRank</h1><br /></body></html>\")"
   ]
  },
  {
   "cell_type": "code",
   "execution_count": 3,
   "metadata": {
    "collapsed": false
   },
   "outputs": [
    {
     "name": "stdout",
     "output_type": "stream",
     "text": [
      "2\n",
      "<html><head><title>HTML Parser - I</title></head>\n",
      "<body data-modal-target class='1'><h1>HackerRank</h1><br /></body></html>\n",
      "<html><head><title>HTML Parser - I</title></head>\n",
      "<body data-modal-target class='1'><h1>HackerRank</h1><br /></body></html>\n",
      "\n"
     ]
    }
   ],
   "source": [
    "n = int(raw_input())\n",
    "\n",
    "html = ''\n",
    "for i in xrange(n):\n",
    "    html += raw_input() + '\\n'\n",
    "    \n",
    "print html"
   ]
  },
  {
   "cell_type": "code",
   "execution_count": 4,
   "metadata": {
    "collapsed": true
   },
   "outputs": [],
   "source": [
    "from HTMLParser import HTMLParser\n",
    "\n",
    "class MyHTMLParser(HTMLParser):\n",
    "    def handle_startendtag(self, tag, attrs):\n",
    "        print \"Empty :\", tag\n",
    "        for attr in attrs:\n",
    "             print \"-> \" + attr[0] + ' > ' + str(attr[1])\n",
    "    def handle_starttag(self, tag, attrs):\n",
    "        print \"Start :\", tag\n",
    "        for attr in attrs:\n",
    "            print \"-> \" + attr[0] + ' > ' + str(attr[1])\n",
    "    def handle_endtag(self, tag):\n",
    "        print \"End   :\", tag\n",
    "\n",
    "parser = MyHTMLParser()"
   ]
  },
  {
   "cell_type": "code",
   "execution_count": 5,
   "metadata": {
    "collapsed": true
   },
   "outputs": [],
   "source": [
    "html='''<html><head><title>HTML Parser - I</title></head>\n",
    "<body data-modal-target class='1'><h1>HackerRank</h1><br /></body></html>'''"
   ]
  },
  {
   "cell_type": "markdown",
   "metadata": {},
   "source": [
    "```\n",
    "html = '''<html><head><title>HTML Parser - I</title></head>\n",
    "<body data-modal-target class='1'><h1>HackerRank</h1><br /></body></html>'''\n",
    "```\n",
    "\n",
    "```\n",
    "Start : html\n",
    "Start : head\n",
    "Start : title\n",
    "End   : title\n",
    "End   : head\n",
    "Start : body\n",
    "-> data-modal-target > None\n",
    "-> class > 1\n",
    "Start : h1\n",
    "End   : h1\n",
    "Empty : br\n",
    "End   : body\n",
    "End   : html\n",
    "```"
   ]
  },
  {
   "cell_type": "code",
   "execution_count": 6,
   "metadata": {
    "collapsed": false
   },
   "outputs": [
    {
     "name": "stdout",
     "output_type": "stream",
     "text": [
      "Start : html\n",
      "Start : head\n",
      "Start : title\n",
      "End   : title\n",
      "End   : head\n",
      "Start : body\n",
      "-> data-modal-target > None\n",
      "-> class > 1\n",
      "Start : h1\n",
      "End   : h1\n",
      "Empty : br\n",
      "End   : body\n",
      "End   : html\n"
     ]
    }
   ],
   "source": [
    "parser.feed(html)"
   ]
  },
  {
   "cell_type": "code",
   "execution_count": 7,
   "metadata": {
    "collapsed": true
   },
   "outputs": [],
   "source": [
    "html = '''52\n",
    "<article class=\"hentry\">\n",
    "  <!-- <header>\n",
    "    <h1 class=\"entry-title\">But Will It Make You Happy?</h1>\n",
    "    <time class=\"updated\" datetime=\"2010-08-07 11:11:03-0400\">08-07-2010</time>\n",
    "    <p class=\"byline author vcard\">\n",
    "        By <span class=\"fn\">Stephanie Rosenbloom</span>\n",
    "    </p>\n",
    "  </header> -->\n",
    "\n",
    "  <div class=\"entry-content\">\n",
    "      <p>...article text...</p>\n",
    "      <p>...article text...</p>\n",
    "\n",
    "      <figure>\n",
    "        <img src=\"tammy-strobel.jpg\" alt=\"Portrait of Tammy Strobel\" />\n",
    "        <figcaption>Tammy Strobel in her pared-down, 400sq-ft apt.</figcaption>\n",
    "      </figure>\n",
    "\n",
    "      <p>...article text...</p>\n",
    "      <p>...article text...</p>\n",
    "\n",
    "      <aside>\n",
    "        <h2>Share this Article</h2>\n",
    "        <ul>\n",
    "          <li>Facebook</li>\n",
    "          <li>Twitter</li>\n",
    "          <li>Etc</li>\n",
    "        </ul>\n",
    "      </aside>\n",
    "\n",
    "      <div class=\"entry-content-asset\">\n",
    "        <a href=\"photo-full.png\">\n",
    "          <img src=\"photo.png\" alt=\"The objects Tammy removed from her life after moving\" />\n",
    "        </a>\n",
    "      </div>\n",
    "\n",
    "      <p>...article text...</p>\n",
    "      <p>...article text...</p>\n",
    "\n",
    "      <a class=\"entry-unrelated\" href=\"http://fake.site/\">Find Great Vacations</a>\n",
    "  </div>\n",
    "\n",
    "  <footer>\n",
    "    <p>\n",
    "      A version of this article appeared in print on August 8,\n",
    "      2010, on page BU1 of the New York edition.\n",
    "    </p>\n",
    "    <div class=\"source-org vcard copyright\">\n",
    "        Copyright 2010 <span class=\"org fn\">The New York Times Company</span>\n",
    "    </div>\n",
    "  </footer>\n",
    "</article>'''"
   ]
  },
  {
   "cell_type": "markdown",
   "metadata": {},
   "source": [
    "```\n",
    "Start : article\n",
    "-> class > hentry\n",
    "Start : div\n",
    "-> class > entry-content\n",
    "Start : p\n",
    "End   : p\n",
    "Start : p\n",
    "End   : p\n",
    "Start : figure\n",
    "Empty : img\n",
    "-> src > tammy-strobel.jpg\n",
    "-> alt > Portrait of Tammy Strobel\n",
    "Start : figcaption\n",
    "End   : figcaption\n",
    "End   : figure\n",
    "Start : p\n",
    "End   : p\n",
    "Start : p\n",
    "End   : p\n",
    "Start : aside\n",
    "Start : h2\n",
    "End   : h2\n",
    "Start : ul\n",
    "Start : li\n",
    "End   : li\n",
    "Start : li\n",
    "End   : li\n",
    "Start : li\n",
    "End   : li\n",
    "End   : ul\n",
    "End   : aside\n",
    "Start : div\n",
    "-> class > entry-content-asset\n",
    "Start : a\n",
    "-> href > photo-full.png\n",
    "Empty : img\n",
    "-> src > photo.png\n",
    "-> alt > The objects Tammy removed from her life after moving\n",
    "End   : a\n",
    "End   : div\n",
    "Start : p\n",
    "End   : p\n",
    "Start : p\n",
    "End   : p\n",
    "Start : a\n",
    "-> class > entry-unrelated\n",
    "-> href > http://fake.site/\n",
    "End   : a\n",
    "End   : div\n",
    "Start : footer\n",
    "Start : p\n",
    "End   : p\n",
    "Start : div\n",
    "-> class > source-org vcard copyright\n",
    "Start : span\n",
    "-> class > org fn\n",
    "End   : span\n",
    "End   : div\n",
    "End   : footer\n",
    "End   : article\n",
    "```"
   ]
  },
  {
   "cell_type": "code",
   "execution_count": 8,
   "metadata": {
    "collapsed": false
   },
   "outputs": [
    {
     "name": "stdout",
     "output_type": "stream",
     "text": [
      "Start : article\n",
      "-> class > hentry\n",
      "Start : div\n",
      "-> class > entry-content\n",
      "Start : p\n",
      "End   : p\n",
      "Start : p\n",
      "End   : p\n",
      "Start : figure\n",
      "Empty : img\n",
      "-> src > tammy-strobel.jpg\n",
      "-> alt > Portrait of Tammy Strobel\n",
      "Start : figcaption\n",
      "End   : figcaption\n",
      "End   : figure\n",
      "Start : p\n",
      "End   : p\n",
      "Start : p\n",
      "End   : p\n",
      "Start : aside\n",
      "Start : h2\n",
      "End   : h2\n",
      "Start : ul\n",
      "Start : li\n",
      "End   : li\n",
      "Start : li\n",
      "End   : li\n",
      "Start : li\n",
      "End   : li\n",
      "End   : ul\n",
      "End   : aside\n",
      "Start : div\n",
      "-> class > entry-content-asset\n",
      "Start : a\n",
      "-> href > photo-full.png\n",
      "Empty : img\n",
      "-> src > photo.png\n",
      "-> alt > The objects Tammy removed from her life after moving\n",
      "End   : a\n",
      "End   : div\n",
      "Start : p\n",
      "End   : p\n",
      "Start : p\n",
      "End   : p\n",
      "Start : a\n",
      "-> class > entry-unrelated\n",
      "-> href > http://fake.site/\n",
      "End   : a\n",
      "End   : div\n",
      "Start : footer\n",
      "Start : p\n",
      "End   : p\n",
      "Start : div\n",
      "-> class > source-org vcard copyright\n",
      "Start : span\n",
      "-> class > org fn\n",
      "End   : span\n",
      "End   : div\n",
      "End   : footer\n",
      "End   : article\n"
     ]
    }
   ],
   "source": [
    "parser.feed(html)"
   ]
  },
  {
   "cell_type": "code",
   "execution_count": null,
   "metadata": {
    "collapsed": true
   },
   "outputs": [],
   "source": []
  }
 ],
 "metadata": {
  "kernelspec": {
   "display_name": "Python 2",
   "language": "python",
   "name": "python2"
  },
  "language_info": {
   "codemirror_mode": {
    "name": "ipython",
    "version": 2
   },
   "file_extension": ".py",
   "mimetype": "text/x-python",
   "name": "python",
   "nbconvert_exporter": "python",
   "pygments_lexer": "ipython2",
   "version": "2.7.11"
  }
 },
 "nbformat": 4,
 "nbformat_minor": 0
}
