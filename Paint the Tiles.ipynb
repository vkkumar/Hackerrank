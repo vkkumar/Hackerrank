{
 "cells": [
  {
   "cell_type": "code",
   "execution_count": 13,
   "metadata": {
    "collapsed": false
   },
   "outputs": [
    {
     "name": "stdout",
     "output_type": "stream",
     "text": [
      "26\n",
      "RBRRBRRBRBBRRRRRBBRRBRBRRR\n"
     ]
    }
   ],
   "source": [
    "N = int(raw_input().strip())\n",
    "C = raw_input().strip()"
   ]
  },
  {
   "cell_type": "code",
   "execution_count": 14,
   "metadata": {
    "collapsed": false
   },
   "outputs": [
    {
     "name": "stdout",
     "output_type": "stream",
     "text": [
      "17\n"
     ]
    }
   ],
   "source": [
    "count = 0\n",
    "\n",
    "i = 0\n",
    "while i < N-1:\n",
    "    if C[i+1] == C[i] == 'R':\n",
    "        pass\n",
    "    else:\n",
    "        count += 1\n",
    "    i += 1\n",
    "    \n",
    "print count + 1"
   ]
  },
  {
   "cell_type": "markdown",
   "metadata": {},
   "source": [
    "The answer is 482!"
   ]
  },
  {
   "cell_type": "markdown",
   "metadata": {},
   "source": [
    "String length = 956; \n",
    "Answer = 482\n",
    "RBRRRRRRBBRBBBBBBBRRBRRBRRBBBBRBBBRRRBRRRRBBRBBRRRRBRBRBRBRBBBRRRBRRBBBBBRBRRRBBRBRBRBBRBBRRBRBRRBBRBBRRBRRRBBRBRBRBBRRBRBRBRRBBBRBRRBRBBBBBBRBRRBRRBRRRRBBRBBBRRRBBRBRBBBRRBRBBBRRRBBBBBRBRRBBBBRRRRBRBBBRRRRBRBRBBBBRBBRRBRRBRRRRRBBRRBBBRBBBBBRBBBRBRRRRBBBBRBRBRRBRRRRBBRRRBRRBBBRRRBBRBRBRBRRRRBBRRRRBRRRRRRBRBBBBRRBBRRBRRBRRBBRRBRRBBRRBRRRRBRRBBRRBRBBRBBBBRBRRBBRBBRBRBRRRBRBBRBRBBBBRBBBRBBRRRRRBRRRBBBBRRBBBBBBRBRRRBRBBRBRBBBBBBRRBBRBRBBRBRBRBBRBRBRRBRRRRBBBRRBBRBBRRBBBRBBBBRRRBBRRBBBRRRRBBBRRRBBBBBRRRRBBBRBRRRRBRRRBBBRBBBRBBRRBBBRBBBRRBRBBRRRRBRBBBBRRRBRRRRBRRRRBRRBBBRRRBRBRRRRBRRRRBRBBRBRRRBRBRRRBRRBBBRBBBRRRBRBBRRBRBRBBRRBRRBBBBRRBBBBRRBRRRBRBRRBRRBBBRRBRBBRBRBRRRRBRBBBRBBRRBBBBRBBRBBBRRRBRBBRRRBRRBRBBRRBRRRBBRBBRRRRBRBRBBBBRRRRRBRRRBRBBBRRBRBRRBRRRBRBRRBRBBRRBBRRBBBBBBRRRBRBBBBBBRBBBBRRRBRRRBRBBRRBRRRRRRRBRRRRBRRRBBBRRRBBRBBRBBBBRBRBBRRBRBBBBRBBBBBBRRRRRBBBBBRBRBRBBBBBBRRRBRBRBBBBBRBRBBBRRBBRBBRBBRBBBBBRRRBRRBRRRBBRRRBBBRBBBBRRRRRBBBBBBBBRBRB"
   ]
  },
  {
   "cell_type": "markdown",
   "metadata": {},
   "source": [
    "String Length = 26; Answer = 15\n",
    "RBRRBRRBRBBRRRRRBBRRBRBRRR"
   ]
  },
  {
   "cell_type": "code",
   "execution_count": 15,
   "metadata": {
    "collapsed": true
   },
   "outputs": [],
   "source": [
    "from collections import Counter"
   ]
  },
  {
   "cell_type": "code",
   "execution_count": 16,
   "metadata": {
    "collapsed": false
   },
   "outputs": [
    {
     "data": {
      "text/plain": [
       "Counter({'B': 9, 'R': 17})"
      ]
     },
     "execution_count": 16,
     "metadata": {},
     "output_type": "execute_result"
    }
   ],
   "source": [
    "Counter(C)"
   ]
  },
  {
   "cell_type": "code",
   "execution_count": 17,
   "metadata": {
    "collapsed": false
   },
   "outputs": [
    {
     "data": {
      "text/plain": [
       "1"
      ]
     },
     "execution_count": 17,
     "metadata": {},
     "output_type": "execute_result"
    }
   ],
   "source": [
    "C.find('B')"
   ]
  },
  {
   "cell_type": "code",
   "execution_count": null,
   "metadata": {
    "collapsed": true
   },
   "outputs": [],
   "source": []
  }
 ],
 "metadata": {
  "kernelspec": {
   "display_name": "Python 2",
   "language": "python",
   "name": "python2"
  },
  "language_info": {
   "codemirror_mode": {
    "name": "ipython",
    "version": 2
   },
   "file_extension": ".py",
   "mimetype": "text/x-python",
   "name": "python",
   "nbconvert_exporter": "python",
   "pygments_lexer": "ipython2",
   "version": "2.7.11"
  }
 },
 "nbformat": 4,
 "nbformat_minor": 0
}
