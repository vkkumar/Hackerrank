{
 "cells": [
  {
   "cell_type": "code",
   "execution_count": 5,
   "metadata": {
    "collapsed": true
   },
   "outputs": [],
   "source": [
    "import nltk\n",
    "from nltk.stem import WordNetLemmatizer\n",
    "from nltk.parse.api import ParserI\n",
    "from nltk.tokenize import WordPunctTokenizer\n",
    "from nltk.tokenize import wordpunct_tokenize\n",
    "from nltk.tokenize import PunktSentenceTokenizer\n",
    "from nltk.tokenize.punkt import PunktParameters\n",
    "import re"
   ]
  },
  {
   "cell_type": "code",
   "execution_count": 10,
   "metadata": {
    "collapsed": false
   },
   "outputs": [],
   "source": [
    "inputStr = '''Primary election, in the United States, an election to select candidates to run for public office. Primaries may be closed (partisan), allowing only declared party members to vote, or open (nonpartisan), enabling all voters to choose which partys primary they wish to vote in without declaring any party affiliation. Primaries may be direct or indirect. A direct primary, which is now used in some form in all U.S. states, functions as a preliminary election whereby voters decide their partys candidates. In an indirect primary, voters elect delegates who choose the partys candidates at a nominating convention. The merits of open versus closed primaries have been widely debated. Proponents of open primaries argue that voters should be able to choose which primary they will vote in at each election. Open primaries allow participation by independents unwilling to declare a party affiliation to vote and prevent intimidation of voters who wish to keep their affiliation private. Party organizations prefer closed primaries because they promote party unity and keep those with no allegiance to the party from influencing its choice, as happens in crossover voting, when members of rival parties vote for the weakest candidate in the oppositions primary. Several states have adopted variations, including the mixed primary, which allows independents to vote in either partys primary but requires voters registered with a political party to vote in their own partys primary. Following legal challenges (particularly by the Democratic and Republican parties), some variations were declared unconstitutional in the early 21st century. For example, for more than six decades, the state of Washington employed a blanket primary, which enabled voters to select one candidate per office irrespective of party affiliation, with the top vote getter from each party advancing to the general election. In 2003 the 9th Circuit U.S. Court of Appeals ruled that Washingtons primary was unconstitutional, on the grounds that it violated a political partys First Amendment right to freedom of association. Washington subsequently implemented a modified blanket system that was a nonpartisan contest in which voters could select one candidate per office, with the top two vote getters per office irrespective of party affiliation advancing to the general election; in 2008 this “top-two” system was declared constitutional by the U.S. Supreme Court. In 2010 voters in California, which had earlier also been forced to abandon its blanket primary, endorsed a ballot initiative that established a system similar to that in Washington. Although the formal primary system is peculiar to the United States, there are some parallels in other countries. For example, the Australian Labor Party has used a “preselection” ballot, in which candidates in each locality have been selected by party members in that locality from those offering themselves for the preselection vote. Some parties in Israel have also used primaries to select candidates for the Knesset.\n",
    "'''"
   ]
  },
  {
   "cell_type": "code",
   "execution_count": 2,
   "metadata": {
    "collapsed": false
   },
   "outputs": [
    {
     "name": "stdout",
     "output_type": "stream",
     "text": [
      "['candidates', 'Primaries', 'members', 'voters', 'partys', 'Primaries', 'is', 'functions', 'as', 'voters', 'partys', 'voters', 'delegates', 'partys', 'candidates', 'merits', 'versus', 'primaries', 'Proponents', 'primaries', 'voters', 'primaries', 'independents', 'voters', 'organizations', 'primaries', 'its', 'as', 'happens', 'members', 'parties', 'oppositions', 'states', 'allows', 'independents', 'partys', 'requires', 'voters', 'partys', 'challenges', 'variations', 'voters', 'Appeals', 'Washingtons', 'was', 'grounds', 'partys', 'was', 'voters', 'getters', 'this', 'was', 'voters', 'its', 'is', 'parallels', 'has', 'candidates', 'members', 'themselves', 'parties', 'primaries', 'candidates']\n"
     ]
    }
   ],
   "source": [
    "words = inputStr.split()\n",
    "plurals = []\n",
    "for word in words:\n",
    "    if word[-1] == 's':\n",
    "        plurals.append(word)\n",
    "\n",
    "print plurals"
   ]
  },
  {
   "cell_type": "code",
   "execution_count": 3,
   "metadata": {
    "collapsed": false
   },
   "outputs": [],
   "source": [
    "inputStr = unicode(inputStr, encoding = 'utf-8')"
   ]
  },
  {
   "cell_type": "code",
   "execution_count": null,
   "metadata": {
    "collapsed": true
   },
   "outputs": [],
   "source": [
    ">>> import nltk\n",
    ">>> sentence = \"\"\"At eight o'clock on Thursday morning\n",
    "... Arthur didn't feel very good.\"\"\"\n",
    ">>> tokens = nltk.word_tokenize(sentence)\n",
    ">>> tokens\n",
    "['At', 'eight', \"o'clock\", 'on', 'Thursday', 'morning',\n",
    "'Arthur', 'did', \"n't\", 'feel', 'very', 'good', '.']\n",
    ">>> tagged = nltk.pos_tag(tokens)\n",
    ">>> tagged[0:6]\n",
    "[('At', 'IN'), ('eight', 'CD'), (\"o'clock\", 'JJ'), ('on', 'IN'),\n",
    "('Thursday', 'NNP'), ('morning', 'NN')]"
   ]
  },
  {
   "cell_type": "code",
   "execution_count": 6,
   "metadata": {
    "collapsed": false
   },
   "outputs": [],
   "source": [
    "punktParams = PunktParameters()\n",
    "extra_abbreviations = ['dr', 'mrs', 'mr', 'prof', 'inc', 'u.s', 'i.e']\n",
    "punktParams.abbrev_types = set(extra_abbreviations)\n",
    "PST = PunktSentenceTokenizer(punktParams)\n",
    "sentToken = PST.tokenize(inputStr)"
   ]
  },
  {
   "cell_type": "code",
   "execution_count": 7,
   "metadata": {
    "collapsed": false
   },
   "outputs": [
    {
     "data": {
      "text/plain": [
       "u'Primaries may be closed (partisan), allowing only declared party members to vote, or open (nonpartisan), enabling all voters to choose which partys primary they wish to vote in without declaring any party affiliation.'"
      ]
     },
     "execution_count": 7,
     "metadata": {},
     "output_type": "execute_result"
    }
   ],
   "source": [
    "sents = sentToken[1]\n",
    "sents"
   ]
  },
  {
   "cell_type": "code",
   "execution_count": 12,
   "metadata": {
    "collapsed": false
   },
   "outputs": [],
   "source": [
    "lst = nltk.word_tokenize(inputStr)"
   ]
  },
  {
   "cell_type": "code",
   "execution_count": 14,
   "metadata": {
    "collapsed": false
   },
   "outputs": [
    {
     "name": "stdout",
     "output_type": "stream",
     "text": [
      "Primary election , in the United States , an election to select candidates to run for public office . Primaries may be closed ( partisan ) , allowing only declared party members to vote , or open ( nonpartisan ) , enabling all voters to choose which partys primary they wish to vote in without declaring any party affiliation . Primaries may be direct or indirect . A direct primary , which is now used in some form in all U.S. states , functions as a preliminary election whereby voters decide their partys candidates . In an indirect primary , voters elect delegates who choose the partys candidates at a nominating convention . The merits of open versus closed primaries have been widely debated . Proponents of open primaries argue that voters should be able to choose which primary they will vote in at each election . Open primaries allow participation by independents unwilling to declare a party affiliation to vote and prevent intimidation of voters who wish to keep their affiliation private . Party organizations prefer closed primaries because they promote party unity and keep those with no allegiance to the party from influencing its choice , as happens in crossover voting , when members of rival parties vote for the weakest candidate in the oppositions primary . Several states have adopted variations , including the mixed primary , which allows independents to vote in either partys primary but requires voters registered with a political party to vote in their own partys primary . Following legal challenges ( particularly by the Democratic and Republican parties ) , some variations were declared unconstitutional in the early 21st century . For example , for more than six decades , the state of Washington employed a blanket primary , which enabled voters to select one candidate per office irrespective of party affiliation , with the top vote getter from each party advancing to the general election . In 2003 the 9th Circuit U.S. Court of Appeals ruled that Washingtons primary was unconstitutional , on the grounds that it violated a political partys First Amendment right to freedom of association . Washington subsequently implemented a modified blanket system that was a nonpartisan contest in which voters could select one candidate per office , with the top two vote getters per office irrespective of party affiliation advancing to the general election ; in 2008 this “top-two” system was declared constitutional by the U.S. Supreme Court . In 2010 voters in California , which had earlier also been forced to abandon its blanket primary , endorsed a ballot initiative that established a system similar to that in Washington . Although the formal primary system is peculiar to the United States , there are some parallels in other countries . For example , the Australian Labor Party has used a “preselection” ballot , in which candidates in each locality have been selected by party members in that locality from those offering themselves for the preselection vote . Some parties in Israel have also used primaries to select candidates for the Knesset .\n"
     ]
    }
   ],
   "source": [
    "print ' '.join(lst)"
   ]
  },
  {
   "cell_type": "markdown",
   "metadata": {},
   "source": [
    "<br>\n",
    "<br>\n",
    "-----"
   ]
  },
  {
   "cell_type": "code",
   "execution_count": 45,
   "metadata": {
    "collapsed": false
   },
   "outputs": [],
   "source": [
    "punktParams = PunktParameters()\n",
    "extra_abbreviations = ['dr', 'mrs', 'mr', 'prof', 'inc', 'u.s', 'i.e']\n",
    "punktParams.abbrev_types = set(extra_abbreviations)\n",
    "PST = PunktSentenceTokenizer(punktParams)\n",
    "sentToken = PST.tokenize(inputStr)\n",
    "\n",
    "def printSent(n):\n",
    "    print\n",
    "    return sentToken[n]"
   ]
  },
  {
   "cell_type": "code",
   "execution_count": 48,
   "metadata": {
    "collapsed": false
   },
   "outputs": [
    {
     "name": "stdout",
     "output_type": "stream",
     "text": [
      " 0 Primary election, in the United States, an election to select candidates to run for public office.\n",
      "\n",
      "None\n",
      "1 Primaries may be closed (partisan), allowing only declared party members to vote, or open (nonpartisan), enabling all voters to choose which partys primary they wish to vote in without declaring any party affiliation.\n",
      "\n",
      "None\n",
      "2 Primaries may be direct or indirect.\n",
      "\n",
      "None\n",
      "3 A direct primary, which is now used in some form in all U.S. states, functions as a preliminary election whereby voters decide their partys candidates.\n",
      "\n",
      "None\n",
      "4 In an indirect primary, voters elect delegates who choose the partys candidates at a nominating convention.\n",
      "\n",
      "None\n",
      "5 The merits of open versus closed primaries have been widely debated.\n",
      "\n",
      "None\n",
      "6 Proponents of open primaries argue that voters should be able to choose which primary they will vote in at each election.\n",
      "\n",
      "None\n",
      "7 Open primaries allow participation by independents unwilling to declare a party affiliation to vote and prevent intimidation of voters who wish to keep their affiliation private.\n",
      "\n",
      "None\n",
      "8 Party organizations prefer closed primaries because they promote party unity and keep those with no allegiance to the party from influencing its choice, as happens in crossover voting, when members of rival parties vote for the weakest candidate in the oppositions primary.\n",
      "\n",
      "None\n",
      "9 Several states have adopted variations, including the mixed primary, which allows independents to vote in either partys primary but requires voters registered with a political party to vote in their own partys primary.\n",
      "\n",
      "None\n",
      "10 Following legal challenges (particularly by the Democratic and Republican parties), some variations were declared unconstitutional in the early 21st century.\n",
      "\n",
      "None\n",
      "11 For example, for more than six decades, the state of Washington employed a blanket primary, which enabled voters to select one candidate per office irrespective of party affiliation, with the top vote getter from each party advancing to the general election.\n",
      "\n",
      "None\n",
      "12 In 2003 the 9th Circuit U.S. Court of Appeals ruled that Washingtons primary was unconstitutional, on the grounds that it violated a political partys First Amendment right to freedom of association.\n",
      "\n",
      "None\n",
      "13 Washington subsequently implemented a modified blanket system that was a nonpartisan contest in which voters could select one candidate per office, with the top two vote getters per office irrespective of party affiliation advancing to the general election; in 2008 this “top-two” system was declared constitutional by the U.S. Supreme Court.\n",
      "\n",
      "None\n",
      "14 In 2010 voters in California, which had earlier also been forced to abandon its blanket primary, endorsed a ballot initiative that established a system similar to that in Washington.\n",
      "\n",
      "None\n",
      "15 Although the formal primary system is peculiar to the United States, there are some parallels in other countries.\n",
      "\n",
      "None\n",
      "16 For example, the Australian Labor Party has used a “preselection” ballot, in which candidates in each locality have been selected by party members in that locality from those offering themselves for the preselection vote.\n",
      "\n",
      "None\n",
      "17 Some parties in Israel have also used primaries to select candidates for the Knesset.\n",
      "\n",
      "\n",
      "None\n"
     ]
    }
   ],
   "source": [
    "for i in range(len(sentToken)):\n",
    "    print i, printSent(i)"
   ]
  },
  {
   "cell_type": "code",
   "execution_count": 34,
   "metadata": {
    "collapsed": true
   },
   "outputs": [],
   "source": [
    "def addApostrophe(string):\n",
    "    return string[:-1] + \"'\" + string[-1]"
   ]
  },
  {
   "cell_type": "markdown",
   "metadata": {},
   "source": [
    "<br>\n",
    "<br>"
   ]
  },
  {
   "cell_type": "markdown",
   "metadata": {},
   "source": [
    "## Lemmatize and see!"
   ]
  },
  {
   "cell_type": "code",
   "execution_count": 7,
   "metadata": {
    "collapsed": false
   },
   "outputs": [
    {
     "data": {
      "text/plain": [
       "u'In 2003 the 9th Circuit U.S. Court of Appeals ruled that Washingtons primary was unconstitutional, on the grounds that it violated a political partys First Amendment right to freedom of association.'"
      ]
     },
     "execution_count": 7,
     "metadata": {},
     "output_type": "execute_result"
    }
   ],
   "source": [
    "sent = sentToken[-6]\n",
    "sent"
   ]
  },
  {
   "cell_type": "code",
   "execution_count": 8,
   "metadata": {
    "collapsed": true
   },
   "outputs": [],
   "source": [
    "from nltk.parse import ViterbiParser"
   ]
  },
  {
   "cell_type": "code",
   "execution_count": 9,
   "metadata": {
    "collapsed": true
   },
   "outputs": [],
   "source": [
    "from nltk.grammar import PCFG, induce_pcfg, toy_pcfg1, toy_pcfg2"
   ]
  },
  {
   "cell_type": "code",
   "execution_count": 10,
   "metadata": {
    "collapsed": true
   },
   "outputs": [],
   "source": [
    "grammar = PCFG"
   ]
  },
  {
   "cell_type": "code",
   "execution_count": 11,
   "metadata": {
    "collapsed": true
   },
   "outputs": [],
   "source": [
    "viterbiParser = ViterbiParser(grammar)"
   ]
  },
  {
   "cell_type": "code",
   "execution_count": 12,
   "metadata": {
    "collapsed": false
   },
   "outputs": [],
   "source": [
    "# WPT = WordPunctTokenizer()\n",
    "# wordTokens = WPT.tokenize_sents(sent)\n",
    "# print wordTokens"
   ]
  },
  {
   "cell_type": "code",
   "execution_count": 13,
   "metadata": {
    "collapsed": true
   },
   "outputs": [],
   "source": [
    "tagWords = nltk.wordpunct_tokenize(sent)"
   ]
  },
  {
   "cell_type": "code",
   "execution_count": 14,
   "metadata": {
    "collapsed": false
   },
   "outputs": [],
   "source": [
    "viterbiParsed = viterbiParser.parse(tagWords)"
   ]
  },
  {
   "cell_type": "markdown",
   "metadata": {},
   "source": [
    "<br>\n",
    "<br>"
   ]
  },
  {
   "cell_type": "markdown",
   "metadata": {},
   "source": [
    "## WordPunkTokenizer"
   ]
  },
  {
   "cell_type": "code",
   "execution_count": 91,
   "metadata": {
    "collapsed": false
   },
   "outputs": [],
   "source": [
    "def sentAnalyze0(sentence):\n",
    "    tagWords = nltk.wordpunct_tokenize(sentence)\n",
    "    print \"Input sentence:\"\n",
    "    print sentence +'\\n'\n",
    "    print \"Tag words:\"\n",
    "    print tagWords\n",
    "    print\n",
    "    print \"pos_tag:\"\n",
    "    pos_tag = nltk.pos_tag(tagWords)\n",
    "    print pos_tag\n",
    "    print\n",
    "    for i, pair in enumerate(pos_tag):\n",
    "        if pair[0] in plurals:\n",
    "            print pair[0], pair[1]\n",
    "            print pos_tag[i-1], pos_tag[i], pos_tag[i+1]\n",
    "            print pos_tag[i-1][1], pos_tag[i][1], pos_tag[i+1][1]\n",
    "    \n",
    "    print \"_________________________________________________________________________________________________________\""
   ]
  },
  {
   "cell_type": "code",
   "execution_count": 118,
   "metadata": {
    "collapsed": true
   },
   "outputs": [],
   "source": [
    "def getplurals(inputStr):\n",
    "    words = inputStr.split()\n",
    "    plurals = []\n",
    "    for word in words:\n",
    "        if word[-1] == 's':\n",
    "            plurals.append(word)\n",
    "    return plurals\n",
    "\n",
    "def addApostrophe(string):\n",
    "    return string[:-1] + \"'\" + string[-1]\n",
    "\n",
    "def grammarRules(tag1, tag2, tag3):\n",
    "    if tag1 == 'IN' and tag2 == 'NNP' and tag3 == 'NN':\n",
    "        return True\n",
    "    elif tag1 == 'JJ' and tag2 == 'NN' and tag3 == 'NNP':\n",
    "        return True\n",
    "    elif tag1 == 'WDT' and tag2 == 'VBP' and tag3 == 'IN':\n",
    "        return True\n",
    "    elif tag1 == 'PRP$' and tag2 == 'JJ' and tag3 == 'NNS':\n",
    "        return True\n",
    "    else:\n",
    "        return False\n",
    "    \n",
    "def sentAnalyze(sentence):\n",
    "    sentCopy = sentence[:]\n",
    "    tagWords = nltk.wordpunct_tokenize(sentence)\n",
    "    pos_tag = nltk.pos_tag(tagWords)\n",
    "    for i, pair in enumerate(pos_tag):\n",
    "        if pair[0] in plurals:\n",
    "            if grammarRules(pos_tag[i-1][1], pos_tag[i][1], pos_tag[i+1][1]):\n",
    "                sentCopy = re.sub(pos_tag[i][0], addApostrophe(pos_tag[i][0]), sentence)\n",
    "    return sentCopy"
   ]
  },
  {
   "cell_type": "code",
   "execution_count": 125,
   "metadata": {
    "collapsed": false
   },
   "outputs": [
    {
     "name": "stdout",
     "output_type": "stream",
     "text": [
      "Primary election, in the United States, an election to select candidates to run for public office. Primaries may be closed (partisan), allowing only declared party members to vote, or open (nonpartisan), enabling all voters to choose which party's primary they wish to vote in without declaring any party affiliation. Primaries may be direct or indirect. A direct primary, which is now used in some form in all U.S. states, functions as a preliminary election whereby voters decide their party's candidates. In an indirect primary, voters elect delegates who choose the partys candidates at a nominating convention. The merits of open versus closed primaries have been widely debated. Proponents of open primaries argue that voters should be able to choose which primary they will vote in at each election. Open primaries allow participation by independents unwilling to declare a party affiliation to vote and prevent intimidation of voters who wish to keep their affiliation private. Party organizations prefer closed primaries because they promote party unity and keep those with no allegiance to the party from influencing its choice, as happens in crossover voting, when members of rival parties vote for the weakest candidate in the oppositions primary. Several states have adopted variations, including the mixed primary, which allows independents to vote in either partys primary but requires voters registered with a political party to vote in their own partys primary. Following legal challenges (particularly by the Democratic and Republican parties), some variations were declared unconstitutional in the early 21st century. For example, for more than six decades, the state of Washington employed a blanket primary, which enabled voters to select one candidate per office irrespective of party affiliation, with the top vote getter from each party advancing to the general election. In 2003 the 9th Circuit U.S. Court of Appeals ruled that Washingtons primary was unconstitutional, on the grounds that it violated a political party's First Amendment right to freedom of association. Washington subsequently implemented a modified blanket system that was a nonpartisan contest in which voters could select one candidate per office, with the top two vote getters per office irrespective of party affiliation advancing to the general election; in 2008 this “top-two” system was declared constitutional by the U.S. Supreme Court. In 2010 voters in California, which had earlier also been forced to abandon its blanket primary, endorsed a ballot initiative that established a system similar to that in Washington. Although the formal primary system is peculiar to the United States, there are some parallels in other countries. For example, the Australian Labor Party has used a “preselection” ballot, in which candidates in each locality have been selected by party members in that locality from those offering themselves for the preselection vote. Some parties in Israel have also used primaries to select candidates for the Knesset.\n",
      "\n"
     ]
    }
   ],
   "source": [
    "punktParams = PunktParameters()\n",
    "extra_abbreviations = ['dr', 'mrs', 'mr', 'prof', 'inc', 'u.s', 'i.e']\n",
    "punktParams.abbrev_types = set(extra_abbreviations)\n",
    "PST = PunktSentenceTokenizer(punktParams)\n",
    "sentToken = PST.tokenize(inputStr)\n",
    "\n",
    "outList = []\n",
    "for sentence in sentToken:\n",
    "    outList.append(sentAnalyze(sentence))\n",
    "\n",
    "print ' '.join(outList)"
   ]
  },
  {
   "cell_type": "code",
   "execution_count": 122,
   "metadata": {
    "collapsed": false
   },
   "outputs": [
    {
     "data": {
      "text/plain": [
       "u'In 2003 the 9th Circuit U.S. Court of Appeals ruled that Washingtons primary was unconstitutional, on the grounds that it violated a political partys First Amendment right to freedom of association.'"
      ]
     },
     "execution_count": 122,
     "metadata": {},
     "output_type": "execute_result"
    }
   ],
   "source": [
    "sents = sentToken[12]\n",
    "sents"
   ]
  },
  {
   "cell_type": "code",
   "execution_count": 123,
   "metadata": {
    "collapsed": false
   },
   "outputs": [
    {
     "name": "stdout",
     "output_type": "stream",
     "text": [
      "Input sentence:\n",
      "In 2003 the 9th Circuit U.S. Court of Appeals ruled that Washingtons primary was unconstitutional, on the grounds that it violated a political partys First Amendment right to freedom of association.\n",
      "\n",
      "Tag words:\n",
      "[u'In', u'2003', u'the', u'9th', u'Circuit', u'U', u'.', u'S', u'.', u'Court', u'of', u'Appeals', u'ruled', u'that', u'Washingtons', u'primary', u'was', u'unconstitutional', u',', u'on', u'the', u'grounds', u'that', u'it', u'violated', u'a', u'political', u'partys', u'First', u'Amendment', u'right', u'to', u'freedom', u'of', u'association', u'.']\n",
      "\n",
      "pos_tag:\n",
      "[(u'In', 'IN'), (u'2003', 'CD'), (u'the', 'DT'), (u'9th', 'CD'), (u'Circuit', 'NNP'), (u'U', 'NNP'), (u'.', '.'), (u'S', 'NNP'), (u'.', '.'), (u'Court', 'NNP'), (u'of', 'IN'), (u'Appeals', 'NNP'), (u'ruled', 'VBD'), (u'that', 'IN'), (u'Washingtons', 'NNP'), (u'primary', 'NN'), (u'was', 'VBD'), (u'unconstitutional', 'JJ'), (u',', ','), (u'on', 'IN'), (u'the', 'DT'), (u'grounds', 'NNS'), (u'that', 'IN'), (u'it', 'PRP'), (u'violated', 'VBD'), (u'a', 'DT'), (u'political', 'JJ'), (u'partys', 'NN'), (u'First', 'NNP'), (u'Amendment', 'NNP'), (u'right', 'NN'), (u'to', 'TO'), (u'freedom', 'VB'), (u'of', 'IN'), (u'association', 'NN'), (u'.', '.')]\n",
      "\n",
      "Appeals NNP\n",
      "(u'of', 'IN') (u'Appeals', 'NNP') (u'ruled', 'VBD')\n",
      "IN NNP VBD\n",
      "Washingtons NNP\n",
      "(u'that', 'IN') (u'Washingtons', 'NNP') (u'primary', 'NN')\n",
      "IN NNP NN\n",
      "was VBD\n",
      "(u'primary', 'NN') (u'was', 'VBD') (u'unconstitutional', 'JJ')\n",
      "NN VBD JJ\n",
      "grounds NNS\n",
      "(u'the', 'DT') (u'grounds', 'NNS') (u'that', 'IN')\n",
      "DT NNS IN\n",
      "partys NN\n",
      "(u'political', 'JJ') (u'partys', 'NN') (u'First', 'NNP')\n",
      "JJ NN NNP\n",
      "_________________________________________________________________________________________________________\n"
     ]
    }
   ],
   "source": [
    "sentAnalyze0(sents)"
   ]
  },
  {
   "cell_type": "code",
   "execution_count": 124,
   "metadata": {
    "collapsed": false,
    "scrolled": false
   },
   "outputs": [
    {
     "data": {
      "text/plain": [
       "u\"In 2003 the 9th Circuit U.S. Court of Appeals ruled that Washingtons primary was unconstitutional, on the grounds that it violated a political party's First Amendment right to freedom of association.\""
      ]
     },
     "execution_count": 124,
     "metadata": {},
     "output_type": "execute_result"
    }
   ],
   "source": [
    "sentAnalyze(sents)"
   ]
  },
  {
   "cell_type": "code",
   "execution_count": 33,
   "metadata": {
    "collapsed": false
   },
   "outputs": [
    {
     "name": "stdout",
     "output_type": "stream",
     "text": [
      "NN: noun, common, singular or mass\n",
      "    common-carrier cabbage knuckle-duster Casino afghan shed thermostat\n",
      "    investment slide humour falloff slick wind hyena override subhumanity\n",
      "    machinist ...\n"
     ]
    }
   ],
   "source": [
    "nltk.help.upenn_tagset('NN')"
   ]
  },
  {
   "cell_type": "code",
   "execution_count": null,
   "metadata": {
    "collapsed": false
   },
   "outputs": [],
   "source": [
    "nltk.help.upenn_tagset('WDT')"
   ]
  },
  {
   "cell_type": "code",
   "execution_count": null,
   "metadata": {
    "collapsed": false
   },
   "outputs": [],
   "source": [
    "nltk.help.upenn_tagset('VBP')"
   ]
  },
  {
   "cell_type": "code",
   "execution_count": null,
   "metadata": {
    "collapsed": false
   },
   "outputs": [],
   "source": [
    "nltk.help.upenn_tagset('IN')"
   ]
  },
  {
   "cell_type": "code",
   "execution_count": null,
   "metadata": {
    "collapsed": false
   },
   "outputs": [],
   "source": [
    "nltk.help.upenn_tagset('NNS')"
   ]
  },
  {
   "cell_type": "code",
   "execution_count": null,
   "metadata": {
    "collapsed": false
   },
   "outputs": [],
   "source": [
    "nltk.help.upenn_tagset('JJ')"
   ]
  },
  {
   "cell_type": "markdown",
   "metadata": {},
   "source": [
    "<br>\n",
    "<br>"
   ]
  },
  {
   "cell_type": "code",
   "execution_count": null,
   "metadata": {
    "collapsed": true
   },
   "outputs": [],
   "source": [
    "def paraAnalyze(paragraph):\n",
    "    modifyWords = []\n",
    "    ignoreWords = []\n",
    "    tagWords = nltk.wordpunct_tokenize(paragraph)\n",
    "    print \"Input sentence:\"\n",
    "    print paragraph +'\\n'\n",
    "    print \"Tag words:\"\n",
    "    print tagWords\n",
    "    print\n",
    "    print \"pos_tag:\"\n",
    "    pos_tag = nltk.pos_tag(tagWords)\n",
    "    print pos_tag\n",
    "    print\n",
    "    for pair in pos_tag:\n",
    "        if pair[0] in plurals and pair[1] in ['NN', 'NNP']:\n",
    "            modifyWords.append(pair[0])\n",
    "            \n",
    "    print \"_________________________________________________________________________________________________________\"\n",
    "    return modifyWords"
   ]
  },
  {
   "cell_type": "code",
   "execution_count": null,
   "metadata": {
    "collapsed": false,
    "scrolled": false
   },
   "outputs": [],
   "source": [
    "paraAnalyze(inputStr)"
   ]
  },
  {
   "cell_type": "code",
   "execution_count": null,
   "metadata": {
    "collapsed": false
   },
   "outputs": [],
   "source": [
    "print plurals"
   ]
  },
  {
   "cell_type": "code",
   "execution_count": null,
   "metadata": {
    "collapsed": true
   },
   "outputs": [],
   "source": [
    "ignoreWords =['versus']"
   ]
  },
  {
   "cell_type": "code",
   "execution_count": null,
   "metadata": {
    "collapsed": true
   },
   "outputs": [],
   "source": [
    "s = \"Appeals\""
   ]
  },
  {
   "cell_type": "code",
   "execution_count": null,
   "metadata": {
    "collapsed": true
   },
   "outputs": [],
   "source": [
    "if s[0].isupper():\n",
    "    ignoreWords.append(s)"
   ]
  },
  {
   "cell_type": "code",
   "execution_count": null,
   "metadata": {
    "collapsed": false
   },
   "outputs": [],
   "source": [
    "ignoreWords"
   ]
  },
  {
   "cell_type": "markdown",
   "metadata": {},
   "source": [
    "```\n",
    "('that', 'IN'), ('Washingtons', 'NNP'), ('primary', 'NN')\n",
    "('which', 'WDT'), ('partys', 'VBP'), ('primary', 'IN')\n",
    "('their', 'PRP'), ('partys', 'JJ'), ('candidates', 'NNS')\n",
    "('own', 'JJ'), ('partys', 'NN'), ('primary', 'NN')\n",
    "('a', 'DT'), ('political', 'JJ'), ('partys', 'NN'), ('First', 'NNP')\n",
    "('open', 'JJ'), ('versus', 'NN'), ('closed', 'VBD')\n",
    "\n",
    "\n",
    "```"
   ]
  }
 ],
 "metadata": {
  "kernelspec": {
   "display_name": "Python 2",
   "language": "python",
   "name": "python2"
  },
  "language_info": {
   "codemirror_mode": {
    "name": "ipython",
    "version": 2
   },
   "file_extension": ".py",
   "mimetype": "text/x-python",
   "name": "python",
   "nbconvert_exporter": "python",
   "pygments_lexer": "ipython2",
   "version": "2.7.11"
  }
 },
 "nbformat": 4,
 "nbformat_minor": 0
}
