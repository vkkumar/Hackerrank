{
 "cells": [
  {
   "cell_type": "code",
   "execution_count": null,
   "metadata": {
    "collapsed": true
   },
   "outputs": [],
   "source": [
    "import numpy, scipy\n",
    "from scipy import interpolate\n",
    "import numpy as np\n",
    "from scipy.interpolate import griddata"
   ]
  },
  {
   "cell_type": "code",
   "execution_count": null,
   "metadata": {
    "collapsed": true
   },
   "outputs": [],
   "source": [
    "np.set_printoptions(precision=0, suppress=True)"
   ]
  },
  {
   "cell_type": "code",
   "execution_count": null,
   "metadata": {
    "collapsed": true
   },
   "outputs": [],
   "source": [
    "dir_path = '/home/ubuntu/Notebooks/Hackerrank/RealData-April2016/Image-Upsampling-testcases/'\n",
    "fileName = 'example.txt'"
   ]
  },
  {
   "cell_type": "code",
   "execution_count": null,
   "metadata": {
    "collapsed": false
   },
   "outputs": [],
   "source": [
    "with open(dir_path+fileName, 'r') as fh:\n",
    "    [r, c, N] = [int(x) for x in fh.readline().split()]\n",
    "    [R, C]    = [int(x) for x in fh.readline().split()]\n",
    "    data = []\n",
    "    for i in xrange(r):\n",
    "        data.append(fh.readline().split())\n",
    "\n",
    "fh.close()"
   ]
  },
  {
   "cell_type": "code",
   "execution_count": null,
   "metadata": {
    "collapsed": false
   },
   "outputs": [],
   "source": [
    "data"
   ]
  },
  {
   "cell_type": "code",
   "execution_count": null,
   "metadata": {
    "collapsed": true
   },
   "outputs": [],
   "source": [
    "def transform(data, r, c):\n",
    "    blue_in  = np.zeros((r, c), dtype=np.int)\n",
    "    red_in   = np.zeros((r, c), dtype=np.int)\n",
    "    green_in = np.zeros((r, c), dtype=np.int)\n",
    "    \n",
    "    for i in range(r):\n",
    "        for j in range(c):\n",
    "            (blue_in[i][j], red_in[i][j], green_in[i][j]) = [int(x) for x in data[i][j].split(',')]\n",
    "    \n",
    "    return blue_in, red_in, green_in"
   ]
  },
  {
   "cell_type": "code",
   "execution_count": null,
   "metadata": {
    "collapsed": false
   },
   "outputs": [],
   "source": [
    "def transform2(data, r, c, R, C, N):\n",
    "    blue_in  = np.zeros((r, c), dtype=np.int)\n",
    "    red_in   = np.zeros((r, c), dtype=np.int)\n",
    "    green_in = np.zeros((r, c), dtype=np.int)\n",
    "    for i in range(r):\n",
    "        for j in range(c):\n",
    "            (blue_in[i][j], red_in[i][j], green_in[i][j]) = [int(x) for x in data[i][j].split(',')]\n",
    "    \n",
    "    blue_out  = np.zeros((R, C), dtype=np.int)\n",
    "    red_out   = np.zeros((R, C), dtype=np.int)\n",
    "    green_out = np.zeros((R, C), dtype=np.int)\n",
    "    \n",
    "    for i in range(r):\n",
    "        for j in range(c):\n",
    "            blue_out[2*i][2*j]  = blue_in[i][j]\n",
    "            red_out[2*i][2*j]   = red_in[i][j]\n",
    "            green_out[2*i][2*j] = green_in[i][j]\n",
    "    \n",
    "    return blue_out, red_out, green_out"
   ]
  },
  {
   "cell_type": "code",
   "execution_count": null,
   "metadata": {
    "collapsed": false
   },
   "outputs": [],
   "source": [
    "blue_in, red_in, green_in = transform(data, r, c)"
   ]
  },
  {
   "cell_type": "code",
   "execution_count": null,
   "metadata": {
    "collapsed": false
   },
   "outputs": [],
   "source": [
    "blue_out, red_out, green_out = transform2(data, r, c, R, C, N)"
   ]
  },
  {
   "cell_type": "code",
   "execution_count": null,
   "metadata": {
    "collapsed": false
   },
   "outputs": [],
   "source": [
    "def upsample(matrix, r, c, R, C):\n",
    "\n",
    "    (inXSize, inYSize)   = matrix.shape\n",
    "    (outXSize, outYSize) = (R, C)\n",
    "\n",
    "    kernelIn  = matrix \n",
    "    kernelOut = numpy.zeros((outXSize, outYSize), numpy.uint8)\n",
    "\n",
    "    x = numpy.array(range(r))\n",
    "    y = numpy.array(range(c))\n",
    "    z = kernelIn\n",
    "\n",
    "    xx = numpy.linspace(x.min(),x.max(), outXSize)\n",
    "    yy = numpy.linspace(y.min(),y.max(), outYSize)\n",
    "\n",
    "    newKernel = interpolate.RectBivariateSpline(x,y,z, kx=2,ky=2)\n",
    "    kernelOut = newKernel(xx,yy)\n",
    "\n",
    "    return kernelOut.clip(min=0).astype(int)"
   ]
  },
  {
   "cell_type": "code",
   "execution_count": null,
   "metadata": {
    "collapsed": false
   },
   "outputs": [],
   "source": [
    "blue_out  = upsample(blue_in, r, c, R, C)\n",
    "red_out   = upsample(red_in, r, c, R, C)\n",
    "green_out = upsample(green_in, r, c, R, C)"
   ]
  },
  {
   "cell_type": "markdown",
   "metadata": {},
   "source": [
    "## Write template for output"
   ]
  },
  {
   "cell_type": "code",
   "execution_count": null,
   "metadata": {
    "collapsed": false
   },
   "outputs": [],
   "source": [
    "data"
   ]
  },
  {
   "cell_type": "code",
   "execution_count": null,
   "metadata": {
    "collapsed": true
   },
   "outputs": [],
   "source": [
    "i = 0\n",
    "j = 0"
   ]
  },
  {
   "cell_type": "code",
   "execution_count": null,
   "metadata": {
    "collapsed": true
   },
   "outputs": [],
   "source": [
    ">>> candidates = ['foo', 'bar', 'spam']\n",
    ">>> print ' : '.join('{} for {}'.format(i, c) for i, c in enumerate(candidates, 1))\n",
    "1 for foo : 2 for bar : 3 for spam\n",
    "\n",
    ">>> candidates = ['foo', 'bar', 'spam', 'python', 'guido']\n",
    ">>> print ' : '.join('{} for {}'.format(i, c) for i, c in enumerate(candidates, 1))\n",
    "1 for foo : 2 for bar : 3 for spam : 4 for python : 5 for guido"
   ]
  },
  {
   "cell_type": "code",
   "execution_count": null,
   "metadata": {
    "collapsed": false
   },
   "outputs": [],
   "source": [
    "l = [str(blue_out[i][j]),str(red_out[i][j]),str(green_out[i][j])]"
   ]
  },
  {
   "cell_type": "code",
   "execution_count": null,
   "metadata": {
    "collapsed": false
   },
   "outputs": [],
   "source": [
    "print ','.join((str(blue_out[i][j]),str(red_out[i][j]),str(green_out[i][j])) for i,j in enumerate(1, range(6)))"
   ]
  },
  {
   "cell_type": "code",
   "execution_count": null,
   "metadata": {
    "collapsed": false
   },
   "outputs": [],
   "source": [
    "i = 0\n",
    "j = 0\n",
    "while j < C:\n",
    "    print str(blue_out[i][j])+','+str(red_out[i][j])+','+str(green_out[i][j])\n",
    "    j += 1\n",
    "    "
   ]
  },
  {
   "cell_type": "code",
   "execution_count": null,
   "metadata": {
    "collapsed": false
   },
   "outputs": [],
   "source": [
    "blue_out"
   ]
  },
  {
   "cell_type": "code",
   "execution_count": null,
   "metadata": {
    "collapsed": false
   },
   "outputs": [],
   "source": [
    "red_out"
   ]
  },
  {
   "cell_type": "code",
   "execution_count": null,
   "metadata": {
    "collapsed": false
   },
   "outputs": [],
   "source": [
    "green_out"
   ]
  },
  {
   "cell_type": "markdown",
   "metadata": {},
   "source": [
    "<br>\n",
    "<br>"
   ]
  },
  {
   "cell_type": "code",
   "execution_count": null,
   "metadata": {
    "collapsed": true
   },
   "outputs": [],
   "source": [
    "import numpy as np\n",
    "from scipy.interpolate import griddata\n",
    "import matplotlib.pyplot as plt\n",
    "import numpy.ma as ma\n",
    "from numpy.random import uniform, seed"
   ]
  },
  {
   "cell_type": "code",
   "execution_count": null,
   "metadata": {
    "collapsed": false
   },
   "outputs": [],
   "source": [
    "# make up some randomly distributed data\n",
    "seed(1234)\n",
    "npts = 500\n",
    "x = uniform(-2,2,npts)\n",
    "y = uniform(-2,2,npts)\n",
    "z = x*np.exp(-x**2-y**2)\n",
    "# define grid.\n",
    "xi = np.linspace(-2.1,2.1,100)\n",
    "yi = np.linspace(-2.1,2.1,100)\n",
    "# grid the data.\n",
    "zi = griddata((x, y), z, (xi[None,:], yi[:,None]), method='cubic')\n",
    "# contour the gridded data, plotting dots at the randomly spaced data points.\n",
    "CS = plt.contour(xi,yi,zi,15,linewidths=0.5,colors='k')\n",
    "CS = plt.contourf(xi,yi,zi,15,cmap=plt.cm.jet)\n",
    "plt.colorbar() # draw colorbar\n",
    "# plot data points.\n",
    "plt.scatter(x,y,marker='o',c='b',s=2)\n",
    "plt.xlim(-2,2)\n",
    "plt.ylim(-2,2)\n",
    "plt.title('griddata test (%d points)' % npts)\n",
    "plt.show()"
   ]
  },
  {
   "cell_type": "markdown",
   "metadata": {},
   "source": [
    "<br>\n",
    "<br>"
   ]
  },
  {
   "cell_type": "markdown",
   "metadata": {},
   "source": [
    "<br>\n",
    "<br>"
   ]
  },
  {
   "cell_type": "code",
   "execution_count": null,
   "metadata": {
    "collapsed": false
   },
   "outputs": [],
   "source": [
    "import numpy, scipy\n",
    "from scipy import interpolate\n",
    "\n",
    "# kernelIn = numpy.array([[0,-2,0, 4],\n",
    "#              [-2,11,-2, 4],\n",
    "#              [0,-2,0, 4]])\n",
    "kernelIn = blue_in\n",
    "\n",
    "\n",
    "inKSize = len(kernelIn)\n",
    "outKSize = 5\n",
    "\n",
    "kernelOut = numpy.zeros((outKSize,outKSize),numpy.uint8)\n",
    "\n",
    "x = numpy.array([0,1,2])\n",
    "y = numpy.array([0,1,2])\n",
    "\n",
    "z = kernelIn\n",
    "\n",
    "xx = numpy.linspace(x.min(),x.max(),outKSize)\n",
    "yy = numpy.linspace(y.min(),y.max(),outKSize)\n",
    "\n",
    "newKernel = interpolate.RectBivariateSpline(x,y,z, kx=2,ky=2)\n",
    "\n",
    "\n",
    "kernelOut = newKernel(xx,yy)\n",
    "\n",
    "print kernelOut"
   ]
  },
  {
   "cell_type": "code",
   "execution_count": null,
   "metadata": {
    "collapsed": false
   },
   "outputs": [],
   "source": [
    "sum([1, 2,3,4])"
   ]
  },
  {
   "cell_type": "code",
   "execution_count": 1,
   "metadata": {
    "collapsed": false
   },
   "outputs": [
    {
     "name": "stdout",
     "output_type": "stream",
     "text": [
      "3\n",
      "Krishna 67 68 69\n",
      "['Krishna', '67', '68', '69']\n",
      "['67', '68', '69']\n",
      "s\n",
      "['s']\n"
     ]
    },
    {
     "ename": "IndexError",
     "evalue": "list index out of range",
     "output_type": "error",
     "traceback": [
      "\u001b[1;31m---------------------------------------------------------------------------\u001b[0m",
      "\u001b[1;31mIndexError\u001b[0m                                Traceback (most recent call last)",
      "\u001b[1;32m<ipython-input-1-7d353ba3cd6f>\u001b[0m in \u001b[0;36m<module>\u001b[1;34m()\u001b[0m\n\u001b[0;32m      7\u001b[0m     \u001b[0ms\u001b[0m \u001b[1;33m=\u001b[0m \u001b[0mraw_input\u001b[0m\u001b[1;33m(\u001b[0m\u001b[1;33m)\u001b[0m\u001b[1;33m.\u001b[0m\u001b[0msplit\u001b[0m\u001b[1;33m(\u001b[0m\u001b[1;33m)\u001b[0m\u001b[1;33m\u001b[0m\u001b[0m\n\u001b[0;32m      8\u001b[0m     \u001b[1;32mprint\u001b[0m \u001b[0ms\u001b[0m\u001b[1;33m\u001b[0m\u001b[0m\n\u001b[1;32m----> 9\u001b[1;33m     \u001b[1;32mprint\u001b[0m \u001b[1;33m[\u001b[0m\u001b[0ms\u001b[0m\u001b[1;33m[\u001b[0m\u001b[1;36m1\u001b[0m\u001b[1;33m]\u001b[0m\u001b[1;33m,\u001b[0m \u001b[0ms\u001b[0m\u001b[1;33m[\u001b[0m\u001b[1;36m2\u001b[0m\u001b[1;33m]\u001b[0m\u001b[1;33m,\u001b[0m \u001b[0ms\u001b[0m\u001b[1;33m[\u001b[0m\u001b[1;36m3\u001b[0m\u001b[1;33m]\u001b[0m\u001b[1;33m]\u001b[0m\u001b[1;33m\u001b[0m\u001b[0m\n\u001b[0m\u001b[0;32m     10\u001b[0m \u001b[1;31m#     a[s[0]] = [int(i) for i in [[s[1]], s[2], s[3]]]\u001b[0m\u001b[1;33m\u001b[0m\u001b[1;33m\u001b[0m\u001b[0m\n\u001b[0;32m     11\u001b[0m \u001b[1;33m\u001b[0m\u001b[0m\n",
      "\u001b[1;31mIndexError\u001b[0m: list index out of range"
     ]
    }
   ],
   "source": [
    "from collections import defaultdict\n",
    "\n",
    "n = int(raw_input())\n",
    "a = defaultdict()\n",
    "\n",
    "for i in xrange(n):\n",
    "    s = raw_input().split()\n",
    "    print s\n",
    "    print [s[1], s[2], s[3]]\n",
    "#     a[s[0]] = [int(i) for i in [[s[1]], s[2], s[3]]]\n",
    "\n",
    "name = raw_input()\n",
    "print sum(a[name])/float(len(a[name]))"
   ]
  },
  {
   "cell_type": "code",
   "execution_count": null,
   "metadata": {
    "collapsed": true
   },
   "outputs": [],
   "source": [
    "s = ['1.3', '2','2', '4']"
   ]
  },
  {
   "cell_type": "code",
   "execution_count": null,
   "metadata": {
    "collapsed": false
   },
   "outputs": [],
   "source": [
    "map(int, s)"
   ]
  },
  {
   "cell_type": "code",
   "execution_count": null,
   "metadata": {
    "collapsed": true
   },
   "outputs": [],
   "source": []
  }
 ],
 "metadata": {
  "kernelspec": {
   "display_name": "Python 2",
   "language": "python",
   "name": "python2"
  },
  "language_info": {
   "codemirror_mode": {
    "name": "ipython",
    "version": 2
   },
   "file_extension": ".py",
   "mimetype": "text/x-python",
   "name": "python",
   "nbconvert_exporter": "python",
   "pygments_lexer": "ipython2",
   "version": "2.7.11"
  }
 },
 "nbformat": 4,
 "nbformat_minor": 0
}
