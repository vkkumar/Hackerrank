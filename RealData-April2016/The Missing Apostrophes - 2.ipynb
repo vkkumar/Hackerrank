{
 "cells": [
  {
   "cell_type": "code",
   "execution_count": 7,
   "metadata": {
    "collapsed": true
   },
   "outputs": [],
   "source": [
    "import nltk\n",
    "from nltk.stem import WordNetLemmatizer\n",
    "from nltk.parse.api import ParserI\n",
    "from nltk.tokenize import WordPunctTokenizer\n",
    "from nltk.tokenize import PunktSentenceTokenizer"
   ]
  },
  {
   "cell_type": "code",
   "execution_count": 1,
   "metadata": {
    "collapsed": true
   },
   "outputs": [],
   "source": [
    "inputStr1 = '''Primary election, in the United States, an election to select candidates to run for public office. Primaries may be closed (partisan), allowing only declared party members to vote, or open (nonpartisan), enabling all voters to choose which partys primary they wish to vote in without declaring any party affiliation. Primaries may be direct or indirect. A direct primary, which is now used in some form in all U.S. states, functions as a preliminary election whereby voters decide their partys candidates. In an indirect primary, voters elect delegates who choose the partys candidates at a nominating convention. The merits of open versus closed primaries have been widely debated. Proponents of open primaries argue that voters should be able to choose which primary they will vote in at each election. Open primaries allow participation by independents unwilling to declare a party affiliation to vote and prevent intimidation of voters who wish to keep their affiliation private. Party organizations prefer closed primaries because they promote party unity and keep those with no allegiance to the party from influencing its choice, as happens in crossover voting, when members of rival parties vote for the weakest candidate in the oppositions primary. Several states have adopted variations, including the mixed primary, which allows independents to vote in either partys primary but requires voters registered with a political party to vote in their own partys primary. Following legal challenges (particularly by the Democratic and Republican parties), some variations were declared unconstitutional in the early 21st century. For example, for more than six decades, the state of Washington employed a blanket primary, which enabled voters to select one candidate per office irrespective of party affiliation, with the top vote getter from each party advancing to the general election. In 2003 the 9th Circuit U.S. Court of Appeals ruled that Washingtons primary was unconstitutional, on the grounds that it violated a political partys First Amendment right to freedom of association. Washington subsequently implemented a modified blanket system that was a nonpartisan contest in which voters could select one candidate per office, with the top two vote getters per office irrespective of party affiliation advancing to the general election; in 2008 this “top-two” system was declared constitutional by the U.S. Supreme Court. In 2010 voters in California, which had earlier also been forced to abandon its blanket primary, endorsed a ballot initiative that established a system similar to that in Washington. Although the formal primary system is peculiar to the United States, there are some parallels in other countries. For example, the Australian Labor Party has used a “preselection” ballot, in which candidates in each locality have been selected by party members in that locality from those offering themselves for the preselection vote. Some parties in Israel have also used primaries to select candidates for the Knesset.\n",
    "'''"
   ]
  },
  {
   "cell_type": "code",
   "execution_count": 2,
   "metadata": {
    "collapsed": true
   },
   "outputs": [],
   "source": [
    "inputStr2 = '''Primary election, in the United States, an election to select candidates to run for public office. Primaries may be closed (partisan), allowing only declared party members to vote, or open (nonpartisan), enabling all voters to choose which party's primary they wish to vote in without declaring any party affiliation. Primaries may be direct or indirect. A direct primary, which is now used in some form in all U.S. states, functions as a preliminary election whereby voters decide their party's candidates. In an indirect primary, voters elect delegates who choose the party's candidates at a nominating convention. The merits of open versus closed primaries have been widely debated. Proponents of open primaries argue that voters should be able to choose which primary they will vote in at each election. Open primaries allow participation by independents unwilling to declare a party affiliation to vote and prevent intimidation of voters who wish to keep their affiliation private. Party organizations prefer closed primaries because they promote party unity and keep those with no allegiance to the party from influencing its choice, as happens in crossover voting, when members of rival parties vote for the weakest candidate in the opposition's primary. Several states have adopted variations, including the mixed primary, which allows independents to vote in either party's primary but requires voters registered with a political party to vote in their own party's primary. Following legal challenges (particularly by the Democratic and Republican parties), some variations were declared unconstitutional in the early 21st century. For example, for more than six decades, the state of Washington employed a blanket primary, which enabled voters to select one candidate per office irrespective of party affiliation, with the top vote getter from each party advancing to the general election. In 2003 the 9th Circuit U.S. Court of Appeals ruled that Washington's primary was unconstitutional, on the grounds that it violated a political party's First Amendment right to freedom of association. Washington subsequently implemented a modified blanket system that was a nonpartisan contest in which voters could select one candidate per office, with the top two vote getters per office irrespective of party affiliation advancing to the general election; in 2008 this “top-two” system was declared constitutional by the U.S. Supreme Court. In 2010 voters in California, which had earlier also been forced to abandon its blanket primary, endorsed a ballot initiative that established a system similar to that in Washington. Although the formal primary system is peculiar to the United States, there are some parallels in other countries. For example, the Australian Labor Party has used a “preselection” ballot, in which candidates in each locality have been selected by party members in that locality from those offering themselves for the preselection vote. Some parties in Israel have also used primaries to select candidates for the Knesset.\n",
    "'''"
   ]
  },
  {
   "cell_type": "code",
   "execution_count": 9,
   "metadata": {
    "collapsed": true
   },
   "outputs": [],
   "source": [
    "inputStr1 = unicode(inputStr1, encoding = 'utf-8')\n",
    "\n",
    "PST = PunktSentenceTokenizer()\n",
    "\n",
    "PST.PUNCTUATION\n",
    "\n",
    "sentToken1 = PST.tokenize(inputStr1)\n",
    "sentToken2 = PST.tokenize(inputStr2)\n",
    "\n",
    "len(sentToken1) == len(sentToken2)\n",
    "\n",
    "def printSent(n):\n",
    "    print sentToken1[n]\n",
    "    print sentToken2[n]\n",
    "    print\n",
    "\n",
    "for i in range(len(sentToken1)):\n",
    "    printSent(i)"
   ]
  },
  {
   "cell_type": "code",
   "execution_count": null,
   "metadata": {
    "collapsed": true
   },
   "outputs": [],
   "source": []
  }
 ],
 "metadata": {
  "kernelspec": {
   "display_name": "Python 2",
   "language": "python",
   "name": "python2"
  },
  "language_info": {
   "codemirror_mode": {
    "name": "ipython",
    "version": 2
   },
   "file_extension": ".py",
   "mimetype": "text/x-python",
   "name": "python",
   "nbconvert_exporter": "python",
   "pygments_lexer": "ipython2",
   "version": "2.7.11"
  }
 },
 "nbformat": 4,
 "nbformat_minor": 0
}
