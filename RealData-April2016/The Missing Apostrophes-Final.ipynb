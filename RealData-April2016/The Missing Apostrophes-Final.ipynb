{
 "cells": [
  {
   "cell_type": "code",
   "execution_count": 3,
   "metadata": {
    "collapsed": false
   },
   "outputs": [
    {
     "name": "stdout",
     "output_type": "stream",
     "text": [
      "At a news conference Thursday at the Russian manned-space facility in Baikonur, Kazakhstan, Kornienko said \"we will be missing nature, we will be missing landscapes, woods.\" He admitted that on his previous trip into space in 2010 \"I even asked our psychological support folks to send me a calendar with photographs of nature, of rivers, of woods, of lakes.\" Kelly was asked if hed miss his twin brother Mark, who also was an astronaut. \"Were used to this kind of thing,\" he said. \"Ive gone longer without seeing him and it was great.\" The mission wont be the longest time that a human has spent in space - four Russians spent a year or more aboard the Soviet-built Mir space station in the 1990s. SCI Astronaut Twins Scott Kelly (left) was asked Thursday if hed miss his twin brother, Mark, who also was an astronaut. Were used to this kind of thing, he said. Ive gone longer without seeing him and it was great. (NASA/Associated Press) \"The last time we had such a long duration flight was almost 20 years and of course all ... scientific techniques are more advanced than 20 years ago and right now we need to test the capability of a human being to perform such long-duration flights. So this is the main objective of our flight, to test ourselves,\" said Kornienko.\"\n",
      "\n",
      "At a news conference Thursday at the Russian manned-space facility in Baikonur, Kazakhstan, Kornienko said \"we will be missing nature, we will be missing landscapes, woods.\" He admitted that on his previous trip into space in 2010 \"I even asked our psychological support folks to send me a calendar with photographs of nature, of rivers, of woods, of lakes.\" Kelly was asked if hed miss his twin brother Mark, who also was an astronaut. \"Were used to this kind of thing,\" he said. \"Ive gone longer without seeing him and it was great.\" The mission wont be the longest time that a human has spent in space - four Russians spent a year or more aboard the Soviet-built Mir space station in the 1990s. SCI Astronaut Twins Scott Kelly (left) was asked Thursday if hed miss his twin brother, Mark, who also was an astronaut. Were used to this kind of thing, he said. Ive gone longer without seeing him and it was great. (NASA/Associated Press) \"The last time we had such a long duration flight was almost 20 years and of course all ... scientific techniques are more advanced than 20 years ago and right now we need to test the capability of a human being to perform such long-duration flights. So this is the main objective of our flight, to test ourselves,\" said Kornienko.\"\n"
     ]
    }
   ],
   "source": [
    "import nltk\n",
    "from nltk.tokenize import wordpunct_tokenize\n",
    "from nltk.tokenize import PunktSentenceTokenizer\n",
    "from nltk.tokenize.punkt import PunktParameters\n",
    "import re\n",
    "\n",
    "def getPlurals(inputStr):\n",
    "    words = inputStr.split()\n",
    "    plurals = []\n",
    "    for word in words:\n",
    "        if word[-1] == 's':\n",
    "            plurals.append(word)\n",
    "    return plurals\n",
    "\n",
    "def addApostrophe(string):\n",
    "    return string[:-1] + \"'\" + string[-1]\n",
    "\n",
    "def grammarRules(tag1, tag2, tag3):\n",
    "    if tag1 == 'IN' and tag2 == 'NNP' and tag3 == 'NN':\n",
    "        return True\n",
    "    elif tag1 == 'JJ' and tag2 == 'NN' and tag3 == 'NNP':\n",
    "        return True\n",
    "    elif tag1 == 'WDT' and tag2 == 'VBP' and tag3 == 'IN':\n",
    "        return True\n",
    "    elif tag1 == 'PRP$' and tag2 == 'JJ' and tag3 == 'NNS':\n",
    "        return True\n",
    "    else:\n",
    "        return False\n",
    "    \n",
    "def sentAnalyze(sentence):\n",
    "    sentCopy = sentence[:]\n",
    "    tagWords = nltk.wordpunct_tokenize(sentence)\n",
    "    pos_tag = nltk.pos_tag(tagWords)\n",
    "    for i, pair in enumerate(pos_tag):\n",
    "        if pair[0] in plurals:\n",
    "            if grammarRules(pos_tag[i-1][1], pos_tag[i][1], pos_tag[i+1][1]):\n",
    "                sentCopy = re.sub(pos_tag[i][0], addApostrophe(pos_tag[i][0]), sentence)\n",
    "    return sentCopy\n",
    "\n",
    "inputStr = raw_input()\n",
    "inputStr1 = unicode(inputStr, encoding = 'utf-8')\n",
    "\n",
    "punktParams = PunktParameters()\n",
    "extra_abbreviations = ['dr', 'mrs', 'mr', 'prof', 'inc', 'u.s', 'i.e']\n",
    "punktParams.abbrev_types = set(extra_abbreviations)\n",
    "PST = PunktSentenceTokenizer(punktParams)\n",
    "\n",
    "plurals = getPlurals(inputStr)\n",
    "sentToken = PST.tokenize(inputStr1)\n",
    "outList = []\n",
    "for sentence in sentToken:\n",
    "    outList.append(sentAnalyze(sentence))\n",
    "\n",
    "print\n",
    "print ' '.join(outList)\n"
   ]
  },
  {
   "cell_type": "code",
   "execution_count": 2,
   "metadata": {
    "collapsed": false
   },
   "outputs": [
    {
     "data": {
      "text/plain": [
       "['news',\n",
       " 'his',\n",
       " 'previous',\n",
       " 'folks',\n",
       " 'photographs',\n",
       " 'was',\n",
       " 'miss',\n",
       " 'his',\n",
       " 'was',\n",
       " 'this',\n",
       " 'was',\n",
       " 'has',\n",
       " 'Russians',\n",
       " 'Twins',\n",
       " 'was',\n",
       " 'miss',\n",
       " 'his',\n",
       " 'was',\n",
       " 'this',\n",
       " 'was',\n",
       " 'was',\n",
       " 'years',\n",
       " 'techniques',\n",
       " 'years',\n",
       " 'this',\n",
       " 'is']"
      ]
     },
     "execution_count": 2,
     "metadata": {},
     "output_type": "execute_result"
    }
   ],
   "source": [
    "plurals"
   ]
  },
  {
   "cell_type": "code",
   "execution_count": null,
   "metadata": {
    "collapsed": true
   },
   "outputs": [],
   "source": []
  }
 ],
 "metadata": {
  "kernelspec": {
   "display_name": "Python 2",
   "language": "python",
   "name": "python2"
  },
  "language_info": {
   "codemirror_mode": {
    "name": "ipython",
    "version": 2
   },
   "file_extension": ".py",
   "mimetype": "text/x-python",
   "name": "python",
   "nbconvert_exporter": "python",
   "pygments_lexer": "ipython2",
   "version": "2.7.11"
  }
 },
 "nbformat": 4,
 "nbformat_minor": 0
}
