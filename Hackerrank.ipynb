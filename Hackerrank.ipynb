{
 "cells": [
  {
   "cell_type": "code",
   "execution_count": null,
   "metadata": {
    "collapsed": true
   },
   "outputs": [],
   "source": [
    "import sys"
   ]
  },
  {
   "cell_type": "code",
   "execution_count": 74,
   "metadata": {
    "collapsed": false
   },
   "outputs": [
    {
     "name": "stdout",
     "output_type": "stream",
     "text": [
      "12:45:54PM\n"
     ]
    }
   ],
   "source": [
    "time = raw_input().strip()"
   ]
  },
  {
   "cell_type": "code",
   "execution_count": 75,
   "metadata": {
    "collapsed": false
   },
   "outputs": [
    {
     "data": {
      "text/plain": [
       "('PM', '12:45:54', '12', ':45:54')"
      ]
     },
     "execution_count": 75,
     "metadata": {},
     "output_type": "execute_result"
    }
   ],
   "source": [
    "time[-2:], time[:-2],time[:2], time[2:-2]"
   ]
  },
  {
   "cell_type": "code",
   "execution_count": 76,
   "metadata": {
    "collapsed": false
   },
   "outputs": [],
   "source": [
    "def parseTime(time):\n",
    "    if time[-2:] == \"AM\":\n",
    "        if int(time[:2]) == 12:\n",
    "            hour = 0\n",
    "            return str(hour)*2 + time[2:-2]\n",
    "        return time[:-2]\n",
    "    elif time[-2:] == \"PM\":\n",
    "        if int(time[:2]) == 12:\n",
    "            return time[:2] + time[2:-2]\n",
    "        return str(12 + int(time[:2])) + time[2:-2]"
   ]
  },
  {
   "cell_type": "code",
   "execution_count": 77,
   "metadata": {
    "collapsed": false
   },
   "outputs": [
    {
     "data": {
      "text/plain": [
       "'12:45:54'"
      ]
     },
     "execution_count": 77,
     "metadata": {},
     "output_type": "execute_result"
    }
   ],
   "source": [
    "parseTime(time)"
   ]
  },
  {
   "cell_type": "markdown",
   "metadata": {
    "collapsed": true
   },
   "source": [
    "### [B'day Gift](https://www.hackerrank.com/challenges/bday-gift)"
   ]
  },
  {
   "cell_type": "code",
   "execution_count": 49,
   "metadata": {
    "collapsed": false
   },
   "outputs": [
    {
     "name": "stdout",
     "output_type": "stream",
     "text": [
      "3\n",
      "1\n",
      "1\n",
      "2\n"
     ]
    }
   ],
   "source": [
    "n = int(raw_input().strip())\n",
    "l = []\n",
    "for i in xrange(n):\n",
    "    l.append(int(raw_input().strip()))"
   ]
  },
  {
   "cell_type": "code",
   "execution_count": 57,
   "metadata": {
    "collapsed": false
   },
   "outputs": [
    {
     "name": "stdout",
     "output_type": "stream",
     "text": [
      "2.0\n"
     ]
    }
   ],
   "source": [
    "p = 1.0/2**n\n",
    "S = sum([i*p for i in l])/(2*p)\n",
    "print '{:0.1f}'.format(S)"
   ]
  },
  {
   "cell_type": "markdown",
   "metadata": {
    "collapsed": true
   },
   "source": [
    "### [Pangrams](https://www.hackerrank.com/challenges/pangrams)"
   ]
  },
  {
   "cell_type": "code",
   "execution_count": 78,
   "metadata": {
    "collapsed": false
   },
   "outputs": [
    {
     "name": "stdout",
     "output_type": "stream",
     "text": [
      "The quick brown fox jumps over the lazy dog\n"
     ]
    }
   ],
   "source": [
    "S = raw_input()"
   ]
  },
  {
   "cell_type": "code",
   "execution_count": 127,
   "metadata": {
    "collapsed": false
   },
   "outputs": [
    {
     "name": "stdout",
     "output_type": "stream",
     "text": [
      "pangram\n"
     ]
    }
   ],
   "source": [
    "import string\n",
    "alphabets = string.ascii_lowercase\n",
    "\n",
    "def isPangram(string):\n",
    "    s = ''.join(sorted(list(set(S.lower().replace(' ', \"\")))))\n",
    "    if (s == alphabets):\n",
    "        return \"pangram\"\n",
    "    return \"not pangram\"\n",
    "\n",
    "print isPangram(S)"
   ]
  },
  {
   "cell_type": "markdown",
   "metadata": {},
   "source": [
    "### [Funny String](https://www.hackerrank.com/challenges/funny-string)"
   ]
  },
  {
   "cell_type": "code",
   "execution_count": 138,
   "metadata": {
    "collapsed": false
   },
   "outputs": [
    {
     "name": "stdout",
     "output_type": "stream",
     "text": [
      "bcxz\n"
     ]
    }
   ],
   "source": [
    "S = raw_input()"
   ]
  },
  {
   "cell_type": "code",
   "execution_count": 140,
   "metadata": {
    "collapsed": false
   },
   "outputs": [
    {
     "name": "stdout",
     "output_type": "stream",
     "text": [
      "Not Funny\n"
     ]
    }
   ],
   "source": [
    "def isFunny(S):\n",
    "    R = S[::-1]\n",
    "    Flag = \"Funny\"\n",
    "    for i in range(len(S)):\n",
    "        dS = abs(ord(S[i]) - ord(S[i-1]))\n",
    "        dR = abs(ord(R[i]) - ord(R[i-1]))\n",
    "        if dS != dR:\n",
    "            Flag = \"Not Funny\"\n",
    "            return Flag\n",
    "    return Flag\n",
    "               \n",
    "print isFunny(S)\n"
   ]
  },
  {
   "cell_type": "markdown",
   "metadata": {
    "collapsed": true
   },
   "source": [
    "### [Letter Islands](https://www.hackerrank.com/challenges/letter-islands)"
   ]
  },
  {
   "cell_type": "code",
   "execution_count": 14,
   "metadata": {
    "collapsed": false
   },
   "outputs": [
    {
     "name": "stdout",
     "output_type": "stream",
     "text": [
      "ababaewabaq\n",
      "2\n"
     ]
    }
   ],
   "source": [
    "s = raw_input()\n",
    "n = int(raw_input())"
   ]
  },
  {
   "cell_type": "code",
   "execution_count": 4,
   "metadata": {
    "collapsed": true
   },
   "outputs": [],
   "source": [
    "s1 = s[:]"
   ]
  },
  {
   "cell_type": "code",
   "execution_count": 5,
   "metadata": {
    "collapsed": false
   },
   "outputs": [
    {
     "name": "stdout",
     "output_type": "stream",
     "text": [
      "139869469369952\n",
      "139869469369952\n"
     ]
    }
   ],
   "source": [
    "print id(s)\n",
    "print id(s1)"
   ]
  },
  {
   "cell_type": "code",
   "execution_count": 24,
   "metadata": {
    "collapsed": false
   },
   "outputs": [],
   "source": [
    "def createStrings(s, n):\n",
    "    l = []\n",
    "    for i in range(len(s)):\n",
    "        for j in range(len(s)):\n",
    "            l.append(s[j:j+i])\n",
    "    return l"
   ]
  },
  {
   "cell_type": "code",
   "execution_count": 25,
   "metadata": {
    "collapsed": false
   },
   "outputs": [
    {
     "name": "stdout",
     "output_type": "stream",
     "text": [
      "['', '', '', '', '', '', '', '', '', '', '', 'a', 'b', 'a', 'b', 'a', 'e', 'w', 'a', 'b', 'a', 'q', 'ab', 'ba', 'ab', 'ba', 'ae', 'ew', 'wa', 'ab', 'ba', 'aq', 'q', 'aba', 'bab', 'aba', 'bae', 'aew', 'ewa', 'wab', 'aba', 'baq', 'aq', 'q', 'abab', 'baba', 'abae', 'baew', 'aewa', 'ewab', 'waba', 'abaq', 'baq', 'aq', 'q', 'ababa', 'babae', 'abaew', 'baewa', 'aewab', 'ewaba', 'wabaq', 'abaq', 'baq', 'aq', 'q', 'ababae', 'babaew', 'abaewa', 'baewab', 'aewaba', 'ewabaq', 'wabaq', 'abaq', 'baq', 'aq', 'q', 'ababaew', 'babaewa', 'abaewab', 'baewaba', 'aewabaq', 'ewabaq', 'wabaq', 'abaq', 'baq', 'aq', 'q', 'ababaewa', 'babaewab', 'abaewaba', 'baewabaq', 'aewabaq', 'ewabaq', 'wabaq', 'abaq', 'baq', 'aq', 'q', 'ababaewab', 'babaewaba', 'abaewabaq', 'baewabaq', 'aewabaq', 'ewabaq', 'wabaq', 'abaq', 'baq', 'aq', 'q', 'ababaewaba', 'babaewabaq', 'abaewabaq', 'baewabaq', 'aewabaq', 'ewabaq', 'wabaq', 'abaq', 'baq', 'aq', 'q']\n"
     ]
    }
   ],
   "source": [
    "print createStrings(s, 2)"
   ]
  },
  {
   "cell_type": "code",
   "execution_count": null,
   "metadata": {
    "collapsed": true
   },
   "outputs": [],
   "source": []
  }
 ],
 "metadata": {
  "kernelspec": {
   "display_name": "Python 2",
   "language": "python",
   "name": "python2"
  },
  "language_info": {
   "codemirror_mode": {
    "name": "ipython",
    "version": 2
   },
   "file_extension": ".py",
   "mimetype": "text/x-python",
   "name": "python",
   "nbconvert_exporter": "python",
   "pygments_lexer": "ipython2",
   "version": "2.7.11"
  }
 },
 "nbformat": 4,
 "nbformat_minor": 0
}
