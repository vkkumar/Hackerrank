{
 "cells": [
  {
   "cell_type": "code",
   "execution_count": 1,
   "metadata": {
    "collapsed": true
   },
   "outputs": [],
   "source": [
    "s = '''1 1 1 0 0 0\n",
    "0 1 0 0 0 0\n",
    "1 1 1 0 0 0\n",
    "0 0 2 4 4 0\n",
    "0 0 0 2 0 0\n",
    "0 0 1 2 4 0'''"
   ]
  },
  {
   "cell_type": "code",
   "execution_count": 2,
   "metadata": {
    "collapsed": false
   },
   "outputs": [],
   "source": [
    "arr = [map(int, l.split()) for l in s.split('\\n')]"
   ]
  },
  {
   "cell_type": "code",
   "execution_count": 3,
   "metadata": {
    "collapsed": false
   },
   "outputs": [
    {
     "data": {
      "text/plain": [
       "[[1, 1, 1, 0, 0, 0],\n",
       " [0, 1, 0, 0, 0, 0],\n",
       " [1, 1, 1, 0, 0, 0],\n",
       " [0, 0, 2, 4, 4, 0],\n",
       " [0, 0, 0, 2, 0, 0],\n",
       " [0, 0, 1, 2, 4, 0]]"
      ]
     },
     "execution_count": 3,
     "metadata": {},
     "output_type": "execute_result"
    }
   ],
   "source": [
    "arr"
   ]
  },
  {
   "cell_type": "code",
   "execution_count": 5,
   "metadata": {
    "collapsed": false
   },
   "outputs": [
    {
     "name": "stdout",
     "output_type": "stream",
     "text": [
      "[1, 1, 1]\n",
      "1\n",
      "[1, 1, 1]\n",
      "\n",
      "[1, 1, 0]\n",
      "0\n",
      "[1, 1, 0]\n",
      "\n",
      "[1, 0, 0]\n",
      "0\n",
      "[1, 0, 0]\n",
      "\n",
      "[0, 0, 0]\n",
      "0\n",
      "[0, 0, 0]\n",
      "\n",
      "[0, 1, 0]\n",
      "1\n",
      "[0, 0, 2]\n",
      "\n",
      "[1, 0, 0]\n",
      "1\n",
      "[0, 2, 4]\n",
      "\n",
      "[0, 0, 0]\n",
      "0\n",
      "[2, 4, 4]\n",
      "\n",
      "[0, 0, 0]\n",
      "0\n",
      "[4, 4, 0]\n",
      "\n",
      "[1, 1, 1]\n",
      "0\n",
      "[0, 0, 0]\n",
      "\n",
      "[1, 1, 0]\n",
      "2\n",
      "[0, 0, 2]\n",
      "\n",
      "[1, 0, 0]\n",
      "4\n",
      "[0, 2, 0]\n",
      "\n",
      "[0, 0, 0]\n",
      "4\n",
      "[2, 0, 0]\n",
      "\n",
      "[0, 0, 2]\n",
      "0\n",
      "[0, 0, 1]\n",
      "\n",
      "[0, 2, 4]\n",
      "0\n",
      "[0, 1, 2]\n",
      "\n",
      "[2, 4, 4]\n",
      "2\n",
      "[1, 2, 4]\n",
      "\n",
      "[4, 4, 0]\n",
      "0\n",
      "[2, 4, 0]\n",
      "\n",
      "19\n"
     ]
    }
   ],
   "source": [
    "maxCount = []\n",
    "for i in range(4):\n",
    "    for j in range(4):\n",
    "        count = sum(arr[i][j:j+3]) +  arr[i+1][j+1]  + sum(arr[i+2][j:j+3])\n",
    "        maxCount.append(count)\n",
    "        print arr[i][j:j+3]\n",
    "        print arr[i+1][j+1]\n",
    "        print arr[i+2][j:j+3]\n",
    "        print\n",
    "print sorted(maxCount, reverse=True)[0]"
   ]
  },
  {
   "cell_type": "code",
   "execution_count": null,
   "metadata": {
    "collapsed": true
   },
   "outputs": [],
   "source": []
  }
 ],
 "metadata": {
  "kernelspec": {
   "display_name": "Python 2",
   "language": "python",
   "name": "python2"
  },
  "language_info": {
   "codemirror_mode": {
    "name": "ipython",
    "version": 2
   },
   "file_extension": ".py",
   "mimetype": "text/x-python",
   "name": "python",
   "nbconvert_exporter": "python",
   "pygments_lexer": "ipython2",
   "version": "2.7.11"
  }
 },
 "nbformat": 4,
 "nbformat_minor": 0
}
