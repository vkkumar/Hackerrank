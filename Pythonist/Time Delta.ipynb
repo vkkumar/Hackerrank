{
 "cells": [
  {
   "cell_type": "markdown",
   "metadata": {},
   "source": [
    "List of directives for ```datetime```:\n",
    "```\n",
    "%a - abbreviated weekday name\n",
    "%A - full weekday name\n",
    "%b - abbreviated month name\n",
    "%B - full month name\n",
    "%c - preferred date and time representation\n",
    "%C - century number (the year divided by 100, range 00 to 99)\n",
    "%d - day of the month (01 to 31)\n",
    "%D - same as %m/%d/%y\n",
    "%e - day of the month (1 to 31)\n",
    "%g - like %G, but without the century\n",
    "%G - 4-digit year corresponding to the ISO week number (see %V).\n",
    "%h - same as %b\n",
    "%H - hour, using a 24-hour clock (00 to 23)\n",
    "%I - hour, using a 12-hour clock (01 to 12)\n",
    "%j - day of the year (001 to 366)\n",
    "%m - month (01 to 12)\n",
    "%M - minute\n",
    "%n - newline character\n",
    "%p - either am or pm according to the given time value\n",
    "%r - time in a.m. and p.m. notation\n",
    "%R - time in 24 hour notation\n",
    "%S - second\n",
    "%t - tab character\n",
    "%T - current time, equal to %H:%M:%S\n",
    "%u - weekday as a number (1 to 7), Monday=1. Warning: In Sun Solaris Sunday=1\n",
    "%U - week number of the current year, starting with the first Sunday as the first day of the first week\n",
    "%V - The ISO 8601 week number of the current year (01 to 53), where week 1 is the first week that has at least 4 days in the current year, and with Monday as the first day of the week\n",
    "%W - week number of the current year, starting with the first Monday as the first day of the first week\n",
    "%w - day of the week as a decimal, Sunday=0\n",
    "%x - preferred date representation without the time\n",
    "%X - preferred time representation without the date\n",
    "%y - year without a century (range 00 to 99)\n",
    "%Y - year including the century\n",
    "%Z or %z - time zone or name or abbreviation\n",
    "%% - a literal % character\n",
    "```"
   ]
  },
  {
   "cell_type": "code",
   "execution_count": 1,
   "metadata": {
    "collapsed": true
   },
   "outputs": [],
   "source": [
    "import datetime"
   ]
  },
  {
   "cell_type": "code",
   "execution_count": 2,
   "metadata": {
    "collapsed": true
   },
   "outputs": [],
   "source": [
    "# Sample Input\n",
    "s = '''2\n",
    "Sun 10 May 2015 13:54:36 -0700\n",
    "Sun 10 May 2015 13:54:36 +0000\n",
    "Sat 02 May 2015 19:54:36 +0530\n",
    "Fri 01 May 2015 13:54:36 +0000'''"
   ]
  },
  {
   "cell_type": "code",
   "execution_count": 3,
   "metadata": {
    "collapsed": false
   },
   "outputs": [],
   "source": [
    "s = s.split('\\n')"
   ]
  },
  {
   "cell_type": "code",
   "execution_count": 4,
   "metadata": {
    "collapsed": true
   },
   "outputs": [],
   "source": [
    "n= int(s[0])"
   ]
  },
  {
   "cell_type": "code",
   "execution_count": 5,
   "metadata": {
    "collapsed": true
   },
   "outputs": [],
   "source": [
    "dates = s[1:]"
   ]
  },
  {
   "cell_type": "code",
   "execution_count": 6,
   "metadata": {
    "collapsed": false
   },
   "outputs": [
    {
     "data": {
      "text/plain": [
       "['Sun 10 May 2015 13:54:36 -0700',\n",
       " 'Sun 10 May 2015 13:54:36 +0000',\n",
       " 'Sat 02 May 2015 19:54:36 +0530',\n",
       " 'Fri 01 May 2015 13:54:36 +0000']"
      ]
     },
     "execution_count": 6,
     "metadata": {},
     "output_type": "execute_result"
    }
   ],
   "source": [
    "dates"
   ]
  },
  {
   "cell_type": "code",
   "execution_count": 7,
   "metadata": {
    "collapsed": true
   },
   "outputs": [],
   "source": [
    "datePattern = '%a %d %b %Y %H:%M:%S'"
   ]
  },
  {
   "cell_type": "code",
   "execution_count": 8,
   "metadata": {
    "collapsed": false
   },
   "outputs": [
    {
     "data": {
      "text/plain": [
       "datetime.datetime(2015, 5, 2, 19, 54, 36)"
      ]
     },
     "execution_count": 8,
     "metadata": {},
     "output_type": "execute_result"
    }
   ],
   "source": [
    "dateString = dates[2]\n",
    "\n",
    "d1_0 = datetime.datetime.strptime(dateString[:-6], datePattern)\n",
    "offset = int(dateString[-4:-2])*60 + int(dateString[-2:])\n",
    "d1_off = datetime.timedelta(minutes=offset)\n",
    "d1_0"
   ]
  },
  {
   "cell_type": "code",
   "execution_count": 9,
   "metadata": {
    "collapsed": false
   },
   "outputs": [
    {
     "data": {
      "text/plain": [
       "datetime.datetime(2015, 5, 3, 1, 24, 36)"
      ]
     },
     "execution_count": 9,
     "metadata": {},
     "output_type": "execute_result"
    }
   ],
   "source": [
    "d1 = d1_0 + d1_off\n",
    "d1"
   ]
  },
  {
   "cell_type": "code",
   "execution_count": 11,
   "metadata": {
    "collapsed": false
   },
   "outputs": [
    {
     "data": {
      "text/plain": [
       "19800"
      ]
     },
     "execution_count": 11,
     "metadata": {},
     "output_type": "execute_result"
    }
   ],
   "source": [
    "(d1 - d1_0).seconds"
   ]
  },
  {
   "cell_type": "code",
   "execution_count": 12,
   "metadata": {
    "collapsed": false
   },
   "outputs": [
    {
     "data": {
      "text/plain": [
       "datetime.datetime(2015, 5, 1, 13, 54, 36)"
      ]
     },
     "execution_count": 12,
     "metadata": {},
     "output_type": "execute_result"
    }
   ],
   "source": [
    "dateString = dates[3]\n",
    "\n",
    "d2_0 = datetime.datetime.strptime(dateString[:-6], datePattern)\n",
    "offset = int(dateString[-4:-2])*60 + int(dateString[-2:])\n",
    "d2_off = datetime.timedelta(minutes=offset)\n",
    "d2_0"
   ]
  },
  {
   "cell_type": "code",
   "execution_count": 13,
   "metadata": {
    "collapsed": false
   },
   "outputs": [
    {
     "data": {
      "text/plain": [
       "datetime.datetime(2015, 5, 1, 13, 54, 36)"
      ]
     },
     "execution_count": 13,
     "metadata": {},
     "output_type": "execute_result"
    }
   ],
   "source": [
    "d2 = d2_0 + d2_off\n",
    "d2"
   ]
  },
  {
   "cell_type": "code",
   "execution_count": 17,
   "metadata": {
    "collapsed": false
   },
   "outputs": [
    {
     "data": {
      "text/plain": [
       "41400"
      ]
     },
     "execution_count": 17,
     "metadata": {},
     "output_type": "execute_result"
    }
   ],
   "source": [
    "(d1 - d2).seconds"
   ]
  },
  {
   "cell_type": "code",
   "execution_count": 15,
   "metadata": {
    "collapsed": false
   },
   "outputs": [
    {
     "data": {
      "text/plain": [
       "(datetime.time(1, 24, 36), datetime.time(13, 54, 36))"
      ]
     },
     "execution_count": 15,
     "metadata": {},
     "output_type": "execute_result"
    }
   ],
   "source": [
    "d1.time(), d2.time()"
   ]
  },
  {
   "cell_type": "code",
   "execution_count": 18,
   "metadata": {
    "collapsed": false
   },
   "outputs": [
    {
     "data": {
      "text/plain": [
       "0"
      ]
     },
     "execution_count": 18,
     "metadata": {},
     "output_type": "execute_result"
    }
   ],
   "source": [
    "offset"
   ]
  },
  {
   "cell_type": "code",
   "execution_count": null,
   "metadata": {
    "collapsed": true
   },
   "outputs": [],
   "source": []
  }
 ],
 "metadata": {
  "kernelspec": {
   "display_name": "Python 2",
   "language": "python",
   "name": "python2"
  },
  "language_info": {
   "codemirror_mode": {
    "name": "ipython",
    "version": 2
   },
   "file_extension": ".py",
   "mimetype": "text/x-python",
   "name": "python",
   "nbconvert_exporter": "python",
   "pygments_lexer": "ipython2",
   "version": "2.7.11"
  }
 },
 "nbformat": 4,
 "nbformat_minor": 0
}
