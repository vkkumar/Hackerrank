{
 "cells": [
  {
   "cell_type": "markdown",
   "metadata": {},
   "source": [
    "[String Formatting](https://www.hackerrank.com/contests/pythonist/challenges/python-string-formatting)"
   ]
  },
  {
   "cell_type": "code",
   "execution_count": 16,
   "metadata": {
    "collapsed": false
   },
   "outputs": [
    {
     "name": "stdout",
     "output_type": "stream",
     "text": [
      "17\n",
      "    1     1     1     1\n",
      "    2     2     2    10\n",
      "    3     3     3    11\n",
      "    4     4     4   100\n",
      "    5     5     5   101\n",
      "    6     6     6   110\n",
      "    7     7     7   111\n",
      "    8    10     8  1000\n",
      "    9    11     9  1001\n",
      "   10    12     A  1010\n",
      "   11    13     B  1011\n",
      "   12    14     C  1100\n",
      "   13    15     D  1101\n",
      "   14    16     E  1110\n",
      "   15    17     F  1111\n",
      "   16    20    10 10000\n",
      "   17    21    11 10001\n"
     ]
    }
   ],
   "source": [
    "n = int(raw_input())\n",
    "\n",
    "numTuple = []\n",
    "strLen = []\n",
    "numList = range(1, n+1)\n",
    "for num in numList:\n",
    "    num1   = str(num)\n",
    "    octal  = str(oct(num))[1:]\n",
    "    hexa   = str(hex(num)).replace('0x', '').upper()\n",
    "    binary = str(bin(num)).replace('0b', '')\n",
    "    n = binary.__len__()\n",
    "#     print num1, octal, hexa, binary\n",
    "    numTuple.append((num1, octal, hexa, binary))\n",
    "    strLen.append(n)\n",
    "    \n",
    "w = max(strLen)\n",
    "for tup in numTuple:\n",
    "    num, octal, hexa, binary = tup\n",
    "    print num.rjust(w, ' '), octal.rjust(w, ' '), hexa.rjust(w, ' '), binary.rjust(w, ' ')\n"
   ]
  }
 ],
 "metadata": {
  "kernelspec": {
   "display_name": "Python 2",
   "language": "python",
   "name": "python2"
  },
  "language_info": {
   "codemirror_mode": {
    "name": "ipython",
    "version": 2
   },
   "file_extension": ".py",
   "mimetype": "text/x-python",
   "name": "python",
   "nbconvert_exporter": "python",
   "pygments_lexer": "ipython2",
   "version": "2.7.11"
  }
 },
 "nbformat": 4,
 "nbformat_minor": 0
}
