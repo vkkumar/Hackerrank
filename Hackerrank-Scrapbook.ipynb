{
 "cells": [
  {
   "cell_type": "code",
   "execution_count": null,
   "metadata": {
    "collapsed": true
   },
   "outputs": [],
   "source": [
    "from scipy.stats import mode"
   ]
  },
  {
   "cell_type": "code",
   "execution_count": null,
   "metadata": {
    "collapsed": true
   },
   "outputs": [],
   "source": [
    "numList = [64630, 11735, 14216, 99233, 14470, 4978, 73429, 38120, 51135, 67060]"
   ]
  },
  {
   "cell_type": "code",
   "execution_count": null,
   "metadata": {
    "collapsed": false
   },
   "outputs": [],
   "source": [
    "m = mode(numList)\n",
    "print m.mode[0]"
   ]
  },
  {
   "cell_type": "markdown",
   "metadata": {},
   "source": [
    "<br>"
   ]
  },
  {
   "cell_type": "code",
   "execution_count": 68,
   "metadata": {
    "collapsed": true
   },
   "outputs": [],
   "source": [
    "import numpy as np\n",
    "from __future__ import division\n",
    "import matplotlib.pyplot as plt\n",
    "%matplotlib inline\n",
    "\n",
    "def stdNewList(numList, x, n=1):\n",
    "    mu = (sum(numList) + n*x)/(len(numList)+1)\n",
    "    ssq = sum([(numList[i] - mu)**2 for i in range(len(numList))]) + n*(x - mu)**2\n",
    "    return np.sqrt(ssq/(len(numList)+1))\n",
    "\n",
    "(a, b, c) = (1, 1, 2)\n",
    "numList = a*[1] + b*[2] + c*[3]\n",
    "\n",
    "from scipy.optimize import fsolve\n",
    "\n",
    "func = lambda x : np.std(numList) - stdNewList(numList, x)\n",
    "X = np.linspace(3.176, 3.178, 200)\n",
    "plt.plot(X, func(X))\n",
    "plt.axhline(y=0)\n",
    "\n",
    "num = 0\n",
    "for x in X:\n",
    "    if abs(np.std(numList) - stdNewList(numList, x)) < 0.001:\n",
    "        num = x\n",
    "        break\n",
    "\n",
    "initial_guess = 3.0\n",
    "solution = fsolve(func, initial_guess)\n",
    "\n",
    "print '%.2f' %(solution)"
   ]
  },
  {
   "cell_type": "code",
   "execution_count": null,
   "metadata": {
    "collapsed": false
   },
   "outputs": [],
   "source": [
    "def fib(n):\n",
    "    if n == 0:\n",
    "        return 0\n",
    "    if n == 1:\n",
    "        return 1\n",
    "    return fib(n-1) + fib(n-2)\n",
    "    \n",
    "    \n",
    "n = int(raw_input())\n",
    "for i in xrange(n):\n",
    "    N = int(raw_input())\n",
    "    print sum([fib(n) for n in xrange(N) if fib(n) % 2 == 0])"
   ]
  },
  {
   "cell_type": "code",
   "execution_count": null,
   "metadata": {
    "collapsed": true
   },
   "outputs": [],
   "source": []
  }
 ],
 "metadata": {
  "kernelspec": {
   "display_name": "Python 2",
   "language": "python",
   "name": "python2"
  },
  "language_info": {
   "codemirror_mode": {
    "name": "ipython",
    "version": 2
   },
   "file_extension": ".py",
   "mimetype": "text/x-python",
   "name": "python",
   "nbconvert_exporter": "python",
   "pygments_lexer": "ipython2",
   "version": "2.7.11"
  }
 },
 "nbformat": 4,
 "nbformat_minor": 0
}
