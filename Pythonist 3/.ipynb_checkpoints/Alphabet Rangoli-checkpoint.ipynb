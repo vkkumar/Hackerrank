{
 "cells": [
  {
   "cell_type": "code",
   "execution_count": 40,
   "metadata": {
    "collapsed": false
   },
   "outputs": [],
   "source": [
    "import string\n",
    "lowerCase = string.ascii_lowercase"
   ]
  },
  {
   "cell_type": "code",
   "execution_count": 41,
   "metadata": {
    "collapsed": true
   },
   "outputs": [],
   "source": [
    "char = list(lowerCase[:5])\n",
    "rChar = char[:]\n",
    "rChar.reverse()"
   ]
  },
  {
   "cell_type": "code",
   "execution_count": 42,
   "metadata": {
    "collapsed": false
   },
   "outputs": [
    {
     "name": "stdout",
     "output_type": "stream",
     "text": [
      "--------e--------\n",
      "------e-d-e------\n",
      "----e-d-c-d-e----\n",
      "--e-d-c-b-c-d-e--\n",
      "e-d-c-b-a-b-c-d-e\n",
      "--e-d-c-b-c-d-e--\n",
      "----e-d-c-d-e----\n",
      "------e-d-e------\n",
      "--------e--------\n"
     ]
    }
   ],
   "source": [
    "print '-'*8 + '-'.join(rChar)[:-9] + '-'.join(char)[8:] + '-'*8\n",
    "print '-'*6 + '-'.join(rChar)[:-7] + '-'.join(char)[6:] + '-'*6\n",
    "print '-'*4 + '-'.join(rChar)[:-5] + '-'.join(char)[4:] + '-'*4\n",
    "print '-'*2 + '-'.join(rChar)[:-3] + '-'.join(char)[2:] + '-'*2\n",
    "print '-'*0 + '-'.join(rChar)[:-1] + '-'.join(char)[0:] + '-'*0\n",
    "print '-'*2 + '-'.join(rChar)[:-3] + '-'.join(char)[2:] + '-'*2\n",
    "print '-'*4 + '-'.join(rChar)[:-5] + '-'.join(char)[4:] + '-'*4\n",
    "print '-'*6 + '-'.join(rChar)[:-7] + '-'.join(char)[6:] + '-'*6\n",
    "print '-'*8 + '-'.join(rChar)[:-9] + '-'.join(char)[8:] + '-'*8"
   ]
  },
  {
   "cell_type": "code",
   "execution_count": 45,
   "metadata": {
    "collapsed": false
   },
   "outputs": [
    {
     "name": "stdout",
     "output_type": "stream",
     "text": [
      "12\n"
     ]
    }
   ],
   "source": [
    "n = int(raw_input())\n",
    "\n",
    "char = list(lowerCase[:n])\n",
    "rChar = char[:]\n",
    "rChar.reverse()"
   ]
  },
  {
   "cell_type": "code",
   "execution_count": 46,
   "metadata": {
    "collapsed": false
   },
   "outputs": [
    {
     "name": "stdout",
     "output_type": "stream",
     "text": [
      "----------------------l----------------------\n",
      "--------------------l-k-l--------------------\n",
      "------------------l-k-j-k-l------------------\n",
      "----------------l-k-j-i-j-k-l----------------\n",
      "--------------l-k-j-i-h-i-j-k-l--------------\n",
      "------------l-k-j-i-h-g-h-i-j-k-l------------\n",
      "----------l-k-j-i-h-g-f-g-h-i-j-k-l----------\n",
      "--------l-k-j-i-h-g-f-e-f-g-h-i-j-k-l--------\n",
      "------l-k-j-i-h-g-f-e-d-e-f-g-h-i-j-k-l------\n",
      "----l-k-j-i-h-g-f-e-d-c-d-e-f-g-h-i-j-k-l----\n",
      "--l-k-j-i-h-g-f-e-d-c-b-c-d-e-f-g-h-i-j-k-l--\n",
      "l-k-j-i-h-g-f-e-d-c-b-a-b-c-d-e-f-g-h-i-j-k-l\n",
      "--l-k-j-i-h-g-f-e-d-c-b-c-d-e-f-g-h-i-j-k-l--\n",
      "----l-k-j-i-h-g-f-e-d-c-d-e-f-g-h-i-j-k-l----\n",
      "------l-k-j-i-h-g-f-e-d-e-f-g-h-i-j-k-l------\n",
      "--------l-k-j-i-h-g-f-e-f-g-h-i-j-k-l--------\n",
      "----------l-k-j-i-h-g-f-g-h-i-j-k-l----------\n",
      "------------l-k-j-i-h-g-h-i-j-k-l------------\n",
      "--------------l-k-j-i-h-i-j-k-l--------------\n",
      "----------------l-k-j-i-j-k-l----------------\n",
      "------------------l-k-j-k-l------------------\n",
      "--------------------l-k-l--------------------\n",
      "----------------------l----------------------\n"
     ]
    }
   ],
   "source": [
    "for i in range(n):\n",
    "    print '-'*2*(n-1-i) + '-'.join(rChar)[:-(2*n-1-2*i)] + '-'.join(char)[2*(n-1-i):] + '-'*2*(n-1-i)\n",
    "for i in range(1,n):\n",
    "    print '-'*2*i + '-'.join(rChar)[:-(2*i+1)] + '-'.join(char)[2*i:] + '-'*2*i"
   ]
  },
  {
   "cell_type": "code",
   "execution_count": null,
   "metadata": {
    "collapsed": true
   },
   "outputs": [],
   "source": []
  }
 ],
 "metadata": {
  "kernelspec": {
   "display_name": "Python 2",
   "language": "python",
   "name": "python2"
  },
  "language_info": {
   "codemirror_mode": {
    "name": "ipython",
    "version": 2
   },
   "file_extension": ".py",
   "mimetype": "text/x-python",
   "name": "python",
   "nbconvert_exporter": "python",
   "pygments_lexer": "ipython2",
   "version": "2.7.11"
  }
 },
 "nbformat": 4,
 "nbformat_minor": 0
}
