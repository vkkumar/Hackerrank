{
 "cells": [
  {
   "cell_type": "code",
   "execution_count": 27,
   "metadata": {
    "collapsed": false
   },
   "outputs": [
    {
     "data": {
      "text/plain": [
       "390"
      ]
     },
     "execution_count": 27,
     "metadata": {},
     "output_type": "execute_result"
    }
   ],
   "source": [
    "with open('./data/DigitalCamera1.txt') as fh:\n",
    "    data = fh.read()\n",
    "fh.close()\n",
    "\n",
    "data = data.split()\n",
    "\n",
    "R, G, B = [], [], []\n",
    "n = len(data)\n",
    "\n",
    "for triplet in data:\n",
    "    values = triplet.split(',')\n",
    "    R.append(int(values[0]))\n",
    "    G.append(int(values[1]))\n",
    "    B.append(int(values[2]))\n",
    "\n",
    "Ravg, Gavg, Bavg = sum(R)/n, sum(G)/n, sum(B)/n\n",
    "\n",
    "Ravg, Gavg, Bavg\n",
    "\n",
    "sum([Ravg, Gavg, Bavg])"
   ]
  },
  {
   "cell_type": "code",
   "execution_count": 28,
   "metadata": {
    "collapsed": false
   },
   "outputs": [
    {
     "data": {
      "text/plain": [
       "57"
      ]
     },
     "execution_count": 28,
     "metadata": {},
     "output_type": "execute_result"
    }
   ],
   "source": [
    "with open('./data/DigitalCamera2.txt') as fh:\n",
    "    data = fh.read()\n",
    "fh.close()\n",
    "\n",
    "data = data.split()\n",
    "\n",
    "R, G, B = [], [], []\n",
    "n = len(data)\n",
    "\n",
    "for triplet in data:\n",
    "    values = triplet.split(',')\n",
    "    R.append(int(values[0]))\n",
    "    G.append(int(values[1]))\n",
    "    B.append(int(values[2]))\n",
    "\n",
    "Ravg, Gavg, Bavg = sum(R)/n, sum(G)/n, sum(B)/n\n",
    "\n",
    "Ravg, Gavg, Bavg\n",
    "\n",
    "sum([Ravg, Gavg, Bavg])"
   ]
  },
  {
   "cell_type": "markdown",
   "metadata": {},
   "source": [
    "Test Case # 15!"
   ]
  },
  {
   "cell_type": "code",
   "execution_count": 29,
   "metadata": {
    "collapsed": false
   },
   "outputs": [
    {
     "data": {
      "text/plain": [
       "128"
      ]
     },
     "execution_count": 29,
     "metadata": {},
     "output_type": "execute_result"
    }
   ],
   "source": [
    "with open('./data/input15.txt') as fh:\n",
    "    data = fh.read()\n",
    "fh.close()\n",
    "\n",
    "data = data.split()\n",
    "\n",
    "R, G, B = [], [], []\n",
    "n = len(data)\n",
    "\n",
    "for triplet in data:\n",
    "    values = triplet.split(',')\n",
    "    R.append(int(values[0]))\n",
    "    G.append(int(values[1]))\n",
    "    B.append(int(values[2]))\n",
    "\n",
    "Ravg, Gavg, Bavg = sum(R)/n, sum(G)/n, sum(B)/n\n",
    "\n",
    "Ravg, Gavg, Bavg\n",
    "\n",
    "sum([Ravg, Gavg, Bavg])"
   ]
  },
  {
   "cell_type": "markdown",
   "metadata": {},
   "source": [
    "Since the setting the threshold for the sum of averages, has its limitation! Need to try another approach. Lets try to get the max value of the R, G, B for a given pixel and see if that helps!"
   ]
  },
  {
   "cell_type": "code",
   "execution_count": 34,
   "metadata": {
    "collapsed": false
   },
   "outputs": [
    {
     "name": "stdout",
     "output_type": "stream",
     "text": [
      "64\n"
     ]
    }
   ],
   "source": [
    "with open('./data/input15.txt') as fh:\n",
    "    data = fh.read()\n",
    "fh.close()\n",
    "\n",
    "data = data.split()\n",
    "\n",
    "maxPixelValue = []\n",
    "n = len(data)\n",
    "\n",
    "for triplet in data:\n",
    "    values = map(int, triplet.split(','))\n",
    "    maxPixelValue.append(max(values[0], values[1], values[2]))\n",
    "\n",
    "print sum(maxPixelValue)/n"
   ]
  },
  {
   "cell_type": "code",
   "execution_count": null,
   "metadata": {
    "collapsed": true
   },
   "outputs": [],
   "source": []
  }
 ],
 "metadata": {
  "kernelspec": {
   "display_name": "Python 2",
   "language": "python",
   "name": "python2"
  },
  "language_info": {
   "codemirror_mode": {
    "name": "ipython",
    "version": 2
   },
   "file_extension": ".py",
   "mimetype": "text/x-python",
   "name": "python",
   "nbconvert_exporter": "python",
   "pygments_lexer": "ipython2",
   "version": "2.7.11"
  }
 },
 "nbformat": 4,
 "nbformat_minor": 0
}
