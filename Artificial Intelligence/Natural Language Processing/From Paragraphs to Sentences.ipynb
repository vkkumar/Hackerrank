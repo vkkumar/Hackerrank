{
 "cells": [
  {
   "cell_type": "code",
   "execution_count": 34,
   "metadata": {
    "collapsed": true
   },
   "outputs": [],
   "source": [
    "paragraph = '''In the third category he included those Brothers (the majority) who saw nothing in Freemasonry but the external forms and ceremonies, and prized the strict performance of these forms without troubling about their purport or significance. Such were Willarski and even the Grand Master of the principal lodge. Finally, to the fourth category also a great many Brothers belonged, particularly those who had lately joined. These according to Pierre's observations were men who had no belief in anything, nor desire for anything, but joined the Freemasons merely to associate with the wealthy young Brothers who were influential through their connections or rank, and of whom there were very many in the lodge.Pierre began to feel dissatisfied with what he was doing. Freemasonry, at any rate as he saw it here, sometimes seemed to him based merely on externals. He did not think of doubting Freemasonry itself, but suspected that Russian Masonry had taken a wrong path and deviated from its original principles. And so toward the end of the year he went abroad to be initiated into the higher secrets of the order.What is to be done in these circumstances? To favor revolutions, overthrow everything, repel force by force?No! We are very far from that. Every violent reform deserves censure, for it quite fails to remedy evil while men remain what they are, and also because wisdom needs no violence. \"But what is there in running across it like that?\" said Ilagin's groom. \"Once she had missed it and turned it away, any mongrel could take it,\" Ilagin was saying at the same time, breathless from his gallop and his excitement.'''"
   ]
  },
  {
   "cell_type": "code",
   "execution_count": 3,
   "metadata": {
    "collapsed": true
   },
   "outputs": [],
   "source": [
    "output = '''In the third category he included those Brothers (the majority) who saw nothing in Freemasonry but the external forms and ceremonies, and prized the strict performance of these forms without troubling about their purport or significance.\n",
    "Such were Willarski and even the Grand Master of the principal lodge.\n",
    "Finally, to the fourth category also a great many Brothers belonged, particularly those who had lately joined.\n",
    "These according to Pierre's observations were men who had no belief in anything, nor desire for anything, but joined the Freemasons merely to associate with the wealthy young Brothers who were influential through their connections or rank, and of whom there were very many in the lodge.\n",
    "Pierre began to feel dissatisfied with what he was doing.\n",
    "Freemasonry, at any rate as he saw it here, sometimes seemed to him based merely on externals.\n",
    "He did not think of doubting Freemasonry itself, but suspected that Russian Masonry had taken a wrong path and deviated from its original principles.\n",
    "And so toward the end of the year he went abroad to be initiated into the higher secrets of the order.\n",
    "What is to be done in these circumstances?\n",
    "To favor revolutions, overthrow everything, repel force by force?\n",
    "No!\n",
    "We are very far from that.\n",
    "Every violent reform deserves censure, for it quite fails to remedy evil while men remain what they are, and also because wisdom needs no violence.\n",
    "\"But what is there in running across it like that?\" said Ilagin's groom.\n",
    "\"Once she had missed it and turned it away, any mongrel could take it,\" Ilagin was saying at the same time, breathless from his gallop and his excitement.'''"
   ]
  },
  {
   "cell_type": "code",
   "execution_count": 4,
   "metadata": {
    "collapsed": false
   },
   "outputs": [
    {
     "name": "stdout",
     "output_type": "stream",
     "text": [
      "In the third category he included those Brothers (the majority) who saw nothing in Freemasonry but the external forms and ceremonies, and prized the strict performance of these forms without troubling about their purport or significance.\n",
      " Such were Willarski and even the Grand Master of the principal lodge.\n",
      " Finally, to the fourth category also a great many Brothers belonged, particularly those who had lately joined.\n",
      " These according to Pierre's observations were men who had no belief in anything, nor desire for anything, but joined the Freemasons merely to associate with the wealthy young Brothers who were influential through their connections or rank, and of whom there were very many in the lodge.\n",
      "Pierre began to feel dissatisfied with what he was doing.\n",
      " Freemasonry, at any rate as he saw it here, sometimes seemed to him based merely on externals.\n",
      " He did not think of doubting Freemasonry itself, but suspected that Russian Masonry had taken a wrong path and deviated from its original principles.\n",
      " And so toward the end of the year he went abroad to be initiated into the higher secrets of the order.\n",
      "What is to be done in these circumstances? To favor revolutions, overthrow everything, repel force by force?No! We are very far from that.\n",
      " Every violent reform deserves censure, for it quite fails to remedy evil while men remain what they are, and also because wisdom needs no violence.\n",
      " \"But what is there in running across it like that?\" said Ilagin's groom.\n",
      " \"Once she had missed it and turned it away, any mongrel could take it,\" Ilagin was saying at the same time, breathless from his gallop and his excitement.\n",
      "\n"
     ]
    }
   ],
   "source": [
    "# The simplest case. Split at periods!\n",
    "sents = paragraph.split('.')\n",
    "print '\\n'.join(sent + '.' for sent in sents)[:-1]"
   ]
  },
  {
   "cell_type": "code",
   "execution_count": 6,
   "metadata": {
    "collapsed": false
   },
   "outputs": [
    {
     "name": "stdout",
     "output_type": "stream",
     "text": [
      "In the third category he included those Brothers (the majority) who saw nothing in Freemasonry but the external forms and ceremonies, and prized the strict performance of these forms without troubling about their purport or significance.\n",
      "Such were Willarski and even the Grand Master of the principal lodge.\n",
      "Finally, to the fourth category also a great many Brothers belonged, particularly those who had lately joined.\n",
      "These according to Pierre's observations were men who had no belief in anything, nor desire for anything, but joined the Freemasons merely to associate with the wealthy young Brothers who were influential through their connections or rank, and of whom there were very many in the lodge.Pierre began to feel dissatisfied with what he was doing.\n",
      "Freemasonry, at any rate as he saw it here, sometimes seemed to him based merely on externals.\n",
      "He did not think of doubting Freemasonry itself, but suspected that Russian Masonry had taken a wrong path and deviated from its original principles.\n",
      "And so toward the end of the year he went abroad to be initiated into the higher secrets of the order.What is to be done in these circumstances?   To favor revolutions, overthrow everything, repel force by force?  No! We are very far from that.\n",
      "Every violent reform deserves censure, for it quite fails to remedy evil while men remain what they are, and also because wisdom needs no violence.\n",
      "\"But what is there in running across it like that?  \" said Ilagin's groom.\n",
      "\"Once she had missed it and turned it away, any mongrel could take it,\" Ilagin was saying at the same time, breathless from his gallop and his excitement.\n"
     ]
    }
   ],
   "source": [
    "# The second simplest case using re.\n",
    "import re\n",
    "paragraph = paragraph.replace('?', '? ')\n",
    "sents = re.split(\"(?<=\\.) \", paragraph)\n",
    "print '\\n'.join(sents)"
   ]
  },
  {
   "cell_type": "code",
   "execution_count": 35,
   "metadata": {
    "collapsed": false
   },
   "outputs": [],
   "source": [
    "# Now we have to split at \"?, !\" also\n",
    "pattern = r'(.{2,}?[\\.\\?\\!])[\\sA-Z]'\n",
    "sents = re.findall(pattern, paragraph)"
   ]
  },
  {
   "cell_type": "code",
   "execution_count": 36,
   "metadata": {
    "collapsed": false
   },
   "outputs": [
    {
     "data": {
      "text/plain": [
       "['In the third category he included those Brothers (the majority) who saw nothing in Freemasonry but the external forms and ceremonies, and prized the strict performance of these forms without troubling about their purport or significance.',\n",
       " 'Such were Willarski and even the Grand Master of the principal lodge.',\n",
       " 'Finally, to the fourth category also a great many Brothers belonged, particularly those who had lately joined.',\n",
       " \"These according to Pierre's observations were men who had no belief in anything, nor desire for anything, but joined the Freemasons merely to associate with the wealthy young Brothers who were influential through their connections or rank, and of whom there were very many in the lodge.\",\n",
       " 'ierre began to feel dissatisfied with what he was doing.',\n",
       " 'Freemasonry, at any rate as he saw it here, sometimes seemed to him based merely on externals.',\n",
       " 'He did not think of doubting Freemasonry itself, but suspected that Russian Masonry had taken a wrong path and deviated from its original principles.',\n",
       " 'And so toward the end of the year he went abroad to be initiated into the higher secrets of the order.',\n",
       " 'hat is to be done in these circumstances?',\n",
       " 'To favor revolutions, overthrow everything, repel force by force?',\n",
       " 'o! We are very far from that.',\n",
       " 'Every violent reform deserves censure, for it quite fails to remedy evil while men remain what they are, and also because wisdom needs no violence.',\n",
       " '\"But what is there in running across it like that?\" said Ilagin\\'s groom.']"
      ]
     },
     "execution_count": 36,
     "metadata": {},
     "output_type": "execute_result"
    }
   ],
   "source": [
    "sents"
   ]
  },
  {
   "cell_type": "code",
   "execution_count": 31,
   "metadata": {
    "collapsed": false
   },
   "outputs": [
    {
     "name": "stdout",
     "output_type": "stream",
     "text": [
      "In the third category he included those Brothers (the majority) who saw nothing in Freemasonry but the external forms and ceremonies, and prized the strict performance of these forms without troubling about their purport or significance. \n",
      "Such were Willarski and even the Grand Master of the principal lodge. \n",
      " no belief in anything, nor desire for anything, but joined the Freemasons merely to associate with the wealthy young Brothers who were influential through their connections or rank, and of whom there were very many in the lodge.P\n",
      "gan to feel dissatisfied with what he was doing. \n",
      "a wrong path and deviated from its original principles. \n",
      "thing, repel force by force?N\n",
      "cross it like that?\" said Ilagin's groom. \n"
     ]
    }
   ],
   "source": [
    "while True:\n",
    "    if not paragraph: break\n",
    "    sent = re.search(pattern, paragraph)\n",
    "    print sent.group()\n",
    "    paragraph = paragraph[len(sents.group()): ]"
   ]
  },
  {
   "cell_type": "code",
   "execution_count": 92,
   "metadata": {
    "collapsed": false
   },
   "outputs": [
    {
     "name": "stdout",
     "output_type": "stream",
     "text": [
      "1\n",
      "#HappyNewYear2016\n",
      "happy new year 2016\n",
      "0.065804\n"
     ]
    }
   ],
   "source": []
  },
  {
   "cell_type": "code",
   "execution_count": 43,
   "metadata": {
    "collapsed": true
   },
   "outputs": [],
   "source": [
    "s = '#ILoveThisCode'"
   ]
  },
  {
   "cell_type": "code",
   "execution_count": 44,
   "metadata": {
    "collapsed": false
   },
   "outputs": [
    {
     "data": {
      "text/plain": [
       "14"
      ]
     },
     "execution_count": 44,
     "metadata": {},
     "output_type": "execute_result"
    }
   ],
   "source": [
    "s.__len__()"
   ]
  },
  {
   "cell_type": "code",
   "execution_count": 57,
   "metadata": {
    "collapsed": false
   },
   "outputs": [
    {
     "name": "stdout",
     "output_type": "stream",
     "text": [
      "5014 0.002379\n"
     ]
    }
   ],
   "source": []
  },
  {
   "cell_type": "code",
   "execution_count": 85,
   "metadata": {
    "collapsed": false
   },
   "outputs": [],
   "source": []
  },
  {
   "cell_type": "code",
   "execution_count": 88,
   "metadata": {
    "collapsed": false
   },
   "outputs": [
    {
     "name": "stdout",
     "output_type": "stream",
     "text": [
      "1 i\n",
      "is sittime\n",
      "ist ittime\n",
      "isti ttime\n",
      "istie time\n"
     ]
    },
    {
     "data": {
      "text/plain": [
       "[]"
      ]
     },
     "execution_count": 88,
     "metadata": {},
     "output_type": "execute_result"
    }
   ],
   "source": [
    "segment('#isittime')"
   ]
  },
  {
   "cell_type": "code",
   "execution_count": 89,
   "metadata": {
    "collapsed": false
   },
   "outputs": [
    {
     "data": {
      "text/plain": [
       "False"
      ]
     },
     "execution_count": 89,
     "metadata": {},
     "output_type": "execute_result"
    }
   ],
   "source": [
    "'is' in wordList"
   ]
  },
  {
   "cell_type": "code",
   "execution_count": null,
   "metadata": {
    "collapsed": true
   },
   "outputs": [],
   "source": [
    "s = raw_input()\n",
    "\n",
    "def removePair(s):\n",
    "    if not s:\n",
    "        return \"Empty String\"\n",
    "    i = 0\n",
    "    while i < (len(s)-1):\n",
    "        if s[i+1] != s[i]:\n",
    "            i += 1\n",
    "        else:\n",
    "            s = ''.join(s[:i]+s[i+2:])\n",
    "            i = 0\n",
    "    if not s:\n",
    "        return \"Empty String\"\n",
    "    return s\n",
    "\n",
    "print removePair(s)"
   ]
  }
 ],
 "metadata": {
  "kernelspec": {
   "display_name": "Python 2",
   "language": "python",
   "name": "python2"
  },
  "language_info": {
   "codemirror_mode": {
    "name": "ipython",
    "version": 2
   },
   "file_extension": ".py",
   "mimetype": "text/x-python",
   "name": "python",
   "nbconvert_exporter": "python",
   "pygments_lexer": "ipython2",
   "version": "2.7.11"
  }
 },
 "nbformat": 4,
 "nbformat_minor": 0
}
