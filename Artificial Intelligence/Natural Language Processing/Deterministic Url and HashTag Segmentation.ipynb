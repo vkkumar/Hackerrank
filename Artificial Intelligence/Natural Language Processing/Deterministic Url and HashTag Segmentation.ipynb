{
 "cells": [
  {
   "cell_type": "code",
   "execution_count": 1,
   "metadata": {
    "collapsed": false
   },
   "outputs": [
    {
     "name": "stdout",
     "output_type": "stream",
     "text": [
      "1\n",
      "#HappyNewYear\n",
      "happy new year\n",
      "0.073017\n"
     ]
    }
   ],
   "source": [
    "# %load https://raw.githubusercontent.com/sharat7j/HackerRank/master/Deterministic%20url%20and%20Hashtag%20segmentation/SegmentWords.py\n",
    "__author__ = 'sharat'\n",
    "\n",
    "import time\n",
    "\n",
    "class Segmentation(object):\n",
    "    _segmentedList=[]\n",
    "    def segment(self,inputLine):\n",
    "        t = Trie()\n",
    "        numerical = {'0', '1', '2', '3', '4', '5', '6', '7', '8', '9', '.'}\n",
    "\n",
    "        for i in range(inputLine.__len__()):\n",
    "            sentence = \"\"\n",
    "            list = []\n",
    "            stack = []\n",
    "\n",
    "            input = inputLine[i]\n",
    "            if \"#\" in input:\n",
    "                words = input.split(\"#\")\n",
    "                string = words[1].lower()\n",
    "            elif \".\" in input:\n",
    "                words = input.split(\".\")\n",
    "                string = words[0].lower()\n",
    "\n",
    "            last_word_index = 0\n",
    "\n",
    "            curNode = t.rootNode\n",
    "            index = 0\n",
    "            curWord = \"\"\n",
    "            curNum = \"\"\n",
    "            while index < string.__len__():\n",
    "                char = string[index]\n",
    "\n",
    "                if char in numerical:\n",
    "                    curWord\n",
    "                    curWord += char\n",
    "\n",
    "                    if (index + 1) != string.__len__() and string[index + 1] not in numerical:\n",
    "                        list.append(curWord)\n",
    "                        stack.append(index)\n",
    "                        curWord = \"\"\n",
    "                    index += 1\n",
    "                elif curNode.getNext(char):\n",
    "\n",
    "                    curNode = curNode.getNext(char)\n",
    "\n",
    "                    if t.is_a_word(curNode):\n",
    "                        last_word_index = index\n",
    "                        stack.append(last_word_index)\n",
    "\n",
    "                        curWord = curNode.string\n",
    "\n",
    "                        list.append(curWord)\n",
    "                        curWord = \"\"\n",
    "\n",
    "                    index += 1\n",
    "\n",
    "                else:\n",
    "\n",
    "                    if curWord is not None:\n",
    "                        curWord = \"\"\n",
    "\n",
    "                        pop_index = stack.pop()\n",
    "\n",
    "                        index = pop_index + 1\n",
    "\n",
    "                    curNode = t.rootNode\n",
    "                if index == string.__len__():\n",
    "                    if not t.is_a_word(curNode):\n",
    "                        curNode = t.rootNode\n",
    "                        index = stack.pop() + 1\n",
    "\n",
    "            if curWord is not \"\":\n",
    "                list.append(curWord)\n",
    "            stack.append(index - 1)\n",
    "\n",
    "            newstack = []\n",
    "            prev_index = index - 1\n",
    "            while list and prev_index >= 0:\n",
    "                listWord = list.pop()\n",
    "                start_index = prev_index - listWord.__len__() + 1\n",
    "\n",
    "                if start_index >= 0:\n",
    "                    wordIndex = string.index(listWord, start_index)\n",
    "\n",
    "                    if not newstack or (wordIndex != -1 and wordIndex + listWord.__len__() <= prev_index + 1):\n",
    "                        newstack.append(listWord)\n",
    "                        prev_index = start_index - 1\n",
    "\n",
    "            while newstack:\n",
    "                sentence += newstack.pop() + \" \"\n",
    "            sentence = sentence.rstrip()\n",
    "            self._segmentedList.append(sentence)\n",
    "\n",
    "\n",
    "class Node(object):\n",
    "    def __init__(self, string):\n",
    "        self.string = string\n",
    "        self.dict = {}\n",
    "\n",
    "    def setNext(self, char, aNode):\n",
    "        self.dict[char] = aNode\n",
    "\n",
    "    def getNext(self, char):\n",
    "        if (char in self.dict):\n",
    "            return self.dict[char]\n",
    "\n",
    "\n",
    "class Trie(object):\n",
    "    def __init__(self):\n",
    "        self.rootNode = Node(\"\")\n",
    "        for word in file(\"words.txt\"):\n",
    "\n",
    "\n",
    "            curNode = self.rootNode\n",
    "            for char in word.lower():\n",
    "\n",
    "                if (not curNode.getNext(char)):\n",
    "\n",
    "                    nxtNode = Node(curNode.string + char)\n",
    "                    curNode.setNext(char, nxtNode)\n",
    "\n",
    "                    curNode = nxtNode\n",
    "                else:\n",
    "                    curNode = curNode.getNext(char)\n",
    "            nxtNode = None\n",
    "\n",
    "\n",
    "    def is_a_word(self, Node):\n",
    "        if '\\n' in Node.dict:\n",
    "            return True\n",
    "        else:\n",
    "            return False\n",
    "\n",
    "\n",
    "if __name__ == '__main__':\n",
    "    start = time.clock()\n",
    "\n",
    "    segmentedWords=Segmentation()\n",
    "\n",
    "    N = raw_input()\n",
    "\n",
    "    X = []\n",
    "\n",
    "    for i in range(int(N)):\n",
    "        input = raw_input()\n",
    "        X.append(input)\n",
    "\n",
    "    segmentedWords.segment(X)\n",
    "    for sentence in segmentedWords._segmentedList:\n",
    "        print sentence\n",
    "    print time.clock() - start"
   ]
  },
  {
   "cell_type": "code",
   "execution_count": 2,
   "metadata": {
    "collapsed": false
   },
   "outputs": [
    {
     "name": "stdout",
     "output_type": "stream",
     "text": [
      "5014 0.002583\n"
     ]
    }
   ],
   "source": [
    "start = time.clock()\n",
    "i = 0\n",
    "wordList = []\n",
    "for word in open('words.txt'):\n",
    "    wordList.append(word.strip('\\n'))\n",
    "    i += 1\n",
    "\n",
    "print i, time.clock() - start"
   ]
  },
  {
   "cell_type": "code",
   "execution_count": 15,
   "metadata": {
    "collapsed": true
   },
   "outputs": [],
   "source": [
    "testList = ['happy', 'new', 'year', 'ha', 'conspicously']"
   ]
  },
  {
   "cell_type": "code",
   "execution_count": 16,
   "metadata": {
    "collapsed": false
   },
   "outputs": [
    {
     "data": {
      "text/plain": [
       "[True, True, True, True, False]"
      ]
     },
     "execution_count": 16,
     "metadata": {},
     "output_type": "execute_result"
    }
   ],
   "source": [
    "[word in wordList for word in testList]"
   ]
  },
  {
   "cell_type": "code",
   "execution_count": 6,
   "metadata": {
    "collapsed": true
   },
   "outputs": [],
   "source": [
    "s = '#HappyNewYear'"
   ]
  },
  {
   "cell_type": "code",
   "execution_count": 17,
   "metadata": {
    "collapsed": true
   },
   "outputs": [],
   "source": [
    "def segment(string):\n",
    "    words =[]\n",
    "    if string[0] == '#':\n",
    "        s = string.strip('#').lower()\n",
    "        for word in wordList:\n",
    "            if \n",
    "       "
   ]
  },
  {
   "cell_type": "code",
   "execution_count": 24,
   "metadata": {
    "collapsed": false
   },
   "outputs": [],
   "source": [
    "words = []\n"
   ]
  },
  {
   "cell_type": "code",
   "execution_count": 23,
   "metadata": {
    "collapsed": false
   },
   "outputs": [
    {
     "data": {
      "text/plain": [
       "['a', 'ear']"
      ]
     },
     "execution_count": 23,
     "metadata": {},
     "output_type": "execute_result"
    }
   ],
   "source": [
    "words"
   ]
  },
  {
   "cell_type": "code",
   "execution_count": null,
   "metadata": {
    "collapsed": true
   },
   "outputs": [],
   "source": []
  }
 ],
 "metadata": {
  "kernelspec": {
   "display_name": "Python 2",
   "language": "python",
   "name": "python2"
  },
  "language_info": {
   "codemirror_mode": {
    "name": "ipython",
    "version": 2
   },
   "file_extension": ".py",
   "mimetype": "text/x-python",
   "name": "python",
   "nbconvert_exporter": "python",
   "pygments_lexer": "ipython2",
   "version": "2.7.11"
  }
 },
 "nbformat": 4,
 "nbformat_minor": 0
}
