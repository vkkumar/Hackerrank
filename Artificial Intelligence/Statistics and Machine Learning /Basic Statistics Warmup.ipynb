{
 "cells": [
  {
   "cell_type": "code",
   "execution_count": 1,
   "metadata": {
    "collapsed": true
   },
   "outputs": [],
   "source": [
    "from collections import defaultdict\n",
    "import operator"
   ]
  },
  {
   "cell_type": "code",
   "execution_count": 2,
   "metadata": {
    "collapsed": false
   },
   "outputs": [
    {
     "name": "stdout",
     "output_type": "stream",
     "text": [
      "10\n",
      "64630 11735 14216 99233 14470 4978 73429 38120 51135 67060\n"
     ]
    }
   ],
   "source": [
    "n = int(raw_input())\n",
    "numList = map(int, [x for x in raw_input().split()])"
   ]
  },
  {
   "cell_type": "code",
   "execution_count": 3,
   "metadata": {
    "collapsed": true
   },
   "outputs": [],
   "source": [
    "def median(numList):\n",
    "    n = len(numList)\n",
    "    sorts = sorted(numList)\n",
    "    if not n % 2:\n",
    "        return (sorts[n/2] + sorts[n/2 - 1])/2.0\n",
    "    return sorts[n/2]\n",
    "\n",
    "def mean(numList):\n",
    "    return sum(numList)/float(len(numList))\n",
    "    \n",
    "def std(numList):\n",
    "    n = len(numList)\n",
    "    mu = mean(numList)\n",
    "    return (sum((x-mu)**2/float(n) for x in numList))**0.5\n",
    "\n",
    "def mode(numList):\n",
    "    numDict = defaultdict(int)\n",
    "    for number in numList:\n",
    "        numDict[number] += 1\n",
    "    maxValueDict = {key:value for key, value in numDict.items() if value == max(set(numDict.values()))}\n",
    "    sorted_maxValueDict = sorted(maxValueDict.items(), key=operator.itemgetter(0) , reverse=False)\n",
    "    return sorted_maxValueDict[0][0]"
   ]
  },
  {
   "cell_type": "code",
   "execution_count": 4,
   "metadata": {
    "collapsed": false
   },
   "outputs": [
    {
     "name": "stdout",
     "output_type": "stream",
     "text": [
      "43900.6\n",
      "44627.5\n",
      "4978\n",
      "30466.9\n",
      "25017.0 62784.2\n"
     ]
    }
   ],
   "source": [
    "print '%.1f'      %(mean(numList))\n",
    "print '%.1f'      %(median(numList))\n",
    "print              mode(numList)\n",
    "print '%.1f'      %(std(numList))\n",
    "print \"%.1f %.1f\" %(mean(numList) - 1.96*std(numList)/n**0.5, mean(numList) + 1.96*std(numList)/n**0.5 )"
   ]
  },
  {
   "cell_type": "code",
   "execution_count": null,
   "metadata": {
    "collapsed": true
   },
   "outputs": [],
   "source": []
  }
 ],
 "metadata": {
  "kernelspec": {
   "display_name": "Python 2",
   "language": "python",
   "name": "python2"
  },
  "language_info": {
   "codemirror_mode": {
    "name": "ipython",
    "version": 2
   },
   "file_extension": ".py",
   "mimetype": "text/x-python",
   "name": "python",
   "nbconvert_exporter": "python",
   "pygments_lexer": "ipython2",
   "version": "2.7.11"
  }
 },
 "nbformat": 4,
 "nbformat_minor": 0
}
