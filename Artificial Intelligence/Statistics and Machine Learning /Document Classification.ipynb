{
 "cells": [
  {
   "cell_type": "code",
   "execution_count": 1,
   "metadata": {
    "collapsed": true
   },
   "outputs": [],
   "source": [
    "import urllib"
   ]
  },
  {
   "cell_type": "code",
   "execution_count": 2,
   "metadata": {
    "collapsed": true
   },
   "outputs": [],
   "source": [
    "url = 'https://s3.amazonaws.com/hr-testcases/597/assets/trainingdata.txt'\n",
    "fh = urllib.urlopen(url)\n",
    "train = fh.read()\n",
    "fh.close()"
   ]
  },
  {
   "cell_type": "code",
   "execution_count": null,
   "metadata": {
    "collapsed": true
   },
   "outputs": [],
   "source": [
    "train  = train.split('\\n')"
   ]
  },
  {
   "cell_type": "code",
   "execution_count": 3,
   "metadata": {
    "collapsed": false
   },
   "outputs": [],
   "source": [
    "n = len(train)\n",
    "\n",
    "label, text = [], []\n",
    "for i in range(1, n-1):\n",
    "    words = train[i].split()\n",
    "    lbl, txt = int(words[0]), ' '.join(words[1:])\n",
    "    label.append(lbl)\n",
    "    text.append(txt)\n",
    "\n",
    "from sklearn.svm import LinearSVC\n",
    "from sklearn.feature_extraction.text import HashingVectorizer\n",
    "\n",
    "\n",
    "tf = HashingVectorizer(stop_words='english')\n",
    "train = tf.fit_transform(text)\n",
    "clf = LinearSVC()\n",
    "clf.fit(train, label)\n",
    "\n",
    "fh = open('./data/inputDocClassification.txt', 'r')\n",
    "test = fh.read()\n",
    "fh.close()\n",
    "\n",
    "test = test.split('\\n')\n",
    "\n",
    "n = int(test[0])\n",
    "testdata = test[1:]\n",
    "\n",
    "testTransform = tf.transform(testdata)\n",
    "testLabel = clf.predict(testTransform)\n",
    "\n",
    "print '\\n'.join(map(str, [label for label in testLabel]))"
   ]
  },
  {
   "cell_type": "markdown",
   "metadata": {},
   "source": [
    "<br>\n",
    "<br>"
   ]
  },
  {
   "cell_type": "code",
   "execution_count": null,
   "metadata": {
    "collapsed": true
   },
   "outputs": [],
   "source": [
    "n = len(train)\n",
    "\n",
    "label, text = [], []\n",
    "for i in range(1, n-1):\n",
    "    words = train[i].split()\n",
    "    lbl, txt = int(words[0]), ' '.join(words[1:])\n",
    "    label.append(lbl)\n",
    "    text.append(txt)\n",
    "\n",
    "from sklearn.svm import LinearSVC\n",
    "from sklearn.feature_extraction.text import CountVectorizer\n",
    "\n",
    "tf = CountVectorizer(stop_words='english')\n",
    "train = tf.fit_transform(text)\n",
    "clf = LinearSVC()\n",
    "clf.fit(train, label)"
   ]
  },
  {
   "cell_type": "code",
   "execution_count": 30,
   "metadata": {
    "collapsed": false
   },
   "outputs": [],
   "source": [
    "fileName =  './data/inputDocClassification.txt'\n",
    "with open(fileName) as f:\n",
    "    data =  f.read()"
   ]
  },
  {
   "cell_type": "code",
   "execution_count": 36,
   "metadata": {
    "collapsed": false
   },
   "outputs": [
    {
     "data": {
      "text/plain": [
       "4070"
      ]
     },
     "execution_count": 36,
     "metadata": {},
     "output_type": "execute_result"
    }
   ],
   "source": [
    "len(data)"
   ]
  },
  {
   "cell_type": "code",
   "execution_count": null,
   "metadata": {
    "collapsed": true
   },
   "outputs": [],
   "source": [
    "test = test.split('\\n')\n",
    "\n",
    "n = int(test[0])\n",
    "testdata = test[1:]\n",
    "\n",
    "testTransform = tf.transform(testdata)\n",
    "testLabel = clf.predict(testTransform)\n",
    "\n",
    "print '\\n'.join(map(str, [label for label in testLabel]))"
   ]
  }
 ],
 "metadata": {
  "kernelspec": {
   "display_name": "Python 2",
   "language": "python",
   "name": "python2"
  },
  "language_info": {
   "codemirror_mode": {
    "name": "ipython",
    "version": 2
   },
   "file_extension": ".py",
   "mimetype": "text/x-python",
   "name": "python",
   "nbconvert_exporter": "python",
   "pygments_lexer": "ipython2",
   "version": "2.7.11"
  }
 },
 "nbformat": 4,
 "nbformat_minor": 0
}
