{
 "cells": [
  {
   "cell_type": "code",
   "execution_count": null,
   "metadata": {
    "collapsed": true
   },
   "outputs": [],
   "source": [
    "from IPython.display import display, Image"
   ]
  },
  {
   "cell_type": "code",
   "execution_count": null,
   "metadata": {
    "collapsed": false
   },
   "outputs": [],
   "source": [
    "display(Image(url = 'https://leanpub.com/site_images/regmods/leanpub_equation_107.png'))"
   ]
  },
  {
   "cell_type": "markdown",
   "metadata": {},
   "source": [
    "Compute the slope of the line of regression obtained while treating Physics as the independent variable. Compute the answer correct to three decimal places."
   ]
  },
  {
   "cell_type": "markdown",
   "metadata": {},
   "source": [
    "```\n",
    "Physics Scores  15  12  8   8   7   7   7   6   5   3\n",
    "History Scores  10  25  17  11  13  17  20  13  9   15\n",
    "```"
   ]
  },
  {
   "cell_type": "code",
   "execution_count": null,
   "metadata": {
    "collapsed": false
   },
   "outputs": [],
   "source": [
    "from __future__ import division\n",
    "\n",
    "phyScores  = 'Physics Scores  15  12  8   8   7   7   7   6   5   3'.split()\n",
    "histScores = 'History Scores  10  25  17  11  13  17  20  13  9   15'.split()\n",
    "\n",
    "pS = map(int, [score for score in phyScores[2:]])\n",
    "hS = map(int, [score for score in histScores[2:]])\n",
    "\n",
    "n = len(pS)\n",
    "\n",
    "# correlation calculation\n",
    "sumProdXY = sum(x*y for x, y in zip(pS, hS))\n",
    "sumXpsumY = sum(pS)*sum(hS)\n",
    "devX = sqrt(n*sum(x**2 for x in pS) - sum(pS)**2)\n",
    "devY = sqrt(n*sum(y**2 for y in hS) - sum(hS)**2)\n",
    "r_xy = (n*sumProdXY - sumXpsumY)/(devX*devY)\n",
    "\n",
    "# Slope calculation\n",
    "muY = sum(pS)/n\n",
    "muX = sum(hS)/n\n",
    "\n",
    "sdY   = sum((y - muX)**2/(n -1) for y in pS)\n",
    "sdX   = sum((x - muX)**2/(n -1) for x in hS)\n",
    "\n",
    "beta = r_xy *(sdY/sdX)\n",
    "\n",
    "print '%.3f' %(beta)"
   ]
  },
  {
   "cell_type": "code",
   "execution_count": null,
   "metadata": {
    "collapsed": true
   },
   "outputs": [],
   "source": [
    "from sklearn.linear_model import LinearRegression\n",
    "import numpy as np"
   ]
  },
  {
   "cell_type": "code",
   "execution_count": null,
   "metadata": {
    "collapsed": true
   },
   "outputs": [],
   "source": [
    "lr = LinearRegression()"
   ]
  },
  {
   "cell_type": "code",
   "execution_count": null,
   "metadata": {
    "collapsed": false
   },
   "outputs": [],
   "source": [
    "pS1 = np.array(pS).reshape((n, 1))\n",
    "hS1 = np.array(hS).reshape((n, 1))"
   ]
  },
  {
   "cell_type": "code",
   "execution_count": null,
   "metadata": {
    "collapsed": false
   },
   "outputs": [],
   "source": [
    "pS1"
   ]
  },
  {
   "cell_type": "code",
   "execution_count": null,
   "metadata": {
    "collapsed": false
   },
   "outputs": [],
   "source": [
    "lr.fit(hS1, pS1)"
   ]
  },
  {
   "cell_type": "code",
   "execution_count": null,
   "metadata": {
    "collapsed": false
   },
   "outputs": [],
   "source": [
    "lr.coef_"
   ]
  }
 ],
 "metadata": {
  "kernelspec": {
   "display_name": "Python 2",
   "language": "python",
   "name": "python2"
  },
  "language_info": {
   "codemirror_mode": {
    "name": "ipython",
    "version": 2
   },
   "file_extension": ".py",
   "mimetype": "text/x-python",
   "name": "python",
   "nbconvert_exporter": "python",
   "pygments_lexer": "ipython2",
   "version": "2.7.11"
  }
 },
 "nbformat": 4,
 "nbformat_minor": 0
}
