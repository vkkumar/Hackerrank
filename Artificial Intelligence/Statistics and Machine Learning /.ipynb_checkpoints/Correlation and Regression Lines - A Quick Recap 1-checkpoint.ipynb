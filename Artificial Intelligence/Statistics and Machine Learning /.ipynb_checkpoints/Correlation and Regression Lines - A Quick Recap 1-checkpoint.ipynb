{
 "cells": [
  {
   "cell_type": "code",
   "execution_count": 1,
   "metadata": {
    "collapsed": true
   },
   "outputs": [],
   "source": [
    "from IPython.display import display, Image"
   ]
  },
  {
   "cell_type": "code",
   "execution_count": 2,
   "metadata": {
    "collapsed": false
   },
   "outputs": [
    {
     "data": {
      "text/html": [
       "<img src=\"https://upload.wikimedia.org/math/b/c/7/bc7fa889f31ddbec0a05df656de340a5.png\"/>"
      ],
      "text/plain": [
       "<IPython.core.display.Image object>"
      ]
     },
     "metadata": {},
     "output_type": "display_data"
    }
   ],
   "source": [
    "display(Image(url = 'https://upload.wikimedia.org/math/b/c/7/bc7fa889f31ddbec0a05df656de340a5.png'))"
   ]
  },
  {
   "cell_type": "markdown",
   "metadata": {},
   "source": [
    "Compute Karl Pearson’s coefficient of correlation between these scores. \n",
    "Compute the answer correct to three decimal places."
   ]
  },
  {
   "cell_type": "markdown",
   "metadata": {},
   "source": [
    "```\n",
    "Physics Scores  15  12  8   8   7   7   7   6   5   3\n",
    "History Scores  10  25  17  11  13  17  20  13  9   15\n",
    "```"
   ]
  },
  {
   "cell_type": "code",
   "execution_count": 1,
   "metadata": {
    "collapsed": false
   },
   "outputs": [
    {
     "name": "stdout",
     "output_type": "stream",
     "text": [
      "0.145\n"
     ]
    }
   ],
   "source": [
    "from math import sqrt\n",
    "\n",
    "phyScores  = 'Physics Scores  15  12  8   8   7   7   7   6   5   3'.split()\n",
    "histScores = 'History Scores  10  25  17  11  13  17  20  13  9   15'.split()\n",
    "\n",
    "pS = map(int, [score for score in phyScores[2:]])\n",
    "hS = map(int, [score for score in histScores[2:]])\n",
    "\n",
    "n = len(pS)\n",
    "sumProdXY = sum(x*y for x, y in zip(pS, hS))\n",
    "sumXpsumY = sum(pS)*sum(hS)\n",
    "devX = sqrt(n*sum(x**2 for x in pS) - sum(pS)**2)\n",
    "devY = sqrt(n*sum(y**2 for y in hS) - sum(hS)**2)\n",
    "r_xy = (n*sumProdXY - sumXpsumY)/(devX*devY)\n",
    "\n",
    "print '%.3f' %(r_xy)"
   ]
  }
 ],
 "metadata": {
  "kernelspec": {
   "display_name": "Python 2",
   "language": "python",
   "name": "python2"
  },
  "language_info": {
   "codemirror_mode": {
    "name": "ipython",
    "version": 2
   },
   "file_extension": ".py",
   "mimetype": "text/x-python",
   "name": "python",
   "nbconvert_exporter": "python",
   "pygments_lexer": "ipython2",
   "version": "2.7.11"
  }
 },
 "nbformat": 4,
 "nbformat_minor": 0
}
