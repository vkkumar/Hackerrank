{
 "cells": [
  {
   "cell_type": "markdown",
   "metadata": {},
   "source": [
    "Input Format:\n",
    "\n",
    "The first line contains N, M. N = Number of training data records, M = number of parameters. Followed by N lines containing records of training data. Then one integer q, q = number of records to be classified, followed by q lines of query data\n",
    "Training data corresponds to the following format:\n",
    "(:)*\n",
    "\n",
    "Query data corresponds to the following format:\n",
    "(:)*\n",
    "\n",
    "The answer identifier  is an alphanumeric string of no more than 10 chars.  Each identifier is guaranteed unique.  All feature values are doubles.\n",
    "\n",
    "The data is extracted from real production data, and thus will not include the raw form of the answers. We, however, have extracted as many features as we think are useful, and you can decide which features make sense to be included in your final algorithm. The actual labelling of a good answer and bad answer is done organically on our site, through both human moderators as well as our own classifier.\n",
    "\n",
    "Output Format:\n",
    "\n",
    "For each query, you should output q lines to stdout, representing the decision made by your classifier, whether each answer is good or not"
   ]
  },
  {
   "cell_type": "code",
   "execution_count": 1,
   "metadata": {
    "collapsed": true
   },
   "outputs": [],
   "source": [
    "data = '''5 23\n",
    "2LuzC +1 1:2101216030446 2:1.807711 3:1 4:4.262680 5:4.488636 6:87.000000 7:0.000000 8:0.000000 9:0 10:0 11:3.891820 12:0 13:1 14:0 15:0 16:0 17:1 18:1 19:0 20:2 21:2.197225 22:0.000000 23:0.000000\n",
    "LmnUc +1 1:99548723068 2:3.032810 3:1 4:2.772589 5:2.708050 6:0.000000 7:0.000000 8:0.000000 9:0 10:0 11:4.727388 12:5 13:1 14:0 15:0 16:1 17:1 18:0 19:0 20:9 21:2.833213 22:0.000000 23:0.000000\n",
    "ZINTz -1 1:3030695193589 2:1.741764 3:1 4:2.708050 5:4.248495 6:0.000000 7:0.000000 8:0.000000 9:0 10:0 11:3.091042 12:1 13:1 14:0 15:0 16:0 17:1 18:1 19:0 20:5 21:2.564949 22:0.000000 23:0.000000\n",
    "gX60q +1 1:2086220371355 2:1.774193 3:1 4:3.258097 5:3.784190 6:0.000000 7:0.000000 8:0.000000 9:0 10:0 11:3.258097 12:0 13:1 14:0 15:0 16:0 17:1 18:0 19:0 20:5 21:2.995732 22:0.000000 23:0.000000\n",
    "5HG4U -1 1:352013287143 2:1.689824 3:1 4:0.000000 5:0.693147 6:0.000000 7:0.000000 8:0.000000 9:0 10:1 11:1.791759 12:0 13:1 14:1 15:0 16:1 17:0 18:0 19:0 20:4 21:2.197225 22:0.000000 23:0.000000\n",
    "2\n",
    "PdxMK 1:340674897225 2:1.744152 3:1 4:5.023881 5:7.042286 6:0.000000 7:0.000000 8:0.000000 9:0 10:0 11:3.367296 12:0 13:1 14:0 15:0 16:0 17:0 18:0 19:0 20:12 21:4.499810 22:0.000000 23:0.000000\n",
    "ehZ0a 1:2090062840058 2:1.939101 3:1 4:3.258097 5:2.995732 6:75.000000 7:0.000000 8:0.000000 9:0 10:0 11:3.433987 12:0 13:1 14:0 15:0 16:1 17:0 18:0 19:0 20:3 21:2.639057 22:0.000000 23:0.000000'''"
   ]
  },
  {
   "cell_type": "code",
   "execution_count": 2,
   "metadata": {
    "collapsed": false
   },
   "outputs": [],
   "source": [
    "data = data.split('\\n')"
   ]
  },
  {
   "cell_type": "code",
   "execution_count": null,
   "metadata": {
    "collapsed": false
   },
   "outputs": [],
   "source": [
    "from collections import defaultdict\n",
    "import pandas as pd\n",
    "import numpy as np\n",
    "import re\n",
    "from sklearn.linear_model import LogisticRegression\n",
    "from sklearn.preprocessing import StandardScaler\n",
    "from sklearn.ensemble import RandomForestClassifier"
   ]
  },
  {
   "cell_type": "code",
   "execution_count": null,
   "metadata": {
    "collapsed": false
   },
   "outputs": [],
   "source": [
    "n, m = map(int, data[0].split())\n",
    "\n",
    "rowDict = defaultdict(list)\n",
    "rowID = []\n",
    "y_train = []\n",
    "for i in range(1, n+1):\n",
    "    sData = data[i].split()\n",
    "    rowID.append(sData[0]); y_train.append(sData[1])\n",
    "    for s in sData[2:m+2]:\n",
    "        split = re.split(r':', s)\n",
    "        rowDict[int(split[0])].append(float(split[1]))\n",
    "\n",
    "train = pd.DataFrame(rowDict)\n",
    "train['rowID'] = rowID\n",
    "X_train = np.array(train[range(1,m+1)])\n",
    "\n",
    "q = int(data[n+1])\n",
    "\n",
    "trowDict = defaultdict(list)\n",
    "trowID = []\n",
    "for i in range(n+2,n+2+q):\n",
    "    sData = data[i].split()\n",
    "    trowID.append(sData[0])\n",
    "    for s in sData[1:m+1]:\n",
    "        split = re.split(r':', s)\n",
    "        trowDict[int(split[0])].append(float(split[1]))\n",
    "\n",
    "test = pd.DataFrame(trowDict)\n",
    "test['trowID'] = trowID\n",
    "X_test = np.array(test[range(1,m+1)])\n",
    "\n",
    "rf = RandomForestClassifier()\n",
    "clf = rf.fit(X_train, y_train)\n",
    "y_pred = clf.predict(X_train)\n",
    "\n",
    "for rowID, y in zip(rowID, y_pred): print rowID, y"
   ]
  },
  {
   "cell_type": "code",
   "execution_count": null,
   "metadata": {
    "collapsed": false
   },
   "outputs": [],
   "source": [
    "print clf.predict(X_test)"
   ]
  },
  {
   "cell_type": "markdown",
   "metadata": {},
   "source": [
    "<br>"
   ]
  },
  {
   "cell_type": "code",
   "execution_count": null,
   "metadata": {
    "collapsed": true
   },
   "outputs": [],
   "source": [
    "rf = RandomForestClassifier()"
   ]
  },
  {
   "cell_type": "code",
   "execution_count": null,
   "metadata": {
    "collapsed": false
   },
   "outputs": [],
   "source": [
    "clf = rf.fit(X_train, y_train)\n",
    "y_pred = clf.predict(X_test)"
   ]
  },
  {
   "cell_type": "code",
   "execution_count": null,
   "metadata": {
    "collapsed": false
   },
   "outputs": [],
   "source": [
    "for rowID, y in zip(trowID, y_pred): print rowID, y"
   ]
  },
  {
   "cell_type": "markdown",
   "metadata": {},
   "source": [
    "<br>\n",
    "<br>"
   ]
  },
  {
   "cell_type": "code",
   "execution_count": 3,
   "metadata": {
    "collapsed": false
   },
   "outputs": [
    {
     "name": "stdout",
     "output_type": "stream",
     "text": [
      "PdxMK +1\n",
      "ehZ0a +1\n"
     ]
    }
   ],
   "source": [
    "from sklearn.ensemble import RandomForestClassifier\n",
    "from sklearn.feature_extraction import DictVectorizer\n",
    "\n",
    "transformer=DictVectorizer()\n",
    "\n",
    "_train=[]\n",
    "train_label=[]\n",
    "n, m = map(int, data[0].split())\n",
    "for i in range(1, n+1):\n",
    "    a = data[i].split()\n",
    "    a.pop(0)\n",
    "    train_label.append(int(a[0]))\n",
    "    a.pop(0)\n",
    "    _train.append({int(e[0]):float(e[1]) for e in [x.split(':') for x in a]})\n",
    "\n",
    "train = transformer.fit_transform(_train).toarray()\n",
    "svm=RandomForestClassifier()\n",
    "svm.fit(train,train_label)\n",
    "\n",
    "q = int(data[n+1])\n",
    "\n",
    "test_name=[]\n",
    "_test=[]\n",
    "for i in range(n+2,n+2+q):\n",
    "    a=data[i].split()\n",
    "    test_name.append(a[0])\n",
    "    a.pop(0)\n",
    "    _test.append({int(e[0]):float(e[1]) for e in [x.split(':') for x in a]})\n",
    "\n",
    "test = transformer.transform(_test).toarray()\n",
    "test_label=svm.predict(test)\n",
    "\n",
    "for x,y in zip(test_name,test_label): print(x+' %+d'%(y,))\n"
   ]
  },
  {
   "cell_type": "code",
   "execution_count": null,
   "metadata": {
    "collapsed": false
   },
   "outputs": [],
   "source": [
    "test"
   ]
  },
  {
   "cell_type": "code",
   "execution_count": null,
   "metadata": {
    "collapsed": false
   },
   "outputs": [],
   "source": [
    "X_train[1]"
   ]
  },
  {
   "cell_type": "code",
   "execution_count": null,
   "metadata": {
    "collapsed": false
   },
   "outputs": [],
   "source": [
    "X_test"
   ]
  },
  {
   "cell_type": "code",
   "execution_count": null,
   "metadata": {
    "collapsed": true
   },
   "outputs": [],
   "source": []
  }
 ],
 "metadata": {
  "kernelspec": {
   "display_name": "Python 2",
   "language": "python",
   "name": "python2"
  },
  "language_info": {
   "codemirror_mode": {
    "name": "ipython",
    "version": 2
   },
   "file_extension": ".py",
   "mimetype": "text/x-python",
   "name": "python",
   "nbconvert_exporter": "python",
   "pygments_lexer": "ipython2",
   "version": "2.7.11"
  }
 },
 "nbformat": 4,
 "nbformat_minor": 0
}
