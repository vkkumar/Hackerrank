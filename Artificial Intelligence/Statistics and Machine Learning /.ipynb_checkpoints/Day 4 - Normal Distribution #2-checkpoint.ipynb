{
 "cells": [
  {
   "cell_type": "markdown",
   "metadata": {},
   "source": [
    "Task \n",
    "In a certain plant, the time taken to assemble a car is a random variable having a normal distribution with a mean of  20 hours and a standard deviation of 2 hours.\n",
    "\n",
    "What is the probability that a car can be assembled at this plant in:\n",
    "\n",
    "1. Less than 19.5 hours?\n",
    "2. Between 20 and 22 hours?\n",
    "\n",
    "Calculate:\n",
    "1. P(x < 19.5)\n",
    "2. P(20 < x < 22)"
   ]
  },
  {
   "cell_type": "code",
   "execution_count": 1,
   "metadata": {
    "collapsed": true
   },
   "outputs": [],
   "source": [
    "mu = 20 # hours\n",
    "sd = 2  # hours"
   ]
  },
  {
   "cell_type": "code",
   "execution_count": 3,
   "metadata": {
    "collapsed": true
   },
   "outputs": [],
   "source": [
    "import scipy.stats"
   ]
  },
  {
   "cell_type": "code",
   "execution_count": 4,
   "metadata": {
    "collapsed": false
   },
   "outputs": [
    {
     "name": "stdout",
     "output_type": "stream",
     "text": [
      "0.401\n",
      "0.341\n"
     ]
    }
   ],
   "source": [
    "print '%.3f' %(scipy.stats.norm.cdf(19.5, loc=mu, scale=sd))\n",
    "print '%.3f' %(scipy.stats.norm.cdf(22.0, loc=mu, scale=sd) - scipy.stats.norm.cdf(20.0, loc=mu, scale=sd))"
   ]
  },
  {
   "cell_type": "code",
   "execution_count": null,
   "metadata": {
    "collapsed": true
   },
   "outputs": [],
   "source": []
  }
 ],
 "metadata": {
  "kernelspec": {
   "display_name": "Python 2",
   "language": "python",
   "name": "python2"
  },
  "language_info": {
   "codemirror_mode": {
    "name": "ipython",
    "version": 2
   },
   "file_extension": ".py",
   "mimetype": "text/x-python",
   "name": "python",
   "nbconvert_exporter": "python",
   "pygments_lexer": "ipython2",
   "version": "2.7.11"
  }
 },
 "nbformat": 4,
 "nbformat_minor": 0
}
