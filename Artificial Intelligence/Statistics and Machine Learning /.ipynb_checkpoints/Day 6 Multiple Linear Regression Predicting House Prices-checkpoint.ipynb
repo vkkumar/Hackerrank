{
 "cells": [
  {
   "cell_type": "markdown",
   "metadata": {},
   "source": [
    "### Task \n",
    "Charlie wants to buy a house. He does a detailed survey of the area where he wants to live, in which he quantifies, normalizes, and maps the desirable features of houses to values on a scale of 00 to 11 so the data can be assembled into a table. If Charlie noted FF features, each row contains FF space-separated values followed by the house price in dollars per square foot (making for a total of F+1 columns). If Charlie makes observations about HH houses, his observation table has HH rows. This means that the table has a total of (F+1)×H entries.\n",
    "\n",
    "Unfortunately, he was only able to get the price per square foot for certain houses and thus needs your help estimating the prices of the rest! Given the feature and pricing data for a set of houses, help Charlie estimate the price per square foot of the houses for which he has compiled feature data but no pricing.\n",
    "\n",
    "Important Observation: The prices per square foot form an approximately linear function for the features quantified in Charlie's table. For the purposes of prediction, you need to figure out this linear function.\n",
    "\n",
    "Recommended Technique: Use a regression-based technique. At this point, you are not expected to account for bias and variance trade-offs."
   ]
  },
  {
   "cell_type": "code",
   "execution_count": 1,
   "metadata": {
    "collapsed": true
   },
   "outputs": [],
   "source": [
    "data = '''2 7\n",
    "0.18 0.89 109.85\n",
    "1.0 0.26 155.72\n",
    "0.92 0.11 137.66\n",
    "0.07 0.37 76.17\n",
    "0.85 0.16 139.75\n",
    "0.99 0.41 162.6\n",
    "0.87 0.47 151.77\n",
    "4\n",
    "0.49 0.18\n",
    "0.57 0.83\n",
    "0.56 0.64\n",
    "0.76 0.18'''"
   ]
  },
  {
   "cell_type": "markdown",
   "metadata": {},
   "source": [
    "### Input Format\n",
    "\n",
    "The first line contains 2 space-separated integers, F (the number of observed features) and N (the number of rows/houses for which Charlie has noted both the features and price per square foot). \n",
    "The N subsequent lines each contain F+1 space-separated integers describing a row in the table; the first FF elements are the noted features for a house, and the very last element is its price per square foot.\n",
    "\n",
    "The next line (following the table) contains a single integer, T, denoting the number of houses for for which Charlie noted features but does not know the price per square foot. \n",
    "The T subsequent lines each contain F space-separated integers describing the features of a house for which pricing is not known."
   ]
  },
  {
   "cell_type": "code",
   "execution_count": 2,
   "metadata": {
    "collapsed": false
   },
   "outputs": [],
   "source": [
    "data = data.split('\\n')"
   ]
  },
  {
   "cell_type": "code",
   "execution_count": 3,
   "metadata": {
    "collapsed": false
   },
   "outputs": [
    {
     "name": "stdout",
     "output_type": "stream",
     "text": [
      "105.21\n",
      "142.67\n",
      "132.94\n",
      "129.70\n"
     ]
    }
   ],
   "source": [
    "F, N = map(int, data[0].split())\n",
    "\n",
    "f1, f2, P = [], [], []\n",
    "for i in range(1,N+1):\n",
    "    fe1, fe2, p = map(float, data[i].split())\n",
    "    f1.append(fe1); f2.append(fe2), P.append(p)\n",
    "\n",
    "T = int(data[N+1])\n",
    "\n",
    "f1t, f2t = [], []\n",
    "for i in range(N+2, N+2+T):\n",
    "    fe1, fe2 = map(float, data[i].split())\n",
    "    f1t.append(fe1); f2t.append(fe2)\n",
    "\n",
    "from sklearn.linear_model import LinearRegression\n",
    "import numpy as np\n",
    "\n",
    "X = np.column_stack((f1, f2))\n",
    "y = np.array(P).reshape((len(P), 1))\n",
    "\n",
    "lr = LinearRegression()\n",
    "lrMod = lr.fit(X, y)\n",
    "\n",
    "Xt = np.column_stack((f1t, f2t))\n",
    "yt = lrMod.predict(Xt)\n",
    "\n",
    "for y in yt:\n",
    "    print '%.2f' %(y)"
   ]
  },
  {
   "cell_type": "code",
   "execution_count": null,
   "metadata": {
    "collapsed": true
   },
   "outputs": [],
   "source": [
    "from sklearn.linear_model import LinearRegression\n",
    "\n",
    "F, N = map(int, raw_input().split())\n",
    "\n",
    "X, y = [], []\n",
    "for i in xrange(N):\n",
    "    data = [float(x) for x in raw_input().split()]\n",
    "    X.append(data[:-1]); y.append(data[-1])\n",
    "\n",
    "T = int(raw_input())\n",
    "Xt = []\n",
    "for i in xrange(T):\n",
    "    data = [float(x) for x in raw_input().split()]\n",
    "    Xt.append(data)\n",
    "    \n",
    "lr = LinearRegression()\n",
    "lrMod = lr.fit(X, y)\n",
    "\n",
    "yt = lrMod.predict(Xt)\n",
    "\n",
    "for y in yt:\n",
    "    print '%.2f' %(y)"
   ]
  }
 ],
 "metadata": {
  "kernelspec": {
   "display_name": "Python 2",
   "language": "python",
   "name": "python2"
  },
  "language_info": {
   "codemirror_mode": {
    "name": "ipython",
    "version": 2
   },
   "file_extension": ".py",
   "mimetype": "text/x-python",
   "name": "python",
   "nbconvert_exporter": "python",
   "pygments_lexer": "ipython2",
   "version": "2.7.11"
  }
 },
 "nbformat": 4,
 "nbformat_minor": 0
}
