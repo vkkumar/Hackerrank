{
 "cells": [
  {
   "cell_type": "code",
   "execution_count": null,
   "metadata": {
    "collapsed": true
   },
   "outputs": [],
   "source": [
    "phyScores  = 'Physics Scores  15  12  8   8   7   7   7   6   5   3'.split()\n",
    "histScores = 'History Scores  10  25  17  11  13  17  20  13  9   15'.split()\n",
    "\n",
    "pS = map(int, [score for score in phyScores[2:]])\n",
    "hS = map(int, [score for score in histScores[2:]])"
   ]
  },
  {
   "cell_type": "code",
   "execution_count": 8,
   "metadata": {
    "collapsed": false
   },
   "outputs": [
    {
     "name": "stdout",
     "output_type": "stream",
     "text": [
      "0.208\n"
     ]
    }
   ],
   "source": [
    "from scipy import stats\n",
    "slope, intercept, r_value, p_value, std_err = stats.linregress(pS, hS)\n",
    "\n",
    "print '{:.3f}'.format(slope)"
   ]
  },
  {
   "cell_type": "code",
   "execution_count": null,
   "metadata": {
    "collapsed": true
   },
   "outputs": [],
   "source": [
    "from math import sqrt\n",
    "n = float(len(pS))"
   ]
  },
  {
   "cell_type": "code",
   "execution_count": 10,
   "metadata": {
    "collapsed": true
   },
   "outputs": [],
   "source": [
    "# Mean calculation\n",
    "muY = sum(pS)/n\n",
    "muX = sum(hS)/n"
   ]
  },
  {
   "cell_type": "code",
   "execution_count": 11,
   "metadata": {
    "collapsed": true
   },
   "outputs": [],
   "source": [
    "# Covariance calculation\n",
    "covXY = (1/float(n))*sum([(x - muX)*(y - muY) for x in pS for y in hS])"
   ]
  },
  {
   "cell_type": "code",
   "execution_count": 9,
   "metadata": {
    "collapsed": false
   },
   "outputs": [
    {
     "name": "stdout",
     "output_type": "stream",
     "text": [
      "0.070\n"
     ]
    }
   ],
   "source": [
    "# correlation calculation\n",
    "sumProdXY = sum(x*y for x, y in zip(pS, hS))\n",
    "sumXpsumY = sum(pS)*sum(hS)\n",
    "devX = sqrt(n*sum(x**2 for x in pS) - sum(pS)**2)\n",
    "devY = sqrt(n*sum(y**2 for y in hS) - sum(hS)**2)\n",
    "r_xy = (n*sumProdXY - sumXpsumY)/(devX*devY)\n",
    "\n",
    "\n",
    "sdY   = sum((y - muY)**2/(n -1) for y in pS)\n",
    "sdX   = sum((x - muX)**2/(n -1) for x in hS)\n",
    "\n",
    "beta = r_xy *(sdY/sdX)\n",
    "\n",
    "print '%.3f' %(beta)"
   ]
  },
  {
   "cell_type": "code",
   "execution_count": null,
   "metadata": {
    "collapsed": true
   },
   "outputs": [],
   "source": []
  }
 ],
 "metadata": {
  "kernelspec": {
   "display_name": "Python 2",
   "language": "python",
   "name": "python2"
  },
  "language_info": {
   "codemirror_mode": {
    "name": "ipython",
    "version": 2
   },
   "file_extension": ".py",
   "mimetype": "text/x-python",
   "name": "python",
   "nbconvert_exporter": "python",
   "pygments_lexer": "ipython2",
   "version": "2.7.11"
  }
 },
 "nbformat": 4,
 "nbformat_minor": 0
}
