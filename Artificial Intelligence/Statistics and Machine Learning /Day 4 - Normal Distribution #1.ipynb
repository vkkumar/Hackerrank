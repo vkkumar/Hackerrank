{
 "cells": [
  {
   "cell_type": "markdown",
   "metadata": {},
   "source": [
    "X is a normally distributed variable with a mean of μ=30 and a standard deviation of σ=4. Find:\n",
    "* P(x<40)\n",
    "* P(x>21)\n",
    "* P(30<x<35)"
   ]
  },
  {
   "cell_type": "code",
   "execution_count": 14,
   "metadata": {
    "collapsed": true
   },
   "outputs": [],
   "source": [
    "import numpy as np\n",
    "from math import sqrt, erfc, exp, pi\n",
    "import scipy.stats\n",
    "from IPython.display import Image\n",
    "from IPython.display import display"
   ]
  },
  {
   "cell_type": "markdown",
   "metadata": {},
   "source": [
    "### From Scipy API..."
   ]
  },
  {
   "cell_type": "code",
   "execution_count": 15,
   "metadata": {
    "collapsed": false
   },
   "outputs": [
    {
     "name": "stdout",
     "output_type": "stream",
     "text": [
      "0.994\n",
      "0.988\n",
      "0.394\n"
     ]
    }
   ],
   "source": [
    "print '%.3f' %scipy.stats.norm.cdf(40, loc=30, scale=4)\n",
    "print '%.3f' %(1 - scipy.stats.norm.cdf(21, loc=30, scale=4))\n",
    "print '%.3f' %(scipy.stats.norm.cdf(35, loc=30, scale=4) - scipy.stats.norm.cdf(30, loc=30, scale=4))"
   ]
  },
  {
   "cell_type": "code",
   "execution_count": 16,
   "metadata": {
    "collapsed": false
   },
   "outputs": [
    {
     "data": {
      "text/html": [
       "<img src=\"https://upload.wikimedia.org/math/b/8/5/b8525313480be649bed306ba81018709.png\"/>"
      ],
      "text/plain": [
       "<IPython.core.display.Image object>"
      ]
     },
     "metadata": {},
     "output_type": "display_data"
    }
   ],
   "source": [
    "display(Image(url='https://upload.wikimedia.org/math/b/8/5/b8525313480be649bed306ba81018709.png'))"
   ]
  },
  {
   "cell_type": "code",
   "execution_count": null,
   "metadata": {
    "collapsed": true
   },
   "outputs": [],
   "source": []
  }
 ],
 "metadata": {
  "kernelspec": {
   "display_name": "Python 2",
   "language": "python",
   "name": "python2"
  },
  "language_info": {
   "codemirror_mode": {
    "name": "ipython",
    "version": 2
   },
   "file_extension": ".py",
   "mimetype": "text/x-python",
   "name": "python",
   "nbconvert_exporter": "python",
   "pygments_lexer": "ipython2",
   "version": "2.7.11"
  }
 },
 "nbformat": 4,
 "nbformat_minor": 0
}
