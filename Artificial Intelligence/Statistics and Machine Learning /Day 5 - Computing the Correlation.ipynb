{
 "cells": [
  {
   "cell_type": "code",
   "execution_count": 1,
   "metadata": {
    "collapsed": false
   },
   "outputs": [
    {
     "name": "stdout",
     "output_type": "stream",
     "text": [
      "\n"
     ]
    },
    {
     "data": {
      "text/html": [
       "<img src=\"http://upload.wikimedia.org/math/c/a/6/ca68fbe94060a2591924b380c9bc4e27.png\"/>"
      ],
      "text/plain": [
       "<IPython.core.display.Image object>"
      ]
     },
     "metadata": {},
     "output_type": "display_data"
    },
    {
     "name": "stdout",
     "output_type": "stream",
     "text": [
      "\n"
     ]
    }
   ],
   "source": [
    "from IPython.display import display, Image\n",
    "print\n",
    "display(Image(url = 'http://upload.wikimedia.org/math/c/a/6/ca68fbe94060a2591924b380c9bc4e27.png'))\n",
    "print"
   ]
  },
  {
   "cell_type": "code",
   "execution_count": 2,
   "metadata": {
    "collapsed": true
   },
   "outputs": [],
   "source": [
    "from math import sqrt"
   ]
  },
  {
   "cell_type": "code",
   "execution_count": 3,
   "metadata": {
    "collapsed": true
   },
   "outputs": [],
   "source": [
    "data = '''20\n",
    "73  72  76\n",
    "48  67  76\n",
    "95  92  95\n",
    "95  95  96\n",
    "33  59  79\n",
    "47  58  74\n",
    "98  95  97\n",
    "91  94  97\n",
    "95  84  90\n",
    "93  83  90\n",
    "70  70  78\n",
    "85  79  91\n",
    "33  67  76\n",
    "47  73  90\n",
    "95  87  95\n",
    "84  86  95\n",
    "43  63  75\n",
    "95  92  100\n",
    "54  80  87\n",
    "72  76  90'''"
   ]
  },
  {
   "cell_type": "code",
   "execution_count": 4,
   "metadata": {
    "collapsed": false
   },
   "outputs": [],
   "source": [
    "data = data.split('\\n')"
   ]
  },
  {
   "cell_type": "code",
   "execution_count": 5,
   "metadata": {
    "collapsed": false
   },
   "outputs": [
    {
     "name": "stdout",
     "output_type": "stream",
     "text": [
      "0.89\n",
      "0.93\n",
      "0.81\n"
     ]
    }
   ],
   "source": [
    "N = int(data[0])\n",
    "M = []\n",
    "P = []\n",
    "C = []\n",
    "for i in range(1,N):\n",
    "    marks = data[i].split()\n",
    "    m, p, c = int(marks[0]), int(marks[1]), int(marks[2])\n",
    "    M.append(m)\n",
    "    P.append(p)\n",
    "    C.append(c)\n",
    "\n",
    "def corr(a, b):\n",
    "    n = float(len(M))\n",
    "    sumProdXY = sum(x*y for x, y in zip(a, b))\n",
    "    sumXpsumY = sum(a)*sum(b)\n",
    "    devX = sqrt(n*sum(x**2 for x in a) - sum(a)**2)\n",
    "    devY = sqrt(n*sum(y**2 for y in b) - sum(b)**2)\n",
    "    r_xy = (n*sumProdXY - sumXpsumY)/(devX*devY)\n",
    "    return r_xy\n",
    "\n",
    "print '%.2f' %(corr(M, P))\n",
    "print '%.2f' %(corr(P, C))\n",
    "print '%.2f' %(corr(C, M))"
   ]
  }
 ],
 "metadata": {
  "kernelspec": {
   "display_name": "Python 2",
   "language": "python",
   "name": "python2"
  },
  "language_info": {
   "codemirror_mode": {
    "name": "ipython",
    "version": 2
   },
   "file_extension": ".py",
   "mimetype": "text/x-python",
   "name": "python",
   "nbconvert_exporter": "python",
   "pygments_lexer": "ipython2",
   "version": "2.7.11"
  }
 },
 "nbformat": 4,
 "nbformat_minor": 0
}
